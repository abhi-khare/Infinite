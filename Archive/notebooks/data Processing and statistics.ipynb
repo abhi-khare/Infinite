{
 "cells": [
  {
   "cell_type": "code",
   "execution_count": 2,
   "metadata": {},
   "outputs": [],
   "source": [
    "import pandas as pd\n",
    "from collections import Counter\n",
    "import matplotlib.pyplot as plt\n",
    "import seaborn as sns\n",
    "import numpy as np\n",
    "import random\n",
    "from functools import reduce\n",
    "import pickle"
   ]
  },
  {
   "cell_type": "markdown",
   "metadata": {},
   "source": [
    "# Dataset statistics"
   ]
  },
  {
   "cell_type": "code",
   "execution_count": 3,
   "metadata": {},
   "outputs": [],
   "source": [
    "train_EN = pd.read_csv('../../data/multiATIS/raw/train_dev_test/train_EN.tsv',sep='\\t')\n",
    "#train_FR = pd.read_csv('../data/raw/train_dev_test/train_FR.tsv',sep='\\t')\n",
    "#train_DE = pd.read_csv('../data/raw/train_dev_test/train_DE.tsv',sep='\\t')\n",
    "#train_ES = pd.read_csv('../data/raw/train_dev_test/train_ES.tsv',sep='\\t')"
   ]
  },
  {
   "cell_type": "code",
   "execution_count": 3,
   "metadata": {},
   "outputs": [],
   "source": [
    "dev_EN = pd.read_csv('../data/raw/train_dev_test/dev_EN.tsv',sep='\\t')\n",
    "dev_FR = pd.read_csv('../data/raw/train_dev_test/dev_FR.tsv',sep='\\t')\n",
    "dev_DE = pd.read_csv('../data/raw/train_dev_test/dev_DE.tsv',sep='\\t')\n",
    "dev_ES = pd.read_csv('../data/raw/train_dev_test/dev_ES.tsv',sep='\\t')"
   ]
  },
  {
   "cell_type": "code",
   "execution_count": 5,
   "metadata": {},
   "outputs": [],
   "source": [
    "# freq dist of classes in trainset and devset\n",
    "trainIntent = Counter(train_EN.intent)\n",
    "#devIntent = Counter(dev_EN.intent)"
   ]
  },
  {
   "cell_type": "code",
   "execution_count": 7,
   "metadata": {},
   "outputs": [
    {
     "name": "stdout",
     "output_type": "stream",
     "text": [
      "Classes in trainset: Counter({'atis_flight': 3300, 'atis_airfare': 381, 'atis_ground_service': 230, 'atis_airline': 142, 'atis_abbreviation': 133, 'atis_aircraft': 73, 'atis_flight_time': 49, 'atis_quantity': 46, 'atis_flight#atis_airfare': 19, 'atis_distance': 18, 'atis_airport': 18, 'atis_city': 18, 'atis_ground_fare': 17, 'atis_capacity': 15, 'atis_flight_no': 11, 'atis_restriction': 6, 'atis_meal': 6, 'atis_airline#atis_flight_no': 2, 'atis_ground_service#atis_ground_fare': 1, 'atis_airfare#atis_flight_time': 1, 'atis_cheapest': 1, 'atis_aircraft#atis_flight#atis_flight_no': 1})\n"
     ]
    }
   ],
   "source": [
    "print('Classes in trainset:',trainIntent)\n",
    "#print('\\n\\nClasses in devset:',devIntent)"
   ]
  },
  {
   "cell_type": "code",
   "execution_count": 11,
   "metadata": {},
   "outputs": [],
   "source": [
    "#train_EN['TEXT'] = train_EN['TEXT'].str.lower()\n",
    "#train_DE['utterance'] = train_DE['utterance'].str.lower()\n",
    "#train_ES['utterance'] = train_ES['utterance'].str.lower()\n",
    "train_EN['utterance'] = train_EN['utterance'].str.lower()\n",
    "\n",
    "#dev_FR['utterance'] = dev_FR['utterance'].str.lower()\n",
    "#dev_DE['utterance'] = dev_DE['utterance'].str.lower()\n",
    "#dev_ES['utterance'] = dev_ES['utterance'].str.lower()\n",
    "#dev_EN['utterance'] = dev_EN['utterance'].str.lower()"
   ]
  },
  {
   "cell_type": "code",
   "execution_count": 12,
   "metadata": {},
   "outputs": [],
   "source": [
    "train_replace_dict = {'atis_flight#atis_airfare': 'atis_airfare', \n",
    "                                     'atis_ground_service#atis_ground_fare': 'atis_ground_fare',\n",
    "                                     'atis_aircraft#atis_flight#atis_flight_no': 'atis_flight_no',\n",
    "                                     'atis_airfare#atis_flight_time':'atis_flight_time',\n",
    "                                     'atis_airline#atis_flight_no':'atis_flight_no'}\n",
    "dev_replace_dict = {'atis_flight#atis_airfare': 'atis_airfare'}"
   ]
  },
  {
   "cell_type": "code",
   "execution_count": 13,
   "metadata": {},
   "outputs": [],
   "source": [
    "# remapping classes \n",
    "train_EN['intent'] = train_EN['intent'].replace(train_replace_dict)\n",
    "#train_FR['intent'] = train_FR['intent'].replace(train_replace_dict)\n",
    "#train_ES['intent'] = train_ES['intent'].replace(train_replace_dict)\n",
    "#train_DE['intent'] = train_DE['intent'].replace(train_replace_dict)\n",
    "\n",
    "#dev_EN['intent'] = dev_EN['intent'].replace(dev_replace_dict)\n",
    "#dev_FR['intent'] = dev_FR['intent'].replace(dev_replace_dict)\n",
    "#dev_ES['intent'] = dev_ES['intent'].replace(dev_replace_dict)\n",
    "#dev_DE['intent'] = dev_DE['intent'].replace(dev_replace_dict)"
   ]
  },
  {
   "cell_type": "code",
   "execution_count": 15,
   "metadata": {},
   "outputs": [
    {
     "name": "stdout",
     "output_type": "stream",
     "text": [
      "Classes in trainset: dict_keys(['atis_airfare', 'atis_flight_no', 'atis_flight', 'atis_capacity', 'atis_quantity', 'atis_distance', 'atis_restriction', 'atis_aircraft', 'atis_meal', 'atis_ground_fare', 'atis_airport', 'atis_flight_time', 'atis_ground_service', 'atis_cheapest', 'atis_abbreviation', 'atis_airline', 'atis_city'])\n"
     ]
    }
   ],
   "source": [
    "trainIntent = Counter(train_EN.intent)\n",
    "#devIntent = Counter(dev_EN.intent)\n",
    "print('Classes in trainset:',trainIntent.keys())\n",
    "#print('\\n\\nClasses in devset:',devIntent)"
   ]
  },
  {
   "cell_type": "code",
   "execution_count": 11,
   "metadata": {},
   "outputs": [
    {
     "name": "stdout",
     "output_type": "stream",
     "text": [
      "dict_keys(['atis_airfare', 'atis_flight_no', 'atis_flight', 'atis_capacity', 'atis_quantity', 'atis_distance', 'atis_restriction', 'atis_aircraft', 'atis_meal', 'atis_ground_fare', 'atis_airport', 'atis_flight_time', 'atis_ground_service', 'atis_cheapest', 'atis_abbreviation', 'atis_airline', 'atis_city']) 17\n"
     ]
    }
   ],
   "source": [
    "# generating global intent mapping to idx.\n",
    "\n",
    "intent_list = list(train_EN.intent.unique()) #list(set(list(train_EN.intent.unique())+ list(train_FR.intent.unique())))\n",
    "map_intent_idx = { intent:idx for idx,intent in enumerate(intent_list)} \n",
    "# handling OOI\n",
    "#map_intent_idx['OOI'] = len(map_intent_idx.keys()) \n",
    "print(map_intent_idx.keys(),len(map_intent_idx.keys()))"
   ]
  },
  {
   "cell_type": "code",
   "execution_count": 12,
   "metadata": {},
   "outputs": [
    {
     "name": "stdout",
     "output_type": "stream",
     "text": [
      "159\n"
     ]
    }
   ],
   "source": [
    "#generating global mapping from slot to idx.\n",
    "slots = []\n",
    "for annotations in list(train_EN.slot_labels.unique()):\n",
    "    ann = annotations.replace('B-','')\n",
    "    ann = ann.replace('I-','')\n",
    "    slots += ann.split()\n",
    "\n",
    "slots = list(set(slots))\n",
    "final_slots = []\n",
    "for s in slots:\n",
    "    if s != 'O':\n",
    "        #print('B-'+s , 'I-'+s)\n",
    "        final_slots += ['B-'+s , 'I-'+s]\n",
    "    else:\n",
    "        final_slots.append('O')\n",
    "\n",
    "map_slots_idx  = {slots:idx for idx,slots in enumerate(final_slots)}\n",
    "print(len(map_slots_idx.keys()))"
   ]
  },
  {
   "cell_type": "code",
   "execution_count": 68,
   "metadata": {},
   "outputs": [],
   "source": [
    "map_idx_slots = {v: k for k, v in map_slots_idx.items()}"
   ]
  },
  {
   "cell_type": "code",
   "execution_count": 70,
   "metadata": {},
   "outputs": [],
   "source": [
    "with open('map_ids_slots.pickle', 'wb') as handle:\n",
    "    pickle.dump(map_idx_slots, handle, protocol=pickle.HIGHEST_PROTOCOL)"
   ]
  },
  {
   "cell_type": "code",
   "execution_count": 57,
   "metadata": {},
   "outputs": [
    {
     "data": {
      "text/plain": [
       "82"
      ]
     },
     "execution_count": 57,
     "metadata": {},
     "output_type": "execute_result"
    }
   ],
   "source": [
    "map_slots_idx['O']"
   ]
  },
  {
   "cell_type": "code",
   "execution_count": 40,
   "metadata": {},
   "outputs": [],
   "source": [
    "def processing_mapping(df,map_intent_idx,map_slots_idx,fn):\n",
    "    # data processing and encoding.\n",
    "    #lowercasing utterance column text\n",
    "    #df = df.utterance.str.lower()\n",
    "    del df['id']\n",
    "\n",
    "    # adding intent encoding\n",
    "    encoded_intent = []\n",
    "    for intent in list(df.intent):\n",
    "        try:\n",
    "            encoded_intent.append(map_intent_idx[intent])\n",
    "        except:\n",
    "            print(intent)\n",
    "            encoded_intent.append(map_intent_idx['OOI'])\n",
    "            \n",
    "        \n",
    "    df['intent_ID'] = encoded_intent \n",
    "\n",
    "    # adding mapped slot column\n",
    "    slots_ID = []\n",
    "\n",
    "    for annotations in list(df.slot_labels):\n",
    "        encoded_slot = \"\"\n",
    "        #print((annotations.split()))\n",
    "        for tokens in annotations.split():\n",
    "            try: \n",
    "                encoded_slot += str(map_slots_idx[tokens]) + \" \"\n",
    "            except:\n",
    "                print('token',tokens,fn)\n",
    "                encoded_slot += str(map_slots_idx['O'])\n",
    "        slots_ID.append(\" \".join(encoded_slot.split()))\n",
    "\n",
    "    df['slots_ID'] = slots_ID\n",
    "    \n",
    "    return df"
   ]
  },
  {
   "cell_type": "code",
   "execution_count": 41,
   "metadata": {},
   "outputs": [],
   "source": [
    "train_EN = processing_mapping(train_EN,map_intent_idx,map_slots_idx,'tr_en')\n",
    "train_FR = processing_mapping(train_FR,map_intent_idx,map_slots_idx,'tr_fr')\n",
    "train_DE = processing_mapping(train_DE,map_intent_idx,map_slots_idx,'tr_de')\n",
    "train_ES = processing_mapping(train_ES,map_intent_idx,map_slots_idx,'tr_es')\n",
    "\n",
    "dev_EN = processing_mapping(dev_EN,map_intent_idx,map_slots_idx,'dev_en')\n",
    "dev_FR = processing_mapping(dev_FR,map_intent_idx,map_slots_idx,'dev_fr')\n",
    "dev_ES = processing_mapping(dev_ES,map_intent_idx,map_slots_idx,'dev_es')\n",
    "dev_DE = processing_mapping(dev_DE,map_intent_idx,map_slots_idx,'dev_de')"
   ]
  },
  {
   "cell_type": "code",
   "execution_count": 42,
   "metadata": {},
   "outputs": [
    {
     "data": {
      "text/html": [
       "<div>\n",
       "<style scoped>\n",
       "    .dataframe tbody tr th:only-of-type {\n",
       "        vertical-align: middle;\n",
       "    }\n",
       "\n",
       "    .dataframe tbody tr th {\n",
       "        vertical-align: top;\n",
       "    }\n",
       "\n",
       "    .dataframe thead th {\n",
       "        text-align: right;\n",
       "    }\n",
       "</style>\n",
       "<table border=\"1\" class=\"dataframe\">\n",
       "  <thead>\n",
       "    <tr style=\"text-align: right;\">\n",
       "      <th></th>\n",
       "      <th>utterance</th>\n",
       "      <th>slot_labels</th>\n",
       "      <th>intent</th>\n",
       "      <th>intent_ID</th>\n",
       "      <th>slots_ID</th>\n",
       "    </tr>\n",
       "  </thead>\n",
       "  <tbody>\n",
       "    <tr>\n",
       "      <th>0</th>\n",
       "      <td>was kostet der american airlines -flug 71 von ...</td>\n",
       "      <td>O O O B-airline_name I-airline_name O B-flight...</td>\n",
       "      <td>atis_airfare</td>\n",
       "      <td>0</td>\n",
       "      <td>82 82 82 149 150 82 2 82 38 82 155 156</td>\n",
       "    </tr>\n",
       "    <tr>\n",
       "      <th>1</th>\n",
       "      <td>kannst du mir den günstigsten tarif von atlant...</td>\n",
       "      <td>O O O O B-cost_relative O O B-fromloc.city_nam...</td>\n",
       "      <td>atis_airfare</td>\n",
       "      <td>0</td>\n",
       "      <td>82 82 82 82 87 82 82 38 82 155 82 95 103 82</td>\n",
       "    </tr>\n",
       "    <tr>\n",
       "      <th>2</th>\n",
       "      <td>was kostet der flug dl 106 von philadelphia na...</td>\n",
       "      <td>O O O O B-airline_code B-flight_number O B-fro...</td>\n",
       "      <td>atis_airfare</td>\n",
       "      <td>0</td>\n",
       "      <td>82 82 82 82 91 2 82 38 82 155</td>\n",
       "    </tr>\n",
       "    <tr>\n",
       "      <th>3</th>\n",
       "      <td>was ist der günstigste tarif für einen hin- un...</td>\n",
       "      <td>O O O B-cost_relative O O O B-round_trip I-rou...</td>\n",
       "      <td>atis_airfare</td>\n",
       "      <td>0</td>\n",
       "      <td>82 82 82 87 82 82 82 46 47 47 82 82 38 82 155 156</td>\n",
       "    </tr>\n",
       "    <tr>\n",
       "      <th>4</th>\n",
       "      <td>was ist der tarif von boston nach oakland mit ...</td>\n",
       "      <td>O O O O O B-fromloc.city_name O B-toloc.city_n...</td>\n",
       "      <td>atis_airfare</td>\n",
       "      <td>0</td>\n",
       "      <td>82 82 82 82 82 38 82 155 82 149 150</td>\n",
       "    </tr>\n",
       "    <tr>\n",
       "      <th>...</th>\n",
       "      <td>...</td>\n",
       "      <td>...</td>\n",
       "      <td>...</td>\n",
       "      <td>...</td>\n",
       "      <td>...</td>\n",
       "    </tr>\n",
       "    <tr>\n",
       "      <th>4483</th>\n",
       "      <td>bitte zeige mir die flugzeiten von newark nach...</td>\n",
       "      <td>O O O O B-flight_time O B-fromloc.city_name O ...</td>\n",
       "      <td>atis_flight_time</td>\n",
       "      <td>11</td>\n",
       "      <td>82 82 82 82 111 82 38 82 155</td>\n",
       "    </tr>\n",
       "    <tr>\n",
       "      <th>4484</th>\n",
       "      <td>ich möchte die uhrzeit des spätesten fluges wi...</td>\n",
       "      <td>O O O B-flight_time O B-flight_mod O O O O O B...</td>\n",
       "      <td>atis_flight_time</td>\n",
       "      <td>11</td>\n",
       "      <td>82 82 82 111 82 58 82 82 82 82 82 38 82 155 15...</td>\n",
       "    </tr>\n",
       "    <tr>\n",
       "      <th>4485</th>\n",
       "      <td>um wie viel uhr gibt es den letzten flug von w...</td>\n",
       "      <td>O O O B-flight_time O O O B-flight_mod O O B-f...</td>\n",
       "      <td>atis_flight_time</td>\n",
       "      <td>11</td>\n",
       "      <td>82 82 82 111 82 82 82 58 82 82 38 82 155 156</td>\n",
       "    </tr>\n",
       "    <tr>\n",
       "      <th>4486</th>\n",
       "      <td>in ordnung, zeige mir die flugzeiten morgens a...</td>\n",
       "      <td>O O O O O B-flight_time B-depart_time.period_o...</td>\n",
       "      <td>atis_flight_time</td>\n",
       "      <td>11</td>\n",
       "      <td>82 82 82 82 82 111 52 82 95 103 82 38 82 155 156</td>\n",
       "    </tr>\n",
       "    <tr>\n",
       "      <th>4487</th>\n",
       "      <td>kannst du mir die uhrzeit sagen, zu der ein fl...</td>\n",
       "      <td>O O O O B-flight_time O O O O O O B-fromloc.ci...</td>\n",
       "      <td>atis_flight_time</td>\n",
       "      <td>11</td>\n",
       "      <td>82 82 82 82 111 82 82 82 82 82 82 38 82 155 82...</td>\n",
       "    </tr>\n",
       "  </tbody>\n",
       "</table>\n",
       "<p>4488 rows × 5 columns</p>\n",
       "</div>"
      ],
      "text/plain": [
       "                                              utterance  \\\n",
       "0     was kostet der american airlines -flug 71 von ...   \n",
       "1     kannst du mir den günstigsten tarif von atlant...   \n",
       "2     was kostet der flug dl 106 von philadelphia na...   \n",
       "3     was ist der günstigste tarif für einen hin- un...   \n",
       "4     was ist der tarif von boston nach oakland mit ...   \n",
       "...                                                 ...   \n",
       "4483  bitte zeige mir die flugzeiten von newark nach...   \n",
       "4484  ich möchte die uhrzeit des spätesten fluges wi...   \n",
       "4485  um wie viel uhr gibt es den letzten flug von w...   \n",
       "4486  in ordnung, zeige mir die flugzeiten morgens a...   \n",
       "4487  kannst du mir die uhrzeit sagen, zu der ein fl...   \n",
       "\n",
       "                                            slot_labels            intent  \\\n",
       "0     O O O B-airline_name I-airline_name O B-flight...      atis_airfare   \n",
       "1     O O O O B-cost_relative O O B-fromloc.city_nam...      atis_airfare   \n",
       "2     O O O O B-airline_code B-flight_number O B-fro...      atis_airfare   \n",
       "3     O O O B-cost_relative O O O B-round_trip I-rou...      atis_airfare   \n",
       "4     O O O O O B-fromloc.city_name O B-toloc.city_n...      atis_airfare   \n",
       "...                                                 ...               ...   \n",
       "4483  O O O O B-flight_time O B-fromloc.city_name O ...  atis_flight_time   \n",
       "4484  O O O B-flight_time O B-flight_mod O O O O O B...  atis_flight_time   \n",
       "4485  O O O B-flight_time O O O B-flight_mod O O B-f...  atis_flight_time   \n",
       "4486  O O O O O B-flight_time B-depart_time.period_o...  atis_flight_time   \n",
       "4487  O O O O B-flight_time O O O O O O B-fromloc.ci...  atis_flight_time   \n",
       "\n",
       "      intent_ID                                           slots_ID  \n",
       "0             0             82 82 82 149 150 82 2 82 38 82 155 156  \n",
       "1             0        82 82 82 82 87 82 82 38 82 155 82 95 103 82  \n",
       "2             0                      82 82 82 82 91 2 82 38 82 155  \n",
       "3             0  82 82 82 87 82 82 82 46 47 47 82 82 38 82 155 156  \n",
       "4             0                82 82 82 82 82 38 82 155 82 149 150  \n",
       "...         ...                                                ...  \n",
       "4483         11                       82 82 82 82 111 82 38 82 155  \n",
       "4484         11  82 82 82 111 82 58 82 82 82 82 82 38 82 155 15...  \n",
       "4485         11       82 82 82 111 82 82 82 58 82 82 38 82 155 156  \n",
       "4486         11   82 82 82 82 82 111 52 82 95 103 82 38 82 155 156  \n",
       "4487         11  82 82 82 82 111 82 82 82 82 82 82 38 82 155 82...  \n",
       "\n",
       "[4488 rows x 5 columns]"
      ]
     },
     "execution_count": 42,
     "metadata": {},
     "output_type": "execute_result"
    }
   ],
   "source": [
    "train_DE"
   ]
  },
  {
   "cell_type": "code",
   "execution_count": 59,
   "metadata": {},
   "outputs": [],
   "source": [
    "# saving merged dataset for multi-lingual nlu modelling.\n",
    "train_dataset_1 = pd.concat([train_EN,train_DE,train_ES,train_FR])\n",
    "train_dataset_1['language'] = ['en']*len(train_EN)+['de']*len(train_DE)+['es']*len(train_ES)+['fr']*len(train_FR)\n",
    "\n",
    "dev_dataset_1 = pd.concat([dev_EN,dev_DE,dev_ES,dev_FR])\n",
    "dev_dataset_1['language'] = ['en']*len(dev_EN)+['de']*len(dev_DE)+['es']*len(dev_ES)+['fr']*len(dev_FR)\n",
    "\n",
    "train_dataset_1['ID'] = range(len(train_dataset_1))\n",
    "train_dataset_1.set_index('ID',inplace=True)\n",
    "\n",
    "dev_dataset_1['ID'] = range(len(dev_dataset_1))\n",
    "dev_dataset_1.set_index('ID',inplace=True)\n",
    "# writing dataframe to a file\n",
    "train_dataset_1.to_csv('../data/splits/multi-train.tsv',sep='\\t',index=False)\n",
    "dev_dataset_1.to_csv('../data/splits/multi-dev.tsv',sep='\\t',index=False)"
   ]
  },
  {
   "cell_type": "code",
   "execution_count": 25,
   "metadata": {},
   "outputs": [],
   "source": [
    "# saving isolated dataset\n",
    "train_EN.to_csv('../data/splits/train_EN.tsv',sep='\\t',index=False)\n",
    "train_ES.to_csv('../data/splits/train_ES.tsv',sep='\\t',index=False)\n",
    "train_DE.to_csv('../data/splits/train_DE.tsv',sep='\\t',index=False)\n",
    "train_FR.to_csv('../data/splits/train_FR.tsv',sep='\\t',index=False)\n",
    "\n",
    "dev_EN.to_csv('../data/splits/dev_EN.tsv',sep='\\t',index=False)\n",
    "dev_ES.to_csv('../data/splits/dev_ES.tsv',sep='\\t',index=False)\n",
    "dev_DE.to_csv('../data/splits/dev_DE.tsv',sep='\\t',index=False)\n",
    "dev_FR.to_csv('../data/splits/dev_FR.tsv',sep='\\t',index=False)"
   ]
  },
  {
   "cell_type": "code",
   "execution_count": 75,
   "metadata": {},
   "outputs": [
    {
     "name": "stdout",
     "output_type": "stream",
     "text": [
      "17952 1960\n"
     ]
    }
   ],
   "source": [
    "multi_train = pd.read_csv('../data/splits/multi-train.tsv',sep='\\t')\n",
    "multi_train = multi_train.sample(frac=1)\n",
    "multi_train\n",
    "\n",
    "multi_dev = pd.read_csv('../data/splits/multi-dev.tsv',sep='\\t')\n",
    "multi_dev = multi_dev.sample(frac=1)\n",
    "multi_dev\n",
    "\n",
    "multi_train.to_csv('../data/splits/multi-train.tsv',sep='\\t',index=False)\n",
    "multi_dev.to_csv('../data/splits/multi-dev.tsv',sep='\\t',index=False)\n",
    "print(len(multi_train),len(multi_dev))"
   ]
  },
  {
   "cell_type": "markdown",
   "metadata": {},
   "source": [
    "# Generating testset for tsne plot"
   ]
  },
  {
   "cell_type": "code",
   "execution_count": null,
   "metadata": {},
   "outputs": [],
   "source": [
    "testEN = pd.read_csv('../data/raw/train_dev_test/test_EN.tsv', sep='\\t')\n",
    "testEN = testEN.rename(columns={\"id\": \"id_EN\", \"utterance\": \"utterance_EN\" , \"slot_labels\":\"slot_labels_EN\" , \"intent\":\"intent_EN\"})\n",
    "testFR = pd.read_csv('../data/raw/train_dev_test/test_FR.tsv', sep='\\t')\n",
    "testFR = testFR.rename(columns={\"id\": \"id_FR\", \"utterance\": \"utterance_FR\" , \"slot_labels\":\"slot_labels_FR\" , \"intent\":\"intent_FR\"})"
   ]
  },
  {
   "cell_type": "code",
   "execution_count": null,
   "metadata": {},
   "outputs": [],
   "source": [
    "testEN"
   ]
  },
  {
   "cell_type": "code",
   "execution_count": null,
   "metadata": {},
   "outputs": [],
   "source": [
    "testFR"
   ]
  },
  {
   "cell_type": "code",
   "execution_count": null,
   "metadata": {},
   "outputs": [],
   "source": [
    "testData = pd.concat([testEN,testFR],axis=1)\n",
    "testData = testData[['id_EN','utterance_EN','slot_labels_EN','intent_EN','utterance_FR','slot_labels_FR']]"
   ]
  },
  {
   "cell_type": "code",
   "execution_count": null,
   "metadata": {},
   "outputs": [],
   "source": [
    "testData"
   ]
  },
  {
   "cell_type": "code",
   "execution_count": null,
   "metadata": {},
   "outputs": [],
   "source": [
    "testData['intent_EN'] = testData['intent_EN'].replace({'atis_flight#atis_airfare': 'atis_airfare',\n",
    "                                              'atis_airfare#atis_flight' : 'atis_airfare',\n",
    "                                              'atis_flight_no#atis_airline' : 'atis_flight_no',\n",
    "                                               'atis_flight#atis_airline' : 'atis_airline'})"
   ]
  },
  {
   "cell_type": "code",
   "execution_count": null,
   "metadata": {},
   "outputs": [],
   "source": [
    "testData"
   ]
  },
  {
   "cell_type": "code",
   "execution_count": null,
   "metadata": {},
   "outputs": [],
   "source": [
    "data_dict = { intent : [] for intent in testData.intent_EN.unique()}\n",
    "testData = testData.sample(frac=1)\n",
    "for i in range(len(testData)):\n",
    "    if len(data_dict[testData.intent_EN.iloc[i]])>=10:\n",
    "        continue\n",
    "    else:\n",
    "        data_dict[testData.intent_EN.iloc[i]].append([testData.utterance_EN.iloc[i],testData.utterance_FR.iloc[i]])"
   ]
  },
  {
   "cell_type": "code",
   "execution_count": null,
   "metadata": {},
   "outputs": [],
   "source": [
    "for keys,value in data_dict.items():\n",
    "    print(keys,len(value))"
   ]
  },
  {
   "cell_type": "code",
   "execution_count": null,
   "metadata": {},
   "outputs": [],
   "source": [
    "data_dict.pop('atis_quantity')\n",
    "data_dict.pop('atis_flight_time')\n",
    "data_dict.pop('atis_day_name')"
   ]
  },
  {
   "cell_type": "code",
   "execution_count": null,
   "metadata": {},
   "outputs": [],
   "source": [
    "Intent,Utt,Lang = [],[],[]\n",
    "for intent,utt in data_dict.items():\n",
    "    for sent in utt:\n",
    "        Intent += [intent]*2\n",
    "        Utt+= sent\n",
    "        Lang += ['en','fr']"
   ]
  },
  {
   "cell_type": "code",
   "execution_count": null,
   "metadata": {},
   "outputs": [],
   "source": [
    "len(Intent), len(Lang) , len(Utt)"
   ]
  },
  {
   "cell_type": "code",
   "execution_count": null,
   "metadata": {},
   "outputs": [],
   "source": [
    "vis_data = pd.DataFrame({'LANGUAGE':Lang,'UTTERANCE':Utt,'INTENT':Intent})\n",
    "vis_data"
   ]
  },
  {
   "cell_type": "code",
   "execution_count": null,
   "metadata": {},
   "outputs": [],
   "source": [
    "vis_data.to_csv('../data/splits/text/TSNE_data.tsv',sep='\\t',index=False)"
   ]
  },
  {
   "cell_type": "markdown",
   "metadata": {},
   "source": [
    "# distribution plot"
   ]
  },
  {
   "cell_type": "code",
   "execution_count": null,
   "metadata": {},
   "outputs": [],
   "source": [
    "trainEN = pd.read_csv('./data/splits/train_EN.tsv',sep='\\t')\n",
    "trainEN.head()"
   ]
  },
  {
   "cell_type": "code",
   "execution_count": null,
   "metadata": {},
   "outputs": [],
   "source": [
    "grouped_data"
   ]
  },
  {
   "cell_type": "code",
   "execution_count": null,
   "metadata": {},
   "outputs": [],
   "source": [
    "TYPE = ['Train']*17 + ['Dev'] *14 + ['Test']*16"
   ]
  },
  {
   "cell_type": "code",
   "execution_count": null,
   "metadata": {},
   "outputs": [],
   "source": [
    "Intent = list(train_CTR.keys())+list(dev_CTR.keys())+list(test_CTR.keys())"
   ]
  },
  {
   "cell_type": "code",
   "execution_count": null,
   "metadata": {},
   "outputs": [],
   "source": [
    "Freq = list(train_CTR.values()) + list(dev_CTR.values()) + list(test_CTR.values())"
   ]
  },
  {
   "cell_type": "code",
   "execution_count": null,
   "metadata": {},
   "outputs": [],
   "source": [
    "dataPD = pd.DataFrame({'TYPE':TYPE , 'Intent': Intent , 'Freq':Freq})"
   ]
  },
  {
   "cell_type": "code",
   "execution_count": null,
   "metadata": {},
   "outputs": [],
   "source": [
    "dataPD['Freq'] = np.log2(dataPD['Freq']) + 1 "
   ]
  },
  {
   "cell_type": "code",
   "execution_count": null,
   "metadata": {},
   "outputs": [],
   "source": [
    "plot = sns.catplot(x='Intent', y='Freq', hue='TYPE', data=dataPD, kind='bar',height=6.27, aspect=11.7/8.27, alpha=1.0)\n",
    "plot.set_xticklabels(rotation=90)"
   ]
  },
  {
   "cell_type": "code",
   "execution_count": null,
   "metadata": {},
   "outputs": [],
   "source": [
    "data_EN.to_csv('./data/splits/train_EN.tsv' , sep='\\t',index=None)\n",
    "dev_EN.to_csv('./data/splits/dev_EN.tsv' , sep='\\t',index=None)\n",
    "test_EN.to_csv('./data/splits/test_EN.tsv' , sep='\\t',index=None)"
   ]
  },
  {
   "cell_type": "markdown",
   "metadata": {},
   "source": [
    "# Dataset for back translation"
   ]
  },
  {
   "cell_type": "code",
   "execution_count": null,
   "metadata": {},
   "outputs": [],
   "source": [
    "import pandas as pd"
   ]
  },
  {
   "cell_type": "code",
   "execution_count": null,
   "metadata": {},
   "outputs": [],
   "source": [
    "trainEN = pd.read_csv('../data/splits/train_EN.tsv',sep='\\t')\n",
    "trainFR = pd.read_csv('../data/splits/train_FR.tsv',sep='\\t')"
   ]
  },
  {
   "cell_type": "code",
   "execution_count": null,
   "metadata": {},
   "outputs": [],
   "source": [
    "trainEN = trainEN[['utterance','Language']]\n",
    "trainFR = trainFR[['utterance','Language']]"
   ]
  },
  {
   "cell_type": "code",
   "execution_count": null,
   "metadata": {},
   "outputs": [],
   "source": [
    "train = pd.concat([trainEN,trainFR])\n",
    "train.head"
   ]
  }
 ],
 "metadata": {
  "kernelspec": {
   "display_name": "Python 3",
   "language": "python",
   "name": "python3"
  },
  "language_info": {
   "codemirror_mode": {
    "name": "ipython",
    "version": 3
   },
   "file_extension": ".py",
   "mimetype": "text/x-python",
   "name": "python",
   "nbconvert_exporter": "python",
   "pygments_lexer": "ipython3",
   "version": "3.7.9"
  }
 },
 "nbformat": 4,
 "nbformat_minor": 4
}
