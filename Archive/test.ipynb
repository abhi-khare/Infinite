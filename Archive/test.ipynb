{
 "cells": [
  {
   "cell_type": "code",
   "execution_count": 2,
   "metadata": {},
   "outputs": [],
   "source": [
    "import torch\n",
    "import torch.nn as nn\n",
    "from torch.utils.data import Dataset, DataLoader\n",
    "import pytorch_lightning as pl\n",
    "from transformers import DistilBertModel, DistilBertTokenizer\n",
    "import pandas as pd\n",
    "from scripts.utils import *\n",
    "from models import jointBert\n",
    "from TorchCRF import CRF\n",
    "from seqeval.metrics import f1_score\n",
    "import pickle"
   ]
  },
  {
   "cell_type": "code",
   "execution_count": 3,
   "metadata": {},
   "outputs": [],
   "source": [
    "train_dir = './data/splits/multi-train.tsv'\n",
    "max_len = 56\n",
    "tokenizer_weights = 'distilbert-base-multilingual-cased'"
   ]
  },
  {
   "cell_type": "code",
   "execution_count": 4,
   "metadata": {},
   "outputs": [],
   "source": [
    "with open('./notebooks/map_ids_slots.pickle', 'rb') as handle:\n",
    "    slot_dictionary = pickle.load(handle)"
   ]
  },
  {
   "cell_type": "code",
   "execution_count": 5,
   "metadata": {},
   "outputs": [],
   "source": [
    "def get_slot_labels(slot_labels,slot_pred,slot_dictionary):\n",
    "    processed_labels = []\n",
    "    for labels in slot_labels:\n",
    "        processed_labels.append(labels.split())\n",
    "    \n",
    "    processed_pred = []\n",
    "    \n",
    "    for pred in slot_pred:\n",
    "        slot_tokens = []\n",
    "        for slot_id in pred:\n",
    "            slot_tokens.append(slot_dictionary[slot_id])\n",
    "        processed_pred.append(slot_tokens)  \n",
    "    return processed_labels,processed_pred"
   ]
  },
  {
   "cell_type": "code",
   "execution_count": 6,
   "metadata": {},
   "outputs": [],
   "source": [
    "def process_label(labels, max_len):\n",
    "    slot_label,slot_mask,slot_length = [] , [],0\n",
    "    \n",
    "    for sLabel in labels.split():\n",
    "        slot_label.append(int(sLabel))\n",
    "        slot_mask.append(1)\n",
    "        slot_length +=1\n",
    "    slot_label += [82]*(max_len - slot_length)\n",
    "    slot_mask += [0]*(max_len - slot_length)\n",
    "    \n",
    "    slot_label = torch.LongTensor(slot_label)\n",
    "    slot_mask = torch.LongTensor(slot_mask)\n",
    "    \n",
    "    return slot_label, slot_mask"
   ]
  },
  {
   "cell_type": "code",
   "execution_count": 7,
   "metadata": {},
   "outputs": [],
   "source": [
    "class nlu_dataset(Dataset):\n",
    "    def __init__(self, file_dir, tokenizer, max_len):\n",
    "        \n",
    "        self.data = pd.read_csv(file_dir, sep='\\t')\n",
    "        self.tokenizer = DistilBertTokenizer.from_pretrained(tokenizer)\n",
    "        self.max_len = max_len\n",
    "    def __getitem__(self, index):\n",
    "        \n",
    "        text = str(self.data.utterance[index])\n",
    "        text = \" \".join(text.split())\n",
    "        \n",
    "        inputs = self.tokenizer.encode_plus(\n",
    "            text,\n",
    "            None,\n",
    "            add_special_tokens=True,\n",
    "            max_length=self.max_len,\n",
    "            padding='max_length',\n",
    "            return_token_type_ids=True,\n",
    "            truncation=True\n",
    "        )\n",
    "        \n",
    "        token_ids = inputs['input_ids']\n",
    "        mask = inputs['attention_mask']\n",
    "\n",
    "        intent_target = torch.tensor(self.data.intent_ID[index], dtype=torch.long)\n",
    "        slot_target,slot_mask = process_label(self.data.slots_ID[index],self.max_len)\n",
    "        language = self.data.language[index]\n",
    "        \n",
    "        return {\n",
    "            'token_ids': torch.tensor(token_ids, dtype=torch.long),\n",
    "            'mask': torch.tensor(mask, dtype=torch.long),\n",
    "            'intent_target': intent_target,\n",
    "            'slot_target' : slot_target,\n",
    "            'slot_mask' : slot_mask,\n",
    "            'language' : language,\n",
    "            'intent_label': self.data.intent[index],\n",
    "            'slot_label' : self.data.slot_labels[index]\n",
    "        } \n",
    "    \n",
    "    def __len__(self):\n",
    "        return len(self.data)"
   ]
  },
  {
   "cell_type": "code",
   "execution_count": 8,
   "metadata": {},
   "outputs": [],
   "source": [
    "class jointBert(nn.Module):\n",
    "\n",
    "    def __init__(self, model_name, num_intent,num_slots,joint_loss_coef):\n",
    "\n",
    "        super(jointBert,self).__init__()\n",
    "        \n",
    "        # base encoder\n",
    "        self.encoder = DistilBertModel.from_pretrained(model_name,return_dict=True,output_hidden_states=True)\n",
    "\n",
    "        # intent layer\n",
    "        #p_intent = trial.suggest_float(\"dropout_intent\", 0.1, 0.4)\n",
    "        self.intent_dropout = nn.Dropout(0.1)\n",
    "        self.intent_linear = nn.Linear(768, num_intent)\n",
    "        \n",
    "        # slots layer\n",
    "        self.slot_classifier = nn.Linear(768, num_slots)\n",
    "        #p_slots = trial.suggest_float(\"dropout_slots\", 0.1, 0.4)\n",
    "        self.dropout_slots = nn.Dropout(0.1)\n",
    "\n",
    "        self.crf = CRF(num_slots)\n",
    "\n",
    "        self.intent_loss = nn.CrossEntropyLoss()\n",
    "        self.joint_loss_coef =  joint_loss_coef\n",
    "    \n",
    "\n",
    "    \n",
    "    def forward(self, input_ids, attention_mask, intent_target, slot_target,slot_mask):\n",
    "\n",
    "        encoded_output = self.encoder(input_ids, attention_mask)\n",
    "\n",
    "        #intent data flow\n",
    "        intent_hidden = encoded_output[0][:,0]\n",
    "        intent_hidden = self.intent_dropout(intent_hidden)\n",
    "        intent_logits = self.intent_linear(intent_hidden)\n",
    "        # accumulating intent classification loss \n",
    "        intent_loss = self.intent_loss(intent_logits, intent_target)\n",
    "        \n",
    "        intent_pred = torch.argmax(nn.Softmax(dim=1)(intent_logits),axis=1)\n",
    "        \n",
    "        # slots data flow \n",
    "        slots_hidden = encoded_output[0]\n",
    "        #print(slots_hidden.size())\n",
    "        slots_logits = self.slot_classifier(self.dropout_slots(slots_hidden))\n",
    "        #print(slots_logits.size())\n",
    "        # accumulating slot prediction loss\n",
    "        #print(slot_target)\n",
    "        #print(slots_logits)\n",
    "        #print(attention_mask.byte())\n",
    "        #slot_loss = self.crf(slots_logits, slot_target, mask=slot_mask.byte())\n",
    "        slot_loss = -1 * self.joint_loss_coef * self.crf(slots_logits, slot_target, mask=slot_mask.byte())\n",
    "        slot_loss = torch.mean(slot_loss)\n",
    "        \n",
    "        joint_loss = (slot_loss + intent_loss)/2.0\n",
    "\n",
    "        slot_pred = self.crf.viterbi_decode(slots_logits, slot_mask.byte())\n",
    "        #print(slot_pred)\n",
    "        return joint_loss,slot_pred,intent_pred"
   ]
  },
  {
   "cell_type": "code",
   "execution_count": 9,
   "metadata": {},
   "outputs": [],
   "source": [
    "trainDS =  nlu_dataset(train_dir,tokenizer_weights,max_len)"
   ]
  },
  {
   "cell_type": "code",
   "execution_count": 10,
   "metadata": {},
   "outputs": [],
   "source": [
    "trainDL = DataLoader(trainDS,batch_size=2,shuffle=True)"
   ]
  },
  {
   "cell_type": "code",
   "execution_count": 11,
   "metadata": {},
   "outputs": [],
   "source": [
    "model = jointBert(model_name='distilbert-base-multilingual-cased',num_intent=17,num_slots=159,joint_loss_coef=1.0)"
   ]
  },
  {
   "cell_type": "code",
   "execution_count": 12,
   "metadata": {},
   "outputs": [],
   "source": [
    "def accuracy(pred,target):\n",
    "    return torch.sum(pred==target)/float(len(target))"
   ]
  },
  {
   "cell_type": "code",
   "execution_count": 13,
   "metadata": {},
   "outputs": [
    {
     "name": "stdout",
     "output_type": "stream",
     "text": [
      "[['O', 'O', 'O', 'O', 'O', 'B-fromloc.city_name', 'I-fromloc.city_name', 'O', 'B-toloc.city_name', 'O', 'O', 'B-depart_date.day_name'], ['O', 'O', 'O', 'O', 'O', 'B-fromloc.city_name', 'O', 'B-toloc.city_name', 'I-toloc.city_name']] [['B-arrive_time.start_time', 'I-arrive_date.day_name', 'I-airport_code', 'B-arrive_date.day_number', 'B-flight_days', 'I-depart_time.start_time', 'B-arrive_time.start_time', 'B-today_relative', 'I-return_date.day_number', 'B-today_relative', 'B-day_number', 'B-arrive_date.day_number'], ['I-depart_date.day_number', 'B-toloc.airport_code', 'B-depart_time.start_time', 'B-class_type', 'B-flight_stop', 'I-day_number', 'B-or', 'I-airline_code', 'I-airline_name']]\n",
      "0.0\n",
      "tensor(0.)\n"
     ]
    }
   ],
   "source": [
    "for idx,batch in enumerate(trainDL):\n",
    "    \n",
    "    token_ids = batch['token_ids']\n",
    "    mask = batch['mask']\n",
    "    intent_target = batch['intent_target']\n",
    "    slot_target = batch['slot_target']\n",
    "    slot_label = batch['slot_label']\n",
    "    slot_mask = batch['slot_mask']\n",
    "    joint_loss , slot_pred, intent_pred = (model(token_ids,mask,intent_target,slot_target,slot_mask))\n",
    "    #print(slot_pred,slot_label,slot_mask)\n",
    "    slot_target,slot_pred = get_slot_labels(slot_label,slot_pred,slot_dictionary)\n",
    "    print(slot_target,slot_pred)\n",
    "    print(f1_score(slot_target,slot_pred))\n",
    "    print(accuracy(intent_pred,intent_target))\n",
    "    print(intent_pred,intent_target)\n",
    "    break"
   ]
  },
  {
   "cell_type": "code",
   "execution_count": null,
   "metadata": {},
   "outputs": [],
   "source": []
  }
 ],
 "metadata": {
  "kernelspec": {
   "display_name": "Python 3",
   "language": "python",
   "name": "python3"
  },
  "language_info": {
   "codemirror_mode": {
    "name": "ipython",
    "version": 3
   },
   "file_extension": ".py",
   "mimetype": "text/x-python",
   "name": "python",
   "nbconvert_exporter": "python",
   "pygments_lexer": "ipython3",
   "version": "3.7.9"
  }
 },
 "nbformat": 4,
 "nbformat_minor": 4
}
