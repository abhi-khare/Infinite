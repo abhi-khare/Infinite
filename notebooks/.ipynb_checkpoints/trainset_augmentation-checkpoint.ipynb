{
 "cells": [
  {
   "cell_type": "code",
   "execution_count": 1,
   "id": "israeli-sterling",
   "metadata": {},
   "outputs": [],
   "source": [
    "import pandas as pd\n",
    "from collections import Counter\n",
    "import numpy as np\n",
    "from copy import deepcopy\n",
    "import random\n",
    "from functools import reduce\n",
    "import pickle"
   ]
  },
  {
   "cell_type": "code",
   "execution_count": 2,
   "id": "generous-peninsula",
   "metadata": {},
   "outputs": [],
   "source": [
    "train_replace_dict = {'atis_flight#atis_airfare': 'atis_airfare', \n",
    "                                     'atis_ground_service#atis_ground_fare': 'atis_ground_fare',\n",
    "                                     'atis_aircraft#atis_flight#atis_flight_no': 'atis_flight_no',\n",
    "                                     'atis_airfare#atis_flight_time':'atis_flight_time',\n",
    "                                     'atis_airline#atis_flight_no':'atis_flight_no',\n",
    "                                     'atis_flight_no#atis_airline' : 'atis_flight_no',\n",
    "                                     'atis_airfare#atis_flight': 'atis_airfare',\n",
    "                                     'atis_flight#atis_airline' : 'atis_airline'}\n",
    "\n",
    "# intent to idx mapping\n",
    "intent_list = (pd.read_csv('../data/multiATIS/intent_list.csv',sep=',',header=None,names=['INTENT']).INTENT.values.tolist())\n",
    "intent2idx = { intent:idx for idx,intent in enumerate(intent_list)}\n",
    "\n",
    "# slot idx mapping\n",
    "final_slots = pd.read_csv('../data/multiATIS/slots_list.csv',sep=',',header=None,names=['SLOTS']).SLOTS.values.tolist()\n",
    "slots2idx  = {slots:idx for idx,slots in enumerate(final_slots)}\n",
    "idx2slots = {v: k for k, v in slots2idx.items()}"
   ]
  },
  {
   "cell_type": "code",
   "execution_count": 3,
   "id": "current-participation",
   "metadata": {},
   "outputs": [],
   "source": [
    "def mapping2idx(df,fn):\n",
    "    \n",
    "    #del df['id']\n",
    "\n",
    "    # adding intent encoding\n",
    "    encoded_intent = []\n",
    "    for intent in list(df.INTENT):\n",
    "        try:\n",
    "            encoded_intent.append(intent2idx[intent])\n",
    "        except:\n",
    "            print(intent)\n",
    "            encoded_intent.append(intent2idx['OOI'])\n",
    "            \n",
    "        \n",
    "    df['INTENT_ID'] = encoded_intent \n",
    "\n",
    "    # adding mapped slot column\n",
    "    slots_ID = []\n",
    "\n",
    "    for annotations in list(df.SLOTS):\n",
    "        encoded_slot = \"\"\n",
    "        #print((annotations.split()))\n",
    "        for tokens in annotations.split():\n",
    "            try: \n",
    "                encoded_slot += str(slots2idx[tokens]) + \" \"\n",
    "            except:\n",
    "                print('token',tokens,fn)\n",
    "                encoded_slot += str(slots2idx['O'])\n",
    "        slots_ID.append(\" \".join(encoded_slot.split()))\n",
    "\n",
    "    df['SLOTS_ID'] = slots_ID\n",
    "    \n",
    "    return df"
   ]
  },
  {
   "cell_type": "code",
   "execution_count": 4,
   "id": "complete-jesus",
   "metadata": {},
   "outputs": [],
   "source": [
    "def get_carrier_phrase_length(annotations):\n",
    "    CP_idx = []\n",
    "    for idx,token in enumerate(annotations.split(' ')):\n",
    "        if token == 'O':\n",
    "            CP_idx.append(idx)\n",
    "    \n",
    "    return CP_idx\n",
    "    "
   ]
  },
  {
   "cell_type": "code",
   "execution_count": 5,
   "id": "ceramic-screen",
   "metadata": {},
   "outputs": [],
   "source": [
    "def carrier_aug(data,tau):\n",
    "    \n",
    "    orig_data = deepcopy(data)\n",
    "    \n",
    "    augINTENT, augSLOTS, augTEXT,augID = [],[],[],[]\n",
    "    \n",
    "    cnt = 0\n",
    "    for sample in data.values.tolist():\n",
    "        \n",
    "        \n",
    "        CP_idx = get_carrier_phrase_length(sample[2])\n",
    "        \n",
    "        CP_length = len(CP_idx)\n",
    "        \n",
    "        if CP_length <= 1:\n",
    "            del_count = CP_length\n",
    "        else:\n",
    "            del_count = 1 if CP_length <=3 else int(tau*CP_length)\n",
    "        \n",
    "        del_index = random.sample(CP_idx,del_count)\n",
    "\n",
    "        augINTENT.append(sample[3])\n",
    "        TEXT = ' '.join([i for j, i in enumerate(sample[1].split(' ')) if j not in del_index])\n",
    "        SLOTS = ' '.join([i for j, i in enumerate(sample[2].split(' ')) if j not in del_index])\n",
    "        augTEXT.append(TEXT)\n",
    "        augSLOTS.append(SLOTS)\n",
    "        augID.append(cnt)\n",
    "        cnt+=1\n",
    "    \n",
    "               \n",
    "    augPD = pd.DataFrame([augID,augTEXT,augSLOTS,augINTENT],index=['ID','TEXT','SLOTS','INTENT']).T\n",
    "    \n",
    "    return augPD"
   ]
  },
  {
   "cell_type": "code",
   "execution_count": 6,
   "id": "occupied-formula",
   "metadata": {},
   "outputs": [],
   "source": [
    "def combine_data(data,aug_data,r):\n",
    "    \n",
    "    data_sampled = data.groupby('INTENT', group_keys=False).apply(lambda x: x.sample(max(5, int(len(x)*(1.0-r))),replace=True))\n",
    "    \n",
    "    aug_sampled = aug_data.groupby('INTENT', group_keys=False).apply(lambda x: x.sample(max(5, int(len(x)*(r*0.33))),replace=True))\n",
    "    \n",
    "    print(len(data_sampled),len(aug_sampled))\n",
    "    return pd.concat([data_sampled,aug_sampled])    "
   ]
  },
  {
   "cell_type": "code",
   "execution_count": 8,
   "id": "corresponding-wyoming",
   "metadata": {},
   "outputs": [],
   "source": [
    "def aug_data(data_path,out_path,fn,inplace_merge_ratio):\n",
    "    \n",
    "    # loading dataset\n",
    "    data = pd.read_csv(data_path,sep='\\t',header=0,names=['ID','TEXT','SLOTS','INTENT'])\n",
    "    \n",
    "    # lowerCasing the TEXT column\n",
    "    data['TEXT'] = data['TEXT'].str.lower()\n",
    "    \n",
    "    # handling multi-label instances \n",
    "    data['INTENT'] = data['INTENT'].replace(train_replace_dict)\n",
    "    \n",
    "    aug_data_025 = carrier_aug(data,tau=0.25)\n",
    "    aug_data_050 = carrier_aug(data,tau=0.50)\n",
    "    aug_data_075 = carrier_aug(data,tau=0.75)\n",
    "    augmented_data = pd.concat([aug_data_025,aug_data_050,aug_data_075])\n",
    "    \n",
    "    aug_data = combine_data(data,augmented_data,inplace_merge_ratio)\n",
    "    \n",
    "    aug_data = mapping2idx(aug_data,fn)\n",
    "    \n",
    "    #print(len(data),len(aug_data))\n",
    "    \n",
    "    aug_data = aug_data.sample(frac=1).reset_index(drop=True)\n",
    "    aug_data.to_csv(out_path,sep='\\t',index=False)\n",
    "    "
   ]
  },
  {
   "cell_type": "code",
   "execution_count": 10,
   "id": "important-chase",
   "metadata": {},
   "outputs": [
    {
     "name": "stdout",
     "output_type": "stream",
     "text": [
      "4038 476\n",
      "462 101\n"
     ]
    }
   ],
   "source": [
    "aug_data('../data/multiATIS/raw/train_dev_test/train_EN.tsv','../data/multiATIS/split/train/augmented/train_01_EN.tsv','EN',0.1)\n",
    "aug_data('../data/multiATIS/raw/train_dev_test/dev_EN.tsv','../data/multiATIS/split/valid/augmented/dev_01_EN.tsv','EN',0.1)"
   ]
  },
  {
   "cell_type": "code",
   "execution_count": 11,
   "id": "egyptian-layer",
   "metadata": {},
   "outputs": [
    {
     "name": "stdout",
     "output_type": "stream",
     "text": [
      "3365 1124\n",
      "392 161\n"
     ]
    }
   ],
   "source": [
    "aug_data('../data/multiATIS/raw/train_dev_test/train_EN.tsv','../data/multiATIS/split/train/augmented/train_025_EN.tsv','EN',0.25)\n",
    "aug_data('../data/multiATIS/raw/train_dev_test/dev_EN.tsv','../data/multiATIS/split/valid/augmented/dev_025_EN.tsv','EN',0.25)"
   ]
  },
  {
   "cell_type": "code",
   "execution_count": 12,
   "id": "regulation-august",
   "metadata": {},
   "outputs": [
    {
     "name": "stdout",
     "output_type": "stream",
     "text": [
      "2251 2221\n",
      "276 272\n"
     ]
    }
   ],
   "source": [
    "aug_data('../data/multiATIS/raw/train_dev_test/train_EN.tsv','../data/multiATIS/split/train/augmented/train_050_EN.tsv','EN',0.50)\n",
    "aug_data('../data/multiATIS/raw/train_dev_test/dev_EN.tsv','../data/multiATIS/split/valid/augmented/dev_050_EN.tsv','EN',0.50)"
   ]
  },
  {
   "cell_type": "code",
   "execution_count": null,
   "id": "million-vacation",
   "metadata": {},
   "outputs": [],
   "source": []
  }
 ],
 "metadata": {
  "kernelspec": {
   "display_name": "Python 3",
   "language": "python",
   "name": "python3"
  },
  "language_info": {
   "codemirror_mode": {
    "name": "ipython",
    "version": 3
   },
   "file_extension": ".py",
   "mimetype": "text/x-python",
   "name": "python",
   "nbconvert_exporter": "python",
   "pygments_lexer": "ipython3",
   "version": "3.7.10"
  }
 },
 "nbformat": 4,
 "nbformat_minor": 5
}
