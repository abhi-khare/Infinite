{
 "cells": [
  {
   "cell_type": "code",
   "execution_count": 10,
   "id": "4cf95b93",
   "metadata": {},
   "outputs": [],
   "source": [
    "import pandas as pd\n",
    "from collections import Counter"
   ]
  },
  {
   "cell_type": "code",
   "execution_count": 3,
   "id": "39bc1c7d",
   "metadata": {},
   "outputs": [
    {
     "data": {
      "text/html": [
       "<div>\n",
       "<style scoped>\n",
       "    .dataframe tbody tr th:only-of-type {\n",
       "        vertical-align: middle;\n",
       "    }\n",
       "\n",
       "    .dataframe tbody tr th {\n",
       "        vertical-align: top;\n",
       "    }\n",
       "\n",
       "    .dataframe thead th {\n",
       "        text-align: right;\n",
       "    }\n",
       "</style>\n",
       "<table border=\"1\" class=\"dataframe\">\n",
       "  <thead>\n",
       "    <tr style=\"text-align: right;\">\n",
       "      <th></th>\n",
       "      <th>ID</th>\n",
       "      <th>TEXT</th>\n",
       "      <th>INTENT</th>\n",
       "      <th>SLOTS</th>\n",
       "    </tr>\n",
       "  </thead>\n",
       "  <tbody>\n",
       "    <tr>\n",
       "      <th>0</th>\n",
       "      <td>0</td>\n",
       "      <td>add sabrina salerno to the grime instrumentals...</td>\n",
       "      <td>AddToPlaylist</td>\n",
       "      <td>O B-artist I-artist O O B-playlist I-playlist O</td>\n",
       "    </tr>\n",
       "    <tr>\n",
       "      <th>1</th>\n",
       "      <td>1</td>\n",
       "      <td>i want to bring four people to a place that s ...</td>\n",
       "      <td>BookRestaurant</td>\n",
       "      <td>O O O O B-party_size_number O O O O O O B-spat...</td>\n",
       "    </tr>\n",
       "    <tr>\n",
       "      <th>2</th>\n",
       "      <td>2</td>\n",
       "      <td>put lindsey cardinale into my hillary clinton ...</td>\n",
       "      <td>AddToPlaylist</td>\n",
       "      <td>O B-artist I-artist O B-playlist_owner B-playl...</td>\n",
       "    </tr>\n",
       "    <tr>\n",
       "      <th>3</th>\n",
       "      <td>3</td>\n",
       "      <td>will it snow in mt on june 13  2038</td>\n",
       "      <td>GetWeather</td>\n",
       "      <td>O O B-condition_description O B-state O B-time...</td>\n",
       "    </tr>\n",
       "    <tr>\n",
       "      <th>4</th>\n",
       "      <td>4</td>\n",
       "      <td>play signe anderson chant music that is newest</td>\n",
       "      <td>PlayMusic</td>\n",
       "      <td>O B-artist I-artist B-music_item O O O B-sort</td>\n",
       "    </tr>\n",
       "    <tr>\n",
       "      <th>...</th>\n",
       "      <td>...</td>\n",
       "      <td>...</td>\n",
       "      <td>...</td>\n",
       "      <td>...</td>\n",
       "    </tr>\n",
       "    <tr>\n",
       "      <th>695</th>\n",
       "      <td>695</td>\n",
       "      <td>find a tv series called armageddon summer</td>\n",
       "      <td>SearchCreativeWork</td>\n",
       "      <td>O O B-object_type I-object_type O B-object_nam...</td>\n",
       "    </tr>\n",
       "    <tr>\n",
       "      <th>696</th>\n",
       "      <td>696</td>\n",
       "      <td>find politicsnation with al sharpton</td>\n",
       "      <td>SearchCreativeWork</td>\n",
       "      <td>O B-object_name I-object_name I-object_name I-...</td>\n",
       "    </tr>\n",
       "    <tr>\n",
       "      <th>697</th>\n",
       "      <td>697</td>\n",
       "      <td>rate this album 0 points out of 6</td>\n",
       "      <td>RateBook</td>\n",
       "      <td>O B-object_select B-object_type B-rating_value...</td>\n",
       "    </tr>\n",
       "    <tr>\n",
       "      <th>698</th>\n",
       "      <td>698</td>\n",
       "      <td>add leah kauffman to my uncharted 4 nathan dra...</td>\n",
       "      <td>AddToPlaylist</td>\n",
       "      <td>O B-artist I-artist O B-playlist_owner B-playl...</td>\n",
       "    </tr>\n",
       "    <tr>\n",
       "      <th>699</th>\n",
       "      <td>699</td>\n",
       "      <td>rate this album two out of 6</td>\n",
       "      <td>RateBook</td>\n",
       "      <td>O B-object_select B-object_type B-rating_value...</td>\n",
       "    </tr>\n",
       "  </tbody>\n",
       "</table>\n",
       "<p>700 rows × 4 columns</p>\n",
       "</div>"
      ],
      "text/plain": [
       "      ID                                               TEXT  \\\n",
       "0      0  add sabrina salerno to the grime instrumentals...   \n",
       "1      1  i want to bring four people to a place that s ...   \n",
       "2      2  put lindsey cardinale into my hillary clinton ...   \n",
       "3      3                will it snow in mt on june 13  2038   \n",
       "4      4     play signe anderson chant music that is newest   \n",
       "..   ...                                                ...   \n",
       "695  695          find a tv series called armageddon summer   \n",
       "696  696              find politicsnation with al sharpton    \n",
       "697  697                  rate this album 0 points out of 6   \n",
       "698  698  add leah kauffman to my uncharted 4 nathan dra...   \n",
       "699  699                       rate this album two out of 6   \n",
       "\n",
       "                 INTENT                                              SLOTS  \n",
       "0         AddToPlaylist   O B-artist I-artist O O B-playlist I-playlist O   \n",
       "1        BookRestaurant  O O O O B-party_size_number O O O O O O B-spat...  \n",
       "2         AddToPlaylist  O B-artist I-artist O B-playlist_owner B-playl...  \n",
       "3            GetWeather  O O B-condition_description O B-state O B-time...  \n",
       "4             PlayMusic     O B-artist I-artist B-music_item O O O B-sort   \n",
       "..                  ...                                                ...  \n",
       "695  SearchCreativeWork  O O B-object_type I-object_type O B-object_nam...  \n",
       "696  SearchCreativeWork  O B-object_name I-object_name I-object_name I-...  \n",
       "697            RateBook  O B-object_select B-object_type B-rating_value...  \n",
       "698       AddToPlaylist  O B-artist I-artist O B-playlist_owner B-playl...  \n",
       "699            RateBook  O B-object_select B-object_type B-rating_value...  \n",
       "\n",
       "[700 rows x 4 columns]"
      ]
     },
     "execution_count": 3,
     "metadata": {},
     "output_type": "execute_result"
    }
   ],
   "source": [
    "data = pd.read_csv('../../data/SNIPS/raw/test/test.tsv',sep='\\t')\n",
    "data"
   ]
  },
  {
   "cell_type": "code",
   "execution_count": 8,
   "id": "b164e22f",
   "metadata": {},
   "outputs": [],
   "source": [
    "def get_context(seq):\n",
    "    seqList = seq.split(' ')\n",
    "    cnt = 0\n",
    "    for token in seqList:\n",
    "        if token == 'O':\n",
    "            cnt += 1\n",
    "    return cnt"
   ]
  },
  {
   "cell_type": "code",
   "execution_count": 9,
   "id": "4e158600",
   "metadata": {},
   "outputs": [],
   "source": [
    "slots_freq = []\n",
    "\n",
    "for seq in list(data.SLOTS):\n",
    "    slots_freq.append(get_context(seq))"
   ]
  },
  {
   "cell_type": "code",
   "execution_count": 11,
   "id": "8e4eece8",
   "metadata": {},
   "outputs": [
    {
     "data": {
      "text/plain": [
       "Counter({4: 113,\n",
       "         14: 2,\n",
       "         2: 111,\n",
       "         8: 35,\n",
       "         5: 107,\n",
       "         3: 148,\n",
       "         1: 34,\n",
       "         9: 13,\n",
       "         7: 53,\n",
       "         6: 66,\n",
       "         10: 5,\n",
       "         12: 4,\n",
       "         11: 8,\n",
       "         13: 1})"
      ]
     },
     "execution_count": 11,
     "metadata": {},
     "output_type": "execute_result"
    }
   ],
   "source": [
    "Counter(slots_freq)"
   ]
  },
  {
   "cell_type": "code",
   "execution_count": null,
   "id": "14f86aab",
   "metadata": {},
   "outputs": [],
   "source": []
  }
 ],
 "metadata": {
  "kernelspec": {
   "display_name": "Python 3",
   "language": "python",
   "name": "python3"
  },
  "language_info": {
   "codemirror_mode": {
    "name": "ipython",
    "version": 3
   },
   "file_extension": ".py",
   "mimetype": "text/x-python",
   "name": "python",
   "nbconvert_exporter": "python",
   "pygments_lexer": "ipython3",
   "version": "3.8.8"
  }
 },
 "nbformat": 4,
 "nbformat_minor": 5
}
