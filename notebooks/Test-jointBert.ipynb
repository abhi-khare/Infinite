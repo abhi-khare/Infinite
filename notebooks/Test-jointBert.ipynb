{
 "cells": [
  {
   "cell_type": "code",
   "execution_count": 9,
   "metadata": {},
   "outputs": [],
   "source": [
    "import torch \n",
    "import torch.nn as nn \n",
    "import torch.nn.functional as F\n",
    "from transformers import  DistilBertModel,DistilBertTokenizerFast\n",
    "from torch.utils.data import Dataset, DataLoader\n",
    "import pytorch_lightning as pl\n",
    "import pandas as pd\n",
    "import random"
   ]
  },
  {
   "cell_type": "code",
   "execution_count": null,
   "metadata": {},
   "outputs": [],
   "source": [
    "class jointBert(pl.LightningModule):\n",
    "    \n",
    "    def __init\n",
    "    \n",
    "    "
   ]
  },
  {
   "cell_type": "code",
   "execution_count": null,
   "metadata": {},
   "outputs": [],
   "source": [
    "class NLU_Dataset(pl.LightningDataModule):\n",
    "    \n",
    "    def __init__(self, data_dir: str = \"path/to/dir\", batch_size: int = 32):\n",
    "        super().__init__()\n",
    "        self.data_dir = data_dir\n",
    "        self.batch_size = batch_size\n",
    "\n",
    "    def setup(self, stage: Optional[str] = None):\n",
    "        self.train = nluDataset('../data/multiATIS/splits/train_EN.tsv',\n",
    "                                'distilbert-base-multilingual-cased',56,2)\n",
    "        \n",
    "        self.train = nluDataset('../data/multiATIS/splits/dev_EN.tsv',\n",
    "                                'distilbert-base-multilingual-cased',56,2)\n",
    "\n",
    "    def train_dataloader(self):\n",
    "        return DataLoader(self.train, batch_size=self.batch_size)\n",
    "\n",
    "    def val_dataloader(self):\n",
    "        return DataLoader(self.val, batch_size=self.batch_size)"
   ]
  },
  {
   "cell_type": "code",
   "execution_count": 2,
   "metadata": {},
   "outputs": [],
   "source": [
    "class jointBert(nn.Module):\n",
    "\n",
    "    def __init__(self, model_name):\n",
    "\n",
    "        super(jointBert,self).__init__()\n",
    "        \n",
    "        self.encoder = DistilBertModel.from_pretrained(model_name,return_dict=True,output_hidden_states=True)\n",
    "        self.intent_dropout = nn.Dropout(0.2)\n",
    "        self.intent_FC = nn.Linear(768, 17)\n",
    " \n",
    "\n",
    "        # slots layer\n",
    "        self.slots_dropout = nn.Dropout(0.2)\n",
    "        self.slots_FC = nn.Linear(768, 159)\n",
    "        \n",
    "        self.intent_loss_fn = nn.CrossEntropyLoss()\n",
    "        self.slot_loss_fn = nn.CrossEntropyLoss()\n",
    "        \n",
    "        self.jlc = 0.5\n",
    "\n",
    "    \n",
    "    def forward(self, input_ids, attention_mask , intent_target, slots_target):\n",
    "\n",
    "        encoded_output = self.encoder(input_ids, attention_mask)\n",
    "\n",
    "        #intent data flow\n",
    "        intent_hidden = encoded_output[0][:,0]\n",
    "        intent_logits = self.intent_FC(self.intent_dropout(F.relu(intent_hidden)))\n",
    "        \n",
    "        \n",
    "        # accumulating intent classification loss \n",
    "        intent_loss = self.intent_loss_fn(intent_logits, intent_target)\n",
    "        intent_pred = torch.argmax(nn.Softmax(dim=1)(intent_logits), axis=1)\n",
    "        \n",
    "\n",
    "        # slots data flow \n",
    "        slots_hidden = encoded_output[0]\n",
    "        slots_logits = self.slots_FC(self.slots_dropout(F.relu(slots_hidden)))\n",
    "       \n",
    "\n",
    "        # accumulating slot prediction loss\n",
    "        slot_loss = self.slot_loss_fn(slots_logits.view(-1, 159), slots_target.view(-1))\n",
    "        \n",
    "        joint_loss = ((1-self.jlc)*intent_loss + (self.jlc)*slot_loss)\n",
    "        \n",
    "\n",
    "        return joint_loss,intent_pred,intent_loss,slot_loss\n"
   ]
  },
  {
   "cell_type": "code",
   "execution_count": 4,
   "metadata": {},
   "outputs": [],
   "source": [
    "model = jointBert('distilbert-base-multilingual-cased').to('cuda')"
   ]
  },
  {
   "cell_type": "code",
   "execution_count": null,
   "metadata": {},
   "outputs": [],
   "source": []
  }
 ],
 "metadata": {
  "kernelspec": {
   "display_name": "Python 3",
   "language": "python",
   "name": "python3"
  },
  "language_info": {
   "codemirror_mode": {
    "name": "ipython",
    "version": 3
   },
   "file_extension": ".py",
   "mimetype": "text/x-python",
   "name": "python",
   "nbconvert_exporter": "python",
   "pygments_lexer": "ipython3",
   "version": "3.7.10"
  }
 },
 "nbformat": 4,
 "nbformat_minor": 4
}
