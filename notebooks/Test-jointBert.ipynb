{
 "cells": [
  {
   "cell_type": "code",
   "execution_count": 3,
   "metadata": {},
   "outputs": [],
   "source": [
    "import torch \n",
    "import torch.nn as nn \n",
    "import torch.nn.functional as F\n",
    "from transformers import  DistilBertModel\n",
    "import torch\n",
    "from torch.utils.data import Dataset\n",
    "from transformers import DistilBertTokenizerFast\n",
    "import pandas as pd\n",
    "import random\n",
    "from torch.utils.data import DataLoader"
   ]
  },
  {
   "cell_type": "code",
   "execution_count": 4,
   "metadata": {},
   "outputs": [],
   "source": [
    "class jointBert(nn.Module):\n",
    "\n",
    "    def __init__(self, model_name):\n",
    "\n",
    "        super(jointBert,self).__init__()\n",
    "        \n",
    "        self.encoder = DistilBertModel.from_pretrained(model_name,return_dict=True,output_hidden_states=True)\n",
    "        #p_intent = trial.suggest_float(\"intent_dropout\", 0.1, 0.4)\n",
    "        self.intent_dropout = nn.Dropout(0.1)#args.intent_dropout_val)\n",
    "        self.intent_FC = nn.Linear(768, 17)\n",
    " \n",
    "\n",
    "        # slots layer\n",
    "        self.slots_dropout = nn.Dropout(0.1)#args.slots_dropout_val)\n",
    "        self.slots_FC = nn.Linear(768, 159)\n",
    "        #p_slots = trial.suggest_float(\"slots_dropout\", 0.1, 0.4)\n",
    "\n",
    "        self.intent_loss_fn = nn.CrossEntropyLoss()\n",
    "        self.slot_loss_fn = nn.CrossEntropyLoss()\n",
    "        #self.log_vars = nn.Parameter(torch.zeros((2)))\n",
    "\n",
    "        self.jlc = 0.5#args.joint_loss_coef\n",
    "        \n",
    "\n",
    "    \n",
    "    def forward(self, input_ids, attention_mask , intent_target, slots_target):\n",
    "\n",
    "        encoded_output = self.encoder(input_ids, attention_mask)\n",
    "\n",
    "        #intent data flow\n",
    "        intent_hidden = encoded_output[0][:,0]\n",
    "        intent_logits = self.intent_FC(self.intent_dropout(F.relu(intent_hidden)))\n",
    "        \n",
    "        \n",
    "        # accumulating intent classification loss \n",
    "        intent_loss = self.intent_loss_fn(intent_logits, intent_target)\n",
    "        intent_pred = torch.argmax(nn.Softmax(dim=1)(intent_logits), axis=1)\n",
    "        \n",
    "\n",
    "        # slots data flow \n",
    "        slots_hidden = encoded_output[0]\n",
    "        slots_logits = self.slots_FC(self.slots_dropout(F.relu(slots_hidden)))\n",
    "       \n",
    "\n",
    "        # accumulating slot prediction loss\n",
    "        slot_loss = self.slot_loss_fn(slots_logits.view(-1, 159), slots_target.view(-1))\n",
    "        \n",
    "        joint_loss = ((1-self.jlc)*intent_loss + (self.jlc)*slot_loss)\n",
    "        \n",
    "\n",
    "        return joint_loss,intent_pred,intent_loss,slot_loss\n"
   ]
  },
  {
   "cell_type": "code",
   "execution_count": 5,
   "metadata": {},
   "outputs": [],
   "source": [
    "class nluDataset(Dataset):\n",
    "\n",
    "    def __init__(self, file_dir, tokenizer, max_len, device):\n",
    "        \n",
    "        self.data = pd.read_csv(file_dir, sep='\\t')\n",
    "        self.tokenizer = DistilBertTokenizerFast.from_pretrained(tokenizer)\n",
    "        self.max_len = max_len\n",
    "    \n",
    "    def processSlotLabel(self,word_ids,slot_ids):\n",
    "        \n",
    "        slot_ids = list(map(int, slot_ids.split(' ')))   \n",
    "        new_labels = []\n",
    "        previous_word_idx = None\n",
    "        \n",
    "        for word_idx in word_ids:\n",
    "            if word_idx is None:\n",
    "                new_labels.append(-100)\n",
    "            elif word_idx != previous_word_idx:\n",
    "                new_labels.append(slot_ids[word_idx])\n",
    "            else:\n",
    "                new_labels.append(-100)\n",
    "        \n",
    "        return new_labels  \n",
    "        \n",
    "\n",
    "    def __getitem__(self, index):\n",
    "        \n",
    "        text = str(self.data.TEXT[index])\n",
    "        text = \" \".join(text.split())\n",
    "        \n",
    "        inputs = self.tokenizer.encode_plus(\n",
    "            text,\n",
    "            None,\n",
    "            add_special_tokens=True,\n",
    "            return_token_type_ids=False,\n",
    "            truncation=True,\n",
    "            max_length=self.max_len,\n",
    "            padding='max_length',\n",
    "            \n",
    "            #is_split_into_words=True\n",
    "        )\n",
    "        \n",
    "        \n",
    "        # text encoding\n",
    "        token_ids = torch.tensor(inputs['input_ids'], dtype=torch.long)\n",
    "        mask = torch.tensor(inputs['attention_mask'], dtype=torch.long)\n",
    "        word_ids = inputs.word_ids()\n",
    "\n",
    "        # intent\n",
    "        intent_id = torch.tensor(self.data.INTENT_ID[index], dtype=torch.long)\n",
    "        intent_label = self.data.INTENT[index]\n",
    "\n",
    "        # label processing\n",
    "        slot_label = self.data.SLOTS[index]\n",
    "        slot_id = self.processSlotLabel(word_ids,self.data.SLOTS_ID[index])\n",
    "        slot_id = torch.tensor(slot_id,dtype=torch.long)\n",
    "        #language = self.data.language[index]\n",
    "        \n",
    "        return {\n",
    "            'token_ids': token_ids,\n",
    "            'mask': mask,\n",
    "            'intent_id': intent_id,\n",
    "            'slots_id' : slot_id,\n",
    "            'intent_label': intent_label,\n",
    "            'slots_label' : slot_label\n",
    "        } \n",
    "    \n",
    "    def __len__(self):\n",
    "        return len(self.data)"
   ]
  },
  {
   "cell_type": "code",
   "execution_count": 7,
   "metadata": {},
   "outputs": [],
   "source": [
    "model = jointBert('distilbert-base-multilingual-cased').to('cuda')"
   ]
  },
  {
   "cell_type": "code",
   "execution_count": 8,
   "metadata": {},
   "outputs": [
    {
     "data": {
      "application/vnd.jupyter.widget-view+json": {
       "model_id": "1b481cac3cc64375be701ae66fd04d1b",
       "version_major": 2,
       "version_minor": 0
      },
      "text/plain": [
       "Downloading:   0%|          | 0.00/996k [00:00<?, ?B/s]"
      ]
     },
     "metadata": {},
     "output_type": "display_data"
    },
    {
     "data": {
      "application/vnd.jupyter.widget-view+json": {
       "model_id": "560d5caddd734f3297b7bf0c3758e8a7",
       "version_major": 2,
       "version_minor": 0
      },
      "text/plain": [
       "Downloading:   0%|          | 0.00/1.96M [00:00<?, ?B/s]"
      ]
     },
     "metadata": {},
     "output_type": "display_data"
    }
   ],
   "source": [
    "train_DS =  nluDataset('../data/multiATIS/splits/train_EN.tsv','distilbert-base-multilingual-cased',56,2)"
   ]
  },
  {
   "cell_type": "code",
   "execution_count": 9,
   "metadata": {},
   "outputs": [],
   "source": [
    "train_DL = DataLoader(train_DS,batch_size=4)"
   ]
  },
  {
   "cell_type": "code",
   "execution_count": 10,
   "metadata": {},
   "outputs": [
    {
     "ename": "AttributeError",
     "evalue": "'dict' object has no attribute 'to'",
     "output_type": "error",
     "traceback": [
      "\u001b[1;31m---------------------------------------------------------------------------\u001b[0m",
      "\u001b[1;31mAttributeError\u001b[0m                            Traceback (most recent call last)",
      "\u001b[1;32m<ipython-input-10-81ce53332835>\u001b[0m in \u001b[0;36m<module>\u001b[1;34m\u001b[0m\n\u001b[0;32m      1\u001b[0m \u001b[1;32mfor\u001b[0m \u001b[0mbatch\u001b[0m \u001b[1;32min\u001b[0m \u001b[0mtrain_DL\u001b[0m\u001b[1;33m:\u001b[0m\u001b[1;33m\u001b[0m\u001b[1;33m\u001b[0m\u001b[0m\n\u001b[1;32m----> 2\u001b[1;33m     \u001b[0mbatch\u001b[0m\u001b[1;33m.\u001b[0m\u001b[0mto\u001b[0m\u001b[1;33m(\u001b[0m\u001b[1;34m'cuda'\u001b[0m\u001b[1;33m)\u001b[0m\u001b[1;33m\u001b[0m\u001b[1;33m\u001b[0m\u001b[0m\n\u001b[0m\u001b[0;32m      3\u001b[0m     \u001b[0mtoken_id\u001b[0m\u001b[1;33m,\u001b[0m\u001b[0mmask\u001b[0m\u001b[1;33m,\u001b[0m\u001b[0mintent_target\u001b[0m\u001b[1;33m,\u001b[0m\u001b[0mslot_target\u001b[0m \u001b[1;33m=\u001b[0m \u001b[0mbatch\u001b[0m\u001b[1;33m[\u001b[0m\u001b[1;34m'token_ids'\u001b[0m\u001b[1;33m]\u001b[0m \u001b[1;33m,\u001b[0m \u001b[0mbatch\u001b[0m\u001b[1;33m[\u001b[0m\u001b[1;34m'mask'\u001b[0m\u001b[1;33m]\u001b[0m\u001b[1;33m,\u001b[0m\u001b[0mbatch\u001b[0m\u001b[1;33m[\u001b[0m\u001b[1;34m'intent_id'\u001b[0m\u001b[1;33m]\u001b[0m\u001b[1;33m,\u001b[0m\u001b[0mbatch\u001b[0m\u001b[1;33m[\u001b[0m\u001b[1;34m'slots_id'\u001b[0m\u001b[1;33m]\u001b[0m\u001b[1;33m\u001b[0m\u001b[1;33m\u001b[0m\u001b[0m\n\u001b[0;32m      4\u001b[0m     \u001b[0mout\u001b[0m \u001b[1;33m=\u001b[0m \u001b[0mmodel\u001b[0m\u001b[1;33m(\u001b[0m\u001b[0mtoken_id\u001b[0m\u001b[1;33m,\u001b[0m\u001b[0mmask\u001b[0m\u001b[1;33m,\u001b[0m\u001b[0mintent_target\u001b[0m\u001b[1;33m,\u001b[0m\u001b[0mslot_target\u001b[0m\u001b[1;33m)\u001b[0m\u001b[1;33m\u001b[0m\u001b[1;33m\u001b[0m\u001b[0m\n\u001b[0;32m      5\u001b[0m     \u001b[0mprint\u001b[0m\u001b[1;33m(\u001b[0m\u001b[0mout\u001b[0m\u001b[1;33m)\u001b[0m\u001b[1;33m\u001b[0m\u001b[1;33m\u001b[0m\u001b[0m\n",
      "\u001b[1;31mAttributeError\u001b[0m: 'dict' object has no attribute 'to'"
     ]
    }
   ],
   "source": [
    "for batch in train_DL:\n",
    "    batch\n",
    "    token_id,mask,intent_target,slot_target = batch['token_ids'] , batch['mask'],batch['intent_id'],batch['slots_id']\n",
    "    out = model(token_id,mask,intent_target,slot_target)\n",
    "    print(out)"
   ]
  },
  {
   "cell_type": "code",
   "execution_count": null,
   "metadata": {},
   "outputs": [],
   "source": []
  }
 ],
 "metadata": {
  "kernelspec": {
   "display_name": "Python 3",
   "language": "python",
   "name": "python3"
  },
  "language_info": {
   "codemirror_mode": {
    "name": "ipython",
    "version": 3
   },
   "file_extension": ".py",
   "mimetype": "text/x-python",
   "name": "python",
   "nbconvert_exporter": "python",
   "pygments_lexer": "ipython3",
   "version": "3.7.10"
  }
 },
 "nbformat": 4,
 "nbformat_minor": 4
}
