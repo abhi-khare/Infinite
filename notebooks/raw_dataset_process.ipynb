{
 "cells": [
  {
   "cell_type": "code",
   "execution_count": 2,
   "id": "a74f0293",
   "metadata": {},
   "outputs": [],
   "source": [
    "import pandas as pd\n",
    "from collections import Counter\n",
    "import numpy as np\n",
    "from copy import deepcopy\n",
    "import random\n",
    "from functools import reduce\n",
    "import pickle\n",
    "from sklearn.model_selection import train_test_split\n"
   ]
  },
  {
   "cell_type": "code",
   "execution_count": 14,
   "id": "ecc57e52",
   "metadata": {},
   "outputs": [],
   "source": [
    "def set_seed(seed):\n",
    "    random.seed(seed)\n",
    "    np.random.seed(seed)"
   ]
  },
  {
   "cell_type": "code",
   "execution_count": 15,
   "id": "343d5316",
   "metadata": {},
   "outputs": [],
   "source": [
    "set_seed(42)"
   ]
  },
  {
   "cell_type": "code",
   "execution_count": 16,
   "id": "a6e308d3",
   "metadata": {},
   "outputs": [],
   "source": [
    "# processing training set [ATIS]\n",
    "\n",
    "# reading individual files\n",
    "text = pd.read_csv('../data/ATIS/raw/train/text.tsv',sep='\\t',header=None,names=['TEXT'])\n",
    "annotations = pd.read_csv('../data/ATIS/raw/train/annotation.tsv',sep='\\t',header=None,names=['SLOTS'])\n",
    "labels = pd.read_csv('../data/ATIS/raw/train/label.tsv',sep='\\t',header=None,names=['INTENT'])\n",
    "\n",
    "# merging them together\n",
    "train = pd.concat([text,annotations,labels],axis=1)\n",
    "\n",
    "# adding id column\n",
    "train['ID'] = list(range(len(train)))\n",
    "\n",
    "# reordering columns\n",
    "train = train[[\"ID\",\"TEXT\",'INTENT',\"SLOTS\"]]\n",
    "\n",
    "# saving to file\n",
    "train.to_csv('../data/ATIS/raw/train/train.tsv',sep='\\t',index=False)"
   ]
  },
  {
   "cell_type": "code",
   "execution_count": 18,
   "id": "8811c7c8",
   "metadata": {},
   "outputs": [],
   "source": [
    "# processing dev set [ATIS]\n",
    "\n",
    "# reading individual files\n",
    "text = pd.read_csv('../data/ATIS/raw/dev/text.tsv',sep='\\t',header=None,names=['TEXT'])\n",
    "annotations = pd.read_csv('../data/ATIS/raw/dev/annotations.tsv',sep='\\t',header=None,names=['SLOTS'])\n",
    "labels = pd.read_csv('../data/ATIS/raw/dev/label.tsv',sep='\\t',header=None,names=['INTENT'])\n",
    "\n",
    "# merging them together\n",
    "train = pd.concat([text,annotations,labels],axis=1)\n",
    "\n",
    "# adding id column\n",
    "train['ID'] = list(range(len(train)))\n",
    "\n",
    "# reordering columns\n",
    "train = train[[\"ID\",\"TEXT\",'INTENT',\"SLOTS\"]]\n",
    "\n",
    "# saving to file\n",
    "train.to_csv('../data/ATIS/raw/dev/dev.tsv',sep='\\t',index=False)"
   ]
  },
  {
   "cell_type": "code",
   "execution_count": 23,
   "id": "971c2f10",
   "metadata": {},
   "outputs": [],
   "source": [
    "# processing test set [ATIS]\n",
    "\n",
    "# reading individual files\n",
    "text = pd.read_csv('../data/ATIS/raw/test/text.tsv',sep='\\t',header=None,names=['TEXT'])\n",
    "annotations = pd.read_csv('../data/ATIS/raw/test/annotations.tsv',sep='\\t',header=None,names=['SLOTS'])\n",
    "labels = pd.read_csv('../data/ATIS/raw/test/label.tsv',sep='\\t',header=None,names=['INTENT'])\n",
    "\n",
    "# merging them together\n",
    "train = pd.concat([text,annotations,labels],axis=1)\n",
    "\n",
    "# adding id column\n",
    "train['ID'] = list(range(len(train)))\n",
    "\n",
    "# reordering columns\n",
    "train = train[[\"ID\",\"TEXT\",'INTENT',\"SLOTS\"]]\n",
    "\n",
    "# saving to file\n",
    "train.to_csv('../data/ATIS/raw/test/test.tsv',sep='\\t',index=False)"
   ]
  },
  {
   "cell_type": "code",
   "execution_count": 24,
   "id": "ce60a7cc",
   "metadata": {},
   "outputs": [],
   "source": [
    "train_replace_dict = {'atis_flight#atis_airfare': 'atis_airfare', \n",
    "                                     'atis_ground_service#atis_ground_fare': 'atis_ground_fare',\n",
    "                                     'atis_aircraft#atis_flight#atis_flight_no': 'atis_flight_no',\n",
    "                                     'atis_airfare#atis_flight_time':'atis_flight_time',\n",
    "                                     'atis_airline#atis_flight_no':'atis_flight_no',\n",
    "                                     'atis_flight_no#atis_airline' : 'atis_flight_no',\n",
    "                                     'atis_airfare#atis_flight': 'atis_airfare',\n",
    "                                     'atis_flight#atis_airline' : 'atis_airline'}\n",
    "\n",
    "# intent to idx mapping\n",
    "intent_list = (pd.read_csv('../data/ATIS/intent_list.tsv',sep='\\t',header=None,names=['INTENT']).INTENT.values.tolist())\n",
    "intent2idx = { intent:idx for idx,intent in enumerate(intent_list)}\n",
    "\n",
    "# slot idx mapping\n",
    "final_slots = pd.read_csv('../data/ATIS/slot_intent.tsv',sep='\\t',header=None,names=['SLOTS']).SLOTS.values.tolist()\n",
    "slots2idx  = {slots:idx for idx,slots in enumerate(final_slots)}\n",
    "idx2slots = {v: k for k, v in slots2idx.items()}"
   ]
  },
  {
   "cell_type": "code",
   "execution_count": 25,
   "id": "bc449709",
   "metadata": {},
   "outputs": [],
   "source": [
    "def mapping2idx(df):\n",
    "\n",
    "    # adding intent encoding\n",
    "    intentID = []\n",
    "    for intent in list(df.INTENT):\n",
    "        try:\n",
    "            intentID.append(intent2idx[intent])\n",
    "        except:\n",
    "            print(intent)\n",
    "            intentID.append(intent2idx['UNK'])\n",
    "            \n",
    "        \n",
    "    df['INTENT_ID'] = intentID \n",
    "\n",
    "    # adding mapped slot column\n",
    "    slots_ID = []\n",
    "\n",
    "    for annotations in list(df.SLOTS):\n",
    "        slotID = \"\"\n",
    "\n",
    "        for tokens in annotations.split():\n",
    "            try: \n",
    "                slotID += str(slots2idx[tokens]) + \" \"\n",
    "            except:\n",
    "                print('token',tokens)\n",
    "                slotID += str(slots2idx['O']) + \" \"\n",
    "                \n",
    "        slots_ID.append(\" \".join(slotID.split()))\n",
    "\n",
    "    df['SLOTS_ID'] = slots_ID\n",
    "    \n",
    "    return df"
   ]
  },
  {
   "cell_type": "code",
   "execution_count": 26,
   "id": "96250ab1",
   "metadata": {},
   "outputs": [],
   "source": [
    "def process_data(data_path, out_path, shuffle):\n",
    "   \n",
    "    # loading dataset\n",
    "\n",
    "    data = pd.read_csv(data_path,sep='\\t',header=0,names=['ID','TEXT','INTENT','SLOTS'])\n",
    "    \n",
    "    # lowerCasing the TEXT column\n",
    "    data['TEXT'] = data['TEXT'].str.lower()\n",
    "    \n",
    "    # re-mapping multi-label classes \n",
    "    data['INTENT'] = data['INTENT'].replace(train_replace_dict)\n",
    "    \n",
    "    data = mapping2idx(data)\n",
    "    \n",
    "    print('Length of data set... ',len(data))\n",
    "    \n",
    "    if shuffle:\n",
    "        data = data.sample(frac=1).reset_index(drop=True)\n",
    "        \n",
    "    data.to_csv(out_path,index=False,sep='\\t')\n",
    "    "
   ]
  },
  {
   "cell_type": "code",
   "execution_count": 27,
   "id": "9c5af785",
   "metadata": {},
   "outputs": [
    {
     "name": "stdout",
     "output_type": "stream",
     "text": [
      "Length of data set...  4478\n",
      "token I-return_date.day_number\n",
      "Length of data set...  500\n",
      "atis_day_name\n",
      "atis_day_name\n",
      "token I-flight_number\n",
      "token B-compartment\n",
      "token B-stoploc.airport_code\n",
      "token I-state_name\n",
      "token B-booking_class\n",
      "token B-flight\n",
      "Length of data set...  893\n"
     ]
    }
   ],
   "source": [
    "process_data('../data/ATIS/raw/train/train.tsv','../data/ATIS/processed/train.tsv',True)\n",
    "process_data('../data/ATIS/raw/dev/dev.tsv','../data/ATIS/processed/dev.tsv',False)\n",
    "process_data('../data/ATIS/raw/test/test.tsv','../data/ATIS/processed/test.tsv',False)"
   ]
  },
  {
   "cell_type": "code",
   "execution_count": null,
   "id": "e59b5dbb",
   "metadata": {},
   "outputs": [],
   "source": []
  }
 ],
 "metadata": {
  "kernelspec": {
   "display_name": "Python 3",
   "language": "python",
   "name": "python3"
  },
  "language_info": {
   "codemirror_mode": {
    "name": "ipython",
    "version": 3
   },
   "file_extension": ".py",
   "mimetype": "text/x-python",
   "name": "python",
   "nbconvert_exporter": "python",
   "pygments_lexer": "ipython3",
   "version": "3.8.8"
  }
 },
 "nbformat": 4,
 "nbformat_minor": 5
}
