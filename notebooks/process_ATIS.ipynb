{
 "cells": [
  {
   "cell_type": "code",
   "execution_count": 14,
   "metadata": {},
   "outputs": [],
   "source": [
    "import pandas as pd\n",
    "from collections import Counter\n",
    "import matplotlib.pyplot as plt\n",
    "import seaborn as sns\n",
    "import numpy as np\n",
    "import random\n",
    "from functools import reduce\n",
    "import pickle"
   ]
  },
  {
   "cell_type": "code",
   "execution_count": 15,
   "metadata": {},
   "outputs": [],
   "source": [
    "train_replace_dict = {'atis_flight#atis_airfare': 'atis_airfare', \n",
    "                                     'atis_ground_service#atis_ground_fare': 'atis_ground_fare',\n",
    "                                     'atis_aircraft#atis_flight#atis_flight_no': 'atis_flight_no',\n",
    "                                     'atis_airfare#atis_flight_time':'atis_flight_time',\n",
    "                                     'atis_airline#atis_flight_no':'atis_flight_no',\n",
    "                                     'atis_flight_no#atis_airline' : 'atis_flight_no',\n",
    "                                     'atis_airfare#atis_flight': 'atis_airfare',\n",
    "                                     'atis_flight#atis_airline' : 'atis_airline'}\n",
    "\n",
    "# intent to idx mapping\n",
    "intent_list = (pd.read_csv('../data/multiATIS/intent_list.csv',sep=',',header=None,names=['INTENT']).INTENT.values.tolist())\n",
    "intent2idx = { intent:idx for idx,intent in enumerate(intent_list)}\n",
    "\n",
    "# slot idx mapping\n",
    "final_slots = pd.read_csv('../data/multiATIS/slots_list.csv',sep=',',header=None,names=['SLOTS']).SLOTS.values.tolist()\n",
    "slots2idx  = {slots:idx for idx,slots in enumerate(final_slots)}\n",
    "idx2slots = {v: k for k, v in slots2idx.items()}"
   ]
  },
  {
   "cell_type": "code",
   "execution_count": 16,
   "metadata": {},
   "outputs": [],
   "source": [
    "def mapping2idx(df,fn):\n",
    "    \n",
    "    #del df['id']\n",
    "\n",
    "    # adding intent encoding\n",
    "    encoded_intent = []\n",
    "    for intent in list(df.INTENT):\n",
    "        try:\n",
    "            encoded_intent.append(intent2idx[intent])\n",
    "        except:\n",
    "            print(intent)\n",
    "            encoded_intent.append(intent2idx['OOI'])\n",
    "            \n",
    "        \n",
    "    df['INTENT_ID'] = encoded_intent \n",
    "\n",
    "    # adding mapped slot column\n",
    "    slots_ID = []\n",
    "\n",
    "    for annotations in list(df.SLOTS):\n",
    "        encoded_slot = \"\"\n",
    "        #print((annotations.split()))\n",
    "        for tokens in annotations.split():\n",
    "            try: \n",
    "                encoded_slot += str(slots2idx[tokens]) + \" \"\n",
    "            except:\n",
    "                print('token',tokens,fn)\n",
    "                encoded_slot += str(slots2idx['O'])\n",
    "        slots_ID.append(\" \".join(encoded_slot.split()))\n",
    "\n",
    "    df['SLOTS_ID'] = slots_ID\n",
    "    \n",
    "    return df"
   ]
  },
  {
   "cell_type": "code",
   "execution_count": 17,
   "metadata": {},
   "outputs": [],
   "source": [
    "def process_data(data_path,out_path,fn):\n",
    "    \n",
    "    # loading dataset\n",
    "    data = pd.read_csv(data_path,sep='\\t',header=0,names=['ID','TEXT','SLOTS','INTENT'])\n",
    "    \n",
    "    # lowerCasing the TEXT column\n",
    "    data['TEXT'] = data['TEXT'].str.lower()\n",
    "    \n",
    "    # handling multi-label instances \n",
    "    data['INTENT'] = data['INTENT'].replace(train_replace_dict)\n",
    "    \n",
    "    data = mapping2idx(data,fn)\n",
    "    \n",
    "    data.to_csv(out_path,sep='\\t',index=False)\n",
    "    "
   ]
  },
  {
   "cell_type": "code",
   "execution_count": 18,
   "metadata": {},
   "outputs": [],
   "source": [
    "# processing EN training data\n",
    "process_data('../data/multiATIS/raw/train_dev_test/train_EN.tsv','../data/multiATIS/splits/train_EN.tsv','EN')\n",
    "# processing ES training data\n",
    "process_data('../data/multiATIS/raw/train_dev_test/train_ES.tsv','../data/multiATIS/splits/train_ES.tsv','ES')\n",
    "# processing DE training data\n",
    "process_data('../data/multiATIS/raw/train_dev_test/train_DE.tsv','../data/multiATIS/splits/train_DE.tsv','DE')\n",
    "# processing FR training data\n",
    "process_data('../data/multiATIS/raw/train_dev_test/train_FR.tsv','../data/multiATIS/splits/train_FR.tsv','FR')"
   ]
  },
  {
   "cell_type": "code",
   "execution_count": 19,
   "metadata": {},
   "outputs": [],
   "source": [
    "# processing EN training data\n",
    "process_data('../data/multiATIS/raw/train_dev_test/dev_EN.tsv','../data/multiATIS/splits/dev_EN.tsv','EN')\n",
    "# processing ES training data\n",
    "process_data('../data/multiATIS/raw/train_dev_test/dev_ES.tsv','../data/multiATIS/splits/dev_ES.tsv','ES')\n",
    "# processing DE training data\n",
    "process_data('../data/multiATIS/raw/train_dev_test/dev_DE.tsv','../data/multiATIS/splits/dev_DE.tsv','DE')\n",
    "# processing FR training data\n",
    "process_data('../data/multiATIS/raw/train_dev_test/dev_FR.tsv','../data/multiATIS/splits/dev_FR.tsv','FR')"
   ]
  },
  {
   "cell_type": "code",
   "execution_count": 20,
   "metadata": {},
   "outputs": [
    {
     "name": "stdout",
     "output_type": "stream",
     "text": [
      "atis_day_name\n",
      "atis_day_name\n",
      "token B-compartment EN\n",
      "token B-stoploc.airport_code EN\n",
      "token B-booking_class EN\n",
      "token B-flight EN\n",
      "atis_day_name\n",
      "atis_day_name\n",
      "token B-compartment ES\n",
      "token B-stoploc.airport_code ES\n",
      "token B-booking_class ES\n",
      "token B-flight ES\n",
      "atis_day_name\n",
      "atis_day_name\n",
      "token B-compartment DE\n",
      "token B-stoploc.airport_code DE\n",
      "token B-booking_class DE\n",
      "token B-flight DE\n",
      "atis_day_name\n",
      "atis_day_name\n",
      "token B-compartment FR\n",
      "token I-compartment FR\n",
      "token B-stoploc.airport_code FR\n",
      "token B-booking_class FR\n",
      "token B-flight FR\n"
     ]
    }
   ],
   "source": [
    "# processing EN training data\n",
    "process_data('../data/multiATIS/raw/train_dev_test/test_EN.tsv','../data/multiATIS/splits/test_EN.tsv','EN')\n",
    "# processing ES training data\n",
    "process_data('../data/multiATIS/raw/train_dev_test/test_ES.tsv','../data/multiATIS/splits/test_ES.tsv','ES')\n",
    "# processing DE training data\n",
    "process_data('../data/multiATIS/raw/train_dev_test/test_DE.tsv','../data/multiATIS/splits/test_DE.tsv','DE')\n",
    "# processing FR training data\n",
    "process_data('../data/multiATIS/raw/train_dev_test/test_FR.tsv','../data/multiATIS/splits/test_FR.tsv','FR')"
   ]
  },
  {
   "cell_type": "code",
   "execution_count": null,
   "metadata": {},
   "outputs": [],
   "source": []
  }
 ],
 "metadata": {
  "kernelspec": {
   "display_name": "Python 3",
   "language": "python",
   "name": "python3"
  },
  "language_info": {
   "codemirror_mode": {
    "name": "ipython",
    "version": 3
   },
   "file_extension": ".py",
   "mimetype": "text/x-python",
   "name": "python",
   "nbconvert_exporter": "python",
   "pygments_lexer": "ipython3",
   "version": "3.7.9"
  }
 },
 "nbformat": 4,
 "nbformat_minor": 4
}
