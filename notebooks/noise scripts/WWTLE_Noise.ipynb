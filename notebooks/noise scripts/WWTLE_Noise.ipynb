{
 "cells": [
  {
   "cell_type": "code",
   "execution_count": 1,
   "id": "16b36c8f",
   "metadata": {},
   "outputs": [],
   "source": [
    "import pandas as pd\n",
    "from collections import Counter\n",
    "import numpy as np\n",
    "from copy import deepcopy\n",
    "import random\n",
    "from functools import reduce\n",
    "import pickle\n",
    "from sklearn.model_selection import train_test_split"
   ]
  },
  {
   "cell_type": "code",
   "execution_count": 2,
   "id": "6dc427ae",
   "metadata": {},
   "outputs": [],
   "source": [
    "train_replace_dict = {'atis_flight#atis_airfare': 'atis_airfare', \n",
    "                                     'atis_ground_service#atis_ground_fare': 'atis_ground_fare',\n",
    "                                     'atis_aircraft#atis_flight#atis_flight_no': 'atis_flight_no',\n",
    "                                     'atis_airfare#atis_flight_time':'atis_flight_time',\n",
    "                                     'atis_airline#atis_flight_no':'atis_flight_no',\n",
    "                                     'atis_flight_no#atis_airline' : 'atis_flight_no',\n",
    "                                     'atis_airfare#atis_flight': 'atis_airfare',\n",
    "                                     'atis_flight#atis_airline' : 'atis_airline'}\n",
    "\n",
    "# intent to idx mapping\n",
    "intent_list = (pd.read_csv('../../data/multiATIS/intent_list.csv',sep=',',header=None,names=['INTENT']).INTENT.values.tolist())\n",
    "intent2idx = { intent:idx for idx,intent in enumerate(intent_list)}\n",
    "\n",
    "# slot idx mapping\n",
    "final_slots = pd.read_csv('../../data/multiATIS/slots_list.csv',sep=',',header=None,names=['SLOTS']).SLOTS.values.tolist()\n",
    "slots2idx  = {slots:idx for idx,slots in enumerate(final_slots)}\n",
    "idx2slots = {v: k for k, v in slots2idx.items()}"
   ]
  },
  {
   "cell_type": "code",
   "execution_count": 3,
   "id": "e6eb8b10",
   "metadata": {},
   "outputs": [],
   "source": [
    "def mapping2idx(df):\n",
    "\n",
    "    encoded_intent = []\n",
    "    for intent in list(df.INTENT):\n",
    "        try:\n",
    "            encoded_intent.append(intent2idx[intent])\n",
    "        except:\n",
    "            print(intent)\n",
    "            encoded_intent.append(intent2idx['OOI'])\n",
    "            \n",
    "        \n",
    "    df['INTENT_ID'] = encoded_intent \n",
    "\n",
    "    # adding mapped slot column\n",
    "    slots_ID = []\n",
    "\n",
    "    for annotations in list(df.SLOTS):\n",
    "        encoded_slot = \"\"\n",
    "        #print((annotations.split()))\n",
    "        for tokens in annotations.split():\n",
    "            try: \n",
    "                encoded_slot += str(slots2idx[tokens]) + \" \"\n",
    "            except:\n",
    "                print('token',tokens)\n",
    "                encoded_slot += str(slots2idx['O']) + \" \"\n",
    "        slots_ID.append(\" \".join(encoded_slot.split()))\n",
    "\n",
    "    df['SLOTS_ID'] = slots_ID\n",
    "    \n",
    "    return df"
   ]
  },
  {
   "cell_type": "code",
   "execution_count": 4,
   "id": "d048b055",
   "metadata": {},
   "outputs": [],
   "source": [
    "def WWTLE_noise(data,l):\n",
    "    \n",
    "    orig_data = deepcopy(data)\n",
    "    \n",
    "    augINTENT, augSLOTS, augTEXT,augID = [],[],[],[]\n",
    "    \n",
    "    cnt = 0\n",
    "    for sample in data.values.tolist():\n",
    "\n",
    "        CP_length = len(sample[2].split(\" \"))\n",
    "        \n",
    "        if CP_length <= l:\n",
    "            continue\n",
    "        else:\n",
    "            \n",
    "            limit_index = l\n",
    "\n",
    "            TEXT = ' '.join(sample[1].split(' ')[:limit_index-1])\n",
    "            SLOTS = ' '.join(sample[2].split(' ')[:limit_index-1])\n",
    "         \n",
    "            augINTENT.append(sample[3])\n",
    "            augTEXT.append(TEXT)\n",
    "            augSLOTS.append(SLOTS)\n",
    "            augID.append(cnt)\n",
    "            cnt+=1\n",
    "               \n",
    "    augPD = pd.DataFrame([augID,augTEXT,augSLOTS,augINTENT],index=['ID','TEXT','SLOTS','INTENT']).T\n",
    "    \n",
    "    return augPD"
   ]
  },
  {
   "cell_type": "code",
   "execution_count": 8,
   "id": "f5fa155a",
   "metadata": {},
   "outputs": [],
   "source": [
    "def WWTLE_aug(data_path,out_path,fn,l):\n",
    "    \n",
    "    # loading dataset\n",
    "    data = pd.read_csv(data_path,sep='\\t',header=0,names=['ID','TEXT','SLOTS','INTENT'])\n",
    "    \n",
    "    # lowerCasing the TEXT column\n",
    "    data['TEXT'] = data['TEXT'].str.lower()\n",
    "    \n",
    "    # handling multi-label instances \n",
    "    data['INTENT'] = data['INTENT'].replace(train_replace_dict)\n",
    "    \n",
    "    aug_data = WWTLE_noise(data,l=l)\n",
    "    \n",
    "    aug_data = mapping2idx(aug_data)\n",
    "\n",
    "    aug_data = aug_data.sample(frac=1).reset_index(drop=True)\n",
    "    aug_data.to_csv(out_path + fn,sep='\\t',index=False)\n",
    "    "
   ]
  },
  {
   "cell_type": "code",
   "execution_count": 9,
   "id": "86bff4af",
   "metadata": {},
   "outputs": [
    {
     "name": "stdout",
     "output_type": "stream",
     "text": [
      "atis_day_name\n",
      "atis_day_name\n",
      "token B-flight\n",
      "atis_day_name\n",
      "atis_day_name\n",
      "token B-flight\n",
      "atis_day_name\n",
      "atis_day_name\n",
      "token B-flight\n"
     ]
    }
   ],
   "source": [
    "WWTLE_aug('../../data/multiATIS/raw/train_dev_test/test_EN.tsv','../../data/multiATIS/split/test/WWTLE_Noise/8word/','test_EN.tsv',l=8)\n",
    "WWTLE_aug('../../data/multiATIS/raw/train_dev_test/test_EN.tsv','../../data/multiATIS/split/test/WWTLE_Noise/10word/','test_EN.tsv',l=10)\n",
    "WWTLE_aug('../../data/multiATIS/raw/train_dev_test/test_EN.tsv','../../data/multiATIS/split/test/WWTLE_Noise/12word/','test_EN.tsv',l=12)\n",
    "WWTLE_aug('../../data/multiATIS/raw/train_dev_test/test_EN.tsv','../../data/multiATIS/split/test/WWTLE_Noise/14word/','test_EN.tsv',l=14)"
   ]
  },
  {
   "cell_type": "markdown",
   "id": "29c7b009",
   "metadata": {},
   "source": [
    "# WWTLE training data augmentation"
   ]
  },
  {
   "cell_type": "code",
   "execution_count": 5,
   "id": "90d9ff02",
   "metadata": {},
   "outputs": [],
   "source": [
    "def WWTLE_aug(data_path,out_path,fn):\n",
    "    \n",
    "    # loading dataset\n",
    "    data = pd.read_csv(data_path,sep='\\t',header=0,names=['ID','TEXT','SLOTS','INTENT'])\n",
    "    \n",
    "    # lowerCasing the TEXT column\n",
    "    data['TEXT'] = data['TEXT'].str.lower()\n",
    "    \n",
    "    # handling multi-label instances \n",
    "    data['INTENT'] = data['INTENT'].replace(train_replace_dict)\n",
    "    \n",
    "    aug_data_8 = WWTLE_noise(data,l=8)\n",
    "    aug_data_10 = WWTLE_noise(data,l=10)\n",
    "    aug_data_12 = WWTLE_noise(data,l=12)\n",
    "    aug_data_14 = WWTLE_noise(data,l=14)\n",
    "    \n",
    "    augmented_data = pd.concat([data,aug_data_10,aug_data_12,aug_data_14,aug_data_8])\n",
    "    \n",
    "    augmented_data = mapping2idx(augmented_data)\n",
    "    \n",
    "    augmented_data = augmented_data.sample(frac=1).reset_index(drop=True)\n",
    "    augmented_data.to_csv(out_path + fn,sep='\\t',index=False)\n",
    "    "
   ]
  },
  {
   "cell_type": "code",
   "execution_count": 6,
   "id": "f6b033e2",
   "metadata": {},
   "outputs": [],
   "source": [
    "WWTLE_aug('../../data/multiATIS/raw/train_dev_test/train_EN.tsv','../../data/multiATIS/split/train/WWTLE_Augmented/','test_EN.tsv')"
   ]
  },
  {
   "cell_type": "code",
   "execution_count": null,
   "id": "d06b2340",
   "metadata": {},
   "outputs": [],
   "source": []
  }
 ],
 "metadata": {
  "kernelspec": {
   "display_name": "Python 3",
   "language": "python",
   "name": "python3"
  },
  "language_info": {
   "codemirror_mode": {
    "name": "ipython",
    "version": 3
   },
   "file_extension": ".py",
   "mimetype": "text/x-python",
   "name": "python",
   "nbconvert_exporter": "python",
   "pygments_lexer": "ipython3",
   "version": "3.8.8"
  }
 },
 "nbformat": 4,
 "nbformat_minor": 5
}
