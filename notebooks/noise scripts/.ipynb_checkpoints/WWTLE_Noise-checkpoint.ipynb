{
 "cells": [
  {
   "cell_type": "code",
   "execution_count": 1,
   "id": "16b36c8f",
   "metadata": {},
   "outputs": [],
   "source": [
    "import pandas as pd\n",
    "from collections import Counter\n",
    "import numpy as np\n",
    "from copy import deepcopy\n",
    "import random\n",
    "from functools import reduce\n",
    "import pickle\n",
    "from sklearn.model_selection import train_test_split"
   ]
  },
  {
   "cell_type": "code",
   "execution_count": 2,
   "id": "6dc427ae",
   "metadata": {},
   "outputs": [],
   "source": [
    "train_replace_dict = {'atis_flight#atis_airfare': 'atis_airfare', \n",
    "                                     'atis_ground_service#atis_ground_fare': 'atis_ground_fare',\n",
    "                                     'atis_aircraft#atis_flight#atis_flight_no': 'atis_flight_no',\n",
    "                                     'atis_airfare#atis_flight_time':'atis_flight_time',\n",
    "                                     'atis_airline#atis_flight_no':'atis_flight_no',\n",
    "                                     'atis_flight_no#atis_airline' : 'atis_flight_no',\n",
    "                                     'atis_airfare#atis_flight': 'atis_airfare',\n",
    "                                     'atis_flight#atis_airline' : 'atis_airline'}\n",
    "\n",
    "# intent to idx mapping\n",
    "intent_list = (pd.read_csv('../../data/multiATIS/intent_list.csv',sep=',',header=None,names=['INTENT']).INTENT.values.tolist())\n",
    "intent2idx = { intent:idx for idx,intent in enumerate(intent_list)}\n",
    "\n",
    "# slot idx mapping\n",
    "final_slots = pd.read_csv('../../data/multiATIS/slots_list.csv',sep=',',header=None,names=['SLOTS']).SLOTS.values.tolist()\n",
    "slots2idx  = {slots:idx for idx,slots in enumerate(final_slots)}\n",
    "idx2slots = {v: k for k, v in slots2idx.items()}"
   ]
  },
  {
   "cell_type": "code",
   "execution_count": 3,
   "id": "e6eb8b10",
   "metadata": {},
   "outputs": [],
   "source": [
    "def mapping2idx(df):\n",
    "\n",
    "    encoded_intent = []\n",
    "    for intent in list(df.INTENT):\n",
    "        try:\n",
    "            encoded_intent.append(intent2idx[intent])\n",
    "        except:\n",
    "            print(intent)\n",
    "            encoded_intent.append(intent2idx['OOI'])\n",
    "            \n",
    "        \n",
    "    df['INTENT_ID'] = encoded_intent \n",
    "\n",
    "    # adding mapped slot column\n",
    "    slots_ID = []\n",
    "\n",
    "    for annotations in list(df.SLOTS):\n",
    "        encoded_slot = \"\"\n",
    "        #print((annotations.split()))\n",
    "        for tokens in annotations.split():\n",
    "            try: \n",
    "                encoded_slot += str(slots2idx[tokens]) + \" \"\n",
    "            except:\n",
    "                print('token',tokens)\n",
    "                encoded_slot += str(slots2idx['O']) + \" \"\n",
    "        slots_ID.append(\" \".join(encoded_slot.split()))\n",
    "\n",
    "    df['SLOTS_ID'] = slots_ID\n",
    "    \n",
    "    return df"
   ]
  },
  {
   "cell_type": "code",
   "execution_count": 11,
   "id": "d048b055",
   "metadata": {},
   "outputs": [],
   "source": [
    "def WWTLE_noise(data,l):\n",
    "    \n",
    "    orig_data = deepcopy(data)\n",
    "    \n",
    "    augINTENT, augSLOTS, augTEXT,augID = [],[],[],[]\n",
    "    \n",
    "    cnt = 0\n",
    "    for sample in data.values.tolist():\n",
    "\n",
    "        CP_length = len(sample[2].split(\" \"))\n",
    "        \n",
    "        if CP_length <= l:\n",
    "            continue\n",
    "        else:\n",
    "            \n",
    "            limit_index = l\n",
    "\n",
    "            TEXT = ' '.join(sample[1].split(' ')[:limit_index])\n",
    "            SLOTS = ' '.join(sample[2].split(' ')[:limit_index])\n",
    "         \n",
    "            augINTENT.append(sample[3])\n",
    "            augTEXT.append(TEXT)\n",
    "            augSLOTS.append(SLOTS)\n",
    "            augID.append(cnt)\n",
    "            cnt+=1\n",
    "               \n",
    "    augPD = pd.DataFrame([augID,augTEXT,augSLOTS,augINTENT],index=['ID','TEXT','SLOTS','INTENT']).T\n",
    "    \n",
    "    return augPD"
   ]
  },
  {
   "cell_type": "code",
   "execution_count": 14,
   "id": "f5fa155a",
   "metadata": {},
   "outputs": [],
   "source": [
    "def WWTLE_aug(data_path,out_path,fn,l):\n",
    "    \n",
    "    # loading dataset\n",
    "    data = pd.read_csv(data_path,sep='\\t',header=0,names=['ID','TEXT','SLOTS','INTENT'])\n",
    "    \n",
    "    # lowerCasing the TEXT column\n",
    "    data['TEXT'] = data['TEXT'].str.lower()\n",
    "    \n",
    "    # handling multi-label instances \n",
    "    data['INTENT'] = data['INTENT'].replace(train_replace_dict)\n",
    "    \n",
    "    aug_data = WWTLE_noise(data,l=l)\n",
    "    \n",
    "    aug_data = mapping2idx(aug_data)\n",
    "\n",
    "    aug_data = aug_data.sample(frac=1).reset_index(drop=True)\n",
    "    aug_data.to_csv(out_path + fn,sep='\\t',index=False)\n",
    "    "
   ]
  },
  {
   "cell_type": "code",
   "execution_count": 16,
   "id": "86bff4af",
   "metadata": {},
   "outputs": [
    {
     "name": "stdout",
     "output_type": "stream",
     "text": [
      "atis_day_name\n",
      "atis_day_name\n",
      "token B-flight\n"
     ]
    },
    {
     "ename": "FileNotFoundError",
     "evalue": "[Errno 2] No such file or directory: '../../data/multiATIS/split/test/WWTLE_Noise/8Word/test_EN.tsv'",
     "output_type": "error",
     "traceback": [
      "\u001b[0;31m---------------------------------------------------------------------------\u001b[0m",
      "\u001b[0;31mFileNotFoundError\u001b[0m                         Traceback (most recent call last)",
      "\u001b[0;32m<ipython-input-16-13af61ff4958>\u001b[0m in \u001b[0;36m<module>\u001b[0;34m\u001b[0m\n\u001b[0;32m----> 1\u001b[0;31m \u001b[0mWWTLE_aug\u001b[0m\u001b[0;34m(\u001b[0m\u001b[0;34m'../../data/multiATIS/raw/train_dev_test/test_EN.tsv'\u001b[0m\u001b[0;34m,\u001b[0m\u001b[0;34m'../../data/multiATIS/split/test/WWTLE_Noise/8Word/'\u001b[0m\u001b[0;34m,\u001b[0m\u001b[0;34m'test_EN.tsv'\u001b[0m\u001b[0;34m,\u001b[0m\u001b[0ml\u001b[0m\u001b[0;34m=\u001b[0m\u001b[0;36m8\u001b[0m\u001b[0;34m)\u001b[0m\u001b[0;34m\u001b[0m\u001b[0;34m\u001b[0m\u001b[0m\n\u001b[0m\u001b[1;32m      2\u001b[0m \u001b[0mWWTLE_aug\u001b[0m\u001b[0;34m(\u001b[0m\u001b[0;34m'../../data/multiATIS/raw/train_dev_test/test_EN.tsv'\u001b[0m\u001b[0;34m,\u001b[0m\u001b[0;34m'../../data/multiATIS/split/test/WWTLE_Noise/10Word/'\u001b[0m\u001b[0;34m,\u001b[0m\u001b[0;34m'test_EN.tsv'\u001b[0m\u001b[0;34m,\u001b[0m\u001b[0ml\u001b[0m\u001b[0;34m=\u001b[0m\u001b[0;36m10\u001b[0m\u001b[0;34m)\u001b[0m\u001b[0;34m\u001b[0m\u001b[0;34m\u001b[0m\u001b[0m\n\u001b[1;32m      3\u001b[0m \u001b[0mWWTLE_aug\u001b[0m\u001b[0;34m(\u001b[0m\u001b[0;34m'../../data/multiATIS/raw/train_dev_test/test_EN.tsv'\u001b[0m\u001b[0;34m,\u001b[0m\u001b[0;34m'../../data/multiATIS/split/test/WWTLE_Noise/12Word/'\u001b[0m\u001b[0;34m,\u001b[0m\u001b[0;34m'test_EN.tsv'\u001b[0m\u001b[0;34m,\u001b[0m\u001b[0ml\u001b[0m\u001b[0;34m=\u001b[0m\u001b[0;36m12\u001b[0m\u001b[0;34m)\u001b[0m\u001b[0;34m\u001b[0m\u001b[0;34m\u001b[0m\u001b[0m\n\u001b[1;32m      4\u001b[0m \u001b[0mWWTLE_aug\u001b[0m\u001b[0;34m(\u001b[0m\u001b[0;34m'../../data/multiATIS/raw/train_dev_test/test_EN.tsv'\u001b[0m\u001b[0;34m,\u001b[0m\u001b[0;34m'../../data/multiATIS/split/test/WWTLE_Noise/14Word/'\u001b[0m\u001b[0;34m,\u001b[0m\u001b[0;34m'test_EN.tsv'\u001b[0m\u001b[0;34m,\u001b[0m\u001b[0ml\u001b[0m\u001b[0;34m=\u001b[0m\u001b[0;36m14\u001b[0m\u001b[0;34m)\u001b[0m\u001b[0;34m\u001b[0m\u001b[0;34m\u001b[0m\u001b[0m\n",
      "\u001b[0;32m<ipython-input-14-d7ac44deb727>\u001b[0m in \u001b[0;36mWWTLE_aug\u001b[0;34m(data_path, out_path, fn, l)\u001b[0m\n\u001b[1;32m     15\u001b[0m \u001b[0;34m\u001b[0m\u001b[0m\n\u001b[1;32m     16\u001b[0m     \u001b[0maug_data\u001b[0m \u001b[0;34m=\u001b[0m \u001b[0maug_data\u001b[0m\u001b[0;34m.\u001b[0m\u001b[0msample\u001b[0m\u001b[0;34m(\u001b[0m\u001b[0mfrac\u001b[0m\u001b[0;34m=\u001b[0m\u001b[0;36m1\u001b[0m\u001b[0;34m)\u001b[0m\u001b[0;34m.\u001b[0m\u001b[0mreset_index\u001b[0m\u001b[0;34m(\u001b[0m\u001b[0mdrop\u001b[0m\u001b[0;34m=\u001b[0m\u001b[0;32mTrue\u001b[0m\u001b[0;34m)\u001b[0m\u001b[0;34m\u001b[0m\u001b[0;34m\u001b[0m\u001b[0m\n\u001b[0;32m---> 17\u001b[0;31m     \u001b[0maug_data\u001b[0m\u001b[0;34m.\u001b[0m\u001b[0mto_csv\u001b[0m\u001b[0;34m(\u001b[0m\u001b[0mout_path\u001b[0m \u001b[0;34m+\u001b[0m \u001b[0mfn\u001b[0m\u001b[0;34m,\u001b[0m\u001b[0msep\u001b[0m\u001b[0;34m=\u001b[0m\u001b[0;34m'\\t'\u001b[0m\u001b[0;34m,\u001b[0m\u001b[0mindex\u001b[0m\u001b[0;34m=\u001b[0m\u001b[0;32mFalse\u001b[0m\u001b[0;34m)\u001b[0m\u001b[0;34m\u001b[0m\u001b[0;34m\u001b[0m\u001b[0m\n\u001b[0m\u001b[1;32m     18\u001b[0m \u001b[0;34m\u001b[0m\u001b[0m\n",
      "\u001b[0;32m~/miniconda3/envs/mlENV3/lib/python3.8/site-packages/pandas/core/generic.py\u001b[0m in \u001b[0;36mto_csv\u001b[0;34m(self, path_or_buf, sep, na_rep, float_format, columns, header, index, index_label, mode, encoding, compression, quoting, quotechar, line_terminator, chunksize, date_format, doublequote, escapechar, decimal, errors, storage_options)\u001b[0m\n\u001b[1;32m   3385\u001b[0m         )\n\u001b[1;32m   3386\u001b[0m \u001b[0;34m\u001b[0m\u001b[0m\n\u001b[0;32m-> 3387\u001b[0;31m         return DataFrameRenderer(formatter).to_csv(\n\u001b[0m\u001b[1;32m   3388\u001b[0m             \u001b[0mpath_or_buf\u001b[0m\u001b[0;34m,\u001b[0m\u001b[0;34m\u001b[0m\u001b[0;34m\u001b[0m\u001b[0m\n\u001b[1;32m   3389\u001b[0m             \u001b[0mline_terminator\u001b[0m\u001b[0;34m=\u001b[0m\u001b[0mline_terminator\u001b[0m\u001b[0;34m,\u001b[0m\u001b[0;34m\u001b[0m\u001b[0;34m\u001b[0m\u001b[0m\n",
      "\u001b[0;32m~/miniconda3/envs/mlENV3/lib/python3.8/site-packages/pandas/io/formats/format.py\u001b[0m in \u001b[0;36mto_csv\u001b[0;34m(self, path_or_buf, encoding, sep, columns, index_label, mode, compression, quoting, quotechar, line_terminator, chunksize, date_format, doublequote, escapechar, errors, storage_options)\u001b[0m\n\u001b[1;32m   1081\u001b[0m             \u001b[0mformatter\u001b[0m\u001b[0;34m=\u001b[0m\u001b[0mself\u001b[0m\u001b[0;34m.\u001b[0m\u001b[0mfmt\u001b[0m\u001b[0;34m,\u001b[0m\u001b[0;34m\u001b[0m\u001b[0;34m\u001b[0m\u001b[0m\n\u001b[1;32m   1082\u001b[0m         )\n\u001b[0;32m-> 1083\u001b[0;31m         \u001b[0mcsv_formatter\u001b[0m\u001b[0;34m.\u001b[0m\u001b[0msave\u001b[0m\u001b[0;34m(\u001b[0m\u001b[0;34m)\u001b[0m\u001b[0;34m\u001b[0m\u001b[0;34m\u001b[0m\u001b[0m\n\u001b[0m\u001b[1;32m   1084\u001b[0m \u001b[0;34m\u001b[0m\u001b[0m\n\u001b[1;32m   1085\u001b[0m         \u001b[0;32mif\u001b[0m \u001b[0mcreated_buffer\u001b[0m\u001b[0;34m:\u001b[0m\u001b[0;34m\u001b[0m\u001b[0;34m\u001b[0m\u001b[0m\n",
      "\u001b[0;32m~/miniconda3/envs/mlENV3/lib/python3.8/site-packages/pandas/io/formats/csvs.py\u001b[0m in \u001b[0;36msave\u001b[0;34m(self)\u001b[0m\n\u001b[1;32m    226\u001b[0m         \"\"\"\n\u001b[1;32m    227\u001b[0m         \u001b[0;31m# apply compression and byte/text conversion\u001b[0m\u001b[0;34m\u001b[0m\u001b[0;34m\u001b[0m\u001b[0;34m\u001b[0m\u001b[0m\n\u001b[0;32m--> 228\u001b[0;31m         with get_handle(\n\u001b[0m\u001b[1;32m    229\u001b[0m             \u001b[0mself\u001b[0m\u001b[0;34m.\u001b[0m\u001b[0mfilepath_or_buffer\u001b[0m\u001b[0;34m,\u001b[0m\u001b[0;34m\u001b[0m\u001b[0;34m\u001b[0m\u001b[0m\n\u001b[1;32m    230\u001b[0m             \u001b[0mself\u001b[0m\u001b[0;34m.\u001b[0m\u001b[0mmode\u001b[0m\u001b[0;34m,\u001b[0m\u001b[0;34m\u001b[0m\u001b[0;34m\u001b[0m\u001b[0m\n",
      "\u001b[0;32m~/miniconda3/envs/mlENV3/lib/python3.8/site-packages/pandas/io/common.py\u001b[0m in \u001b[0;36mget_handle\u001b[0;34m(path_or_buf, mode, encoding, compression, memory_map, is_text, errors, storage_options)\u001b[0m\n\u001b[1;32m    640\u001b[0m                 \u001b[0merrors\u001b[0m \u001b[0;34m=\u001b[0m \u001b[0;34m\"replace\"\u001b[0m\u001b[0;34m\u001b[0m\u001b[0;34m\u001b[0m\u001b[0m\n\u001b[1;32m    641\u001b[0m             \u001b[0;31m# Encoding\u001b[0m\u001b[0;34m\u001b[0m\u001b[0;34m\u001b[0m\u001b[0;34m\u001b[0m\u001b[0m\n\u001b[0;32m--> 642\u001b[0;31m             handle = open(\n\u001b[0m\u001b[1;32m    643\u001b[0m                 \u001b[0mhandle\u001b[0m\u001b[0;34m,\u001b[0m\u001b[0;34m\u001b[0m\u001b[0;34m\u001b[0m\u001b[0m\n\u001b[1;32m    644\u001b[0m                 \u001b[0mioargs\u001b[0m\u001b[0;34m.\u001b[0m\u001b[0mmode\u001b[0m\u001b[0;34m,\u001b[0m\u001b[0;34m\u001b[0m\u001b[0;34m\u001b[0m\u001b[0m\n",
      "\u001b[0;31mFileNotFoundError\u001b[0m: [Errno 2] No such file or directory: '../../data/multiATIS/split/test/WWTLE_Noise/8Word/test_EN.tsv'"
     ]
    }
   ],
   "source": [
    "WWTLE_aug('../../data/multiATIS/raw/train_dev_test/test_EN.tsv','../../data/multiATIS/split/test/WWTLE_Noise/8word/','test_EN.tsv',l=8)\n",
    "WWTLE_aug('../../data/multiATIS/raw/train_dev_test/test_EN.tsv','../../data/multiATIS/split/test/WWTLE_Noise/10word/','test_EN.tsv',l=10)\n",
    "WWTLE_aug('../../data/multiATIS/raw/train_dev_test/test_EN.tsv','../../data/multiATIS/split/test/WWTLE_Noise/12word/','test_EN.tsv',l=12)\n",
    "WWTLE_aug('../../data/multiATIS/raw/train_dev_test/test_EN.tsv','../../data/multiATIS/split/test/WWTLE_Noise/14word/','test_EN.tsv',l=14)"
   ]
  },
  {
   "cell_type": "code",
   "execution_count": null,
   "id": "cd6286cf",
   "metadata": {},
   "outputs": [],
   "source": []
  }
 ],
 "metadata": {
  "kernelspec": {
   "display_name": "Python 3",
   "language": "python",
   "name": "python3"
  },
  "language_info": {
   "codemirror_mode": {
    "name": "ipython",
    "version": 3
   },
   "file_extension": ".py",
   "mimetype": "text/x-python",
   "name": "python",
   "nbconvert_exporter": "python",
   "pygments_lexer": "ipython3",
   "version": "3.8.8"
  }
 },
 "nbformat": 4,
 "nbformat_minor": 5
}
