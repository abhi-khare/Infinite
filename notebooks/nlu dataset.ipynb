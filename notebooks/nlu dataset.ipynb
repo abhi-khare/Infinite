{
 "cells": [
  {
   "cell_type": "code",
   "execution_count": 3,
   "metadata": {},
   "outputs": [],
   "source": [
    "from torch.utils.data import Dataset\n",
    "from transformers import DistilBertTokenizerFast\n",
    "import pandas as pd\n",
    "import random\n",
    "from torch.utils.data import DataLoader\n",
    "import torch"
   ]
  },
  {
   "cell_type": "code",
   "execution_count": 31,
   "metadata": {},
   "outputs": [],
   "source": [
    "class nluDataset(Dataset):\n",
    "\n",
    "    def __init__(self, file_dir, tokenizer, max_len, device):\n",
    "        \n",
    "        self.data = pd.read_csv(file_dir, sep='\\t')\n",
    "        self.tokenizer = DistilBertTokenizerFast.from_pretrained(tokenizer)\n",
    "        self.max_len = max_len\n",
    "    \n",
    "    def processSlotLabel(self,word_ids,slot_ids):\n",
    "        \n",
    "        slot_ids = list(map(int, slot_ids.split(' ')))   \n",
    "        new_labels = []\n",
    "        previous_word_idx = None\n",
    "        \n",
    "        for word_idx in word_ids:\n",
    "            if word_idx is None:\n",
    "                new_labels.append(-100)\n",
    "            elif word_idx != previous_word_idx:\n",
    "                new_labels.append(slot_ids[word_idx])\n",
    "            else:\n",
    "                new_labels.append(-100)\n",
    "        \n",
    "        return new_labels  \n",
    "        \n",
    "\n",
    "    def __getitem__(self, index):\n",
    "        \n",
    "        text = str(self.data.TEXT[index])\n",
    "        text = \" \".join(text.split())\n",
    "        \n",
    "        inputs = self.tokenizer.encode_plus(\n",
    "            text,\n",
    "            None,\n",
    "            add_special_tokens=True,\n",
    "            return_token_type_ids=False,\n",
    "            truncation=True,\n",
    "            max_length=self.max_len,\n",
    "            padding='max_length',\n",
    "            \n",
    "            #is_split_into_words=True\n",
    "        )\n",
    "        \n",
    "        print(self.tokenizer.convert_ids_to_tokens(inputs[\"input_ids\"]),inputs.word_ids())\n",
    "        # text encoding\n",
    "        token_ids = torch.tensor(inputs['input_ids'], dtype=torch.long)\n",
    "        mask = torch.tensor(inputs['attention_mask'], dtype=torch.long)\n",
    "        word_ids = inputs.word_ids()\n",
    "\n",
    "        # intent\n",
    "        intent_id = torch.tensor(self.data.INTENT_ID[index], dtype=torch.long)\n",
    "        intent_label = self.data.INTENT[index]\n",
    "\n",
    "        # label processing\n",
    "        slot_label = self.data.SLOTS[index]\n",
    "        slot_id = self.processSlotLabel(word_ids,self.data.SLOTS_ID[index])\n",
    "\n",
    "        #language = self.data.language[index]\n",
    "        \n",
    "        return {\n",
    "            'token_ids': token_ids,\n",
    "            'mask': mask,\n",
    "            'intent_id': intent_id,\n",
    "            'slots_id' : slot_id,\n",
    "            'intent_label': intent_label,\n",
    "            'slots_label' : slot_label\n",
    "        } \n",
    "    \n",
    "    def __len__(self):\n",
    "        return len(self.data)"
   ]
  },
  {
   "cell_type": "code",
   "execution_count": 32,
   "metadata": {},
   "outputs": [],
   "source": [
    "ds = nluDataset(file_dir='../data/multiATIS/splits/train_EN.tsv', tokenizer='distilbert-base-multilingual-cased', max_len=56, device=1)"
   ]
  },
  {
   "cell_type": "code",
   "execution_count": 33,
   "metadata": {},
   "outputs": [
    {
     "name": "stdout",
     "output_type": "stream",
     "text": [
      "['[CLS]', 'how', 'much', 'does', 'the', 'american', 'airline', '##s', 'flight', '71', 'from', 'dalla', '##s', 'to', 'san', 'franc', '##is', '##co', 'cost', '[SEP]', '[PAD]', '[PAD]', '[PAD]', '[PAD]', '[PAD]', '[PAD]', '[PAD]', '[PAD]', '[PAD]', '[PAD]', '[PAD]', '[PAD]', '[PAD]', '[PAD]', '[PAD]', '[PAD]', '[PAD]', '[PAD]', '[PAD]', '[PAD]', '[PAD]', '[PAD]', '[PAD]', '[PAD]', '[PAD]', '[PAD]', '[PAD]', '[PAD]', '[PAD]', '[PAD]', '[PAD]', '[PAD]', '[PAD]', '[PAD]', '[PAD]', '[PAD]'] [None, 0, 1, 2, 3, 4, 5, 5, 6, 7, 8, 9, 9, 10, 11, 12, 12, 12, 13, None, None, None, None, None, None, None, None, None, None, None, None, None, None, None, None, None, None, None, None, None, None, None, None, None, None, None, None, None, None, None, None, None, None, None, None, None]\n"
     ]
    }
   ],
   "source": [
    "sample = ds[0]"
   ]
  },
  {
   "cell_type": "code",
   "execution_count": 34,
   "metadata": {},
   "outputs": [
    {
     "data": {
      "text/plain": [
       "(tensor([  101, 14796, 13172, 15107, 10105, 50513, 67878, 10107, 23578, 12513,\n",
       "         10188, 11353, 10107, 10114, 14608, 63184, 10291, 10812, 18849,   102,\n",
       "             0,     0,     0,     0,     0,     0,     0,     0,     0,     0,\n",
       "             0,     0,     0,     0,     0,     0,     0,     0,     0,     0,\n",
       "             0,     0,     0,     0,     0,     0,     0,     0,     0,     0,\n",
       "             0,     0,     0,     0,     0,     0]),\n",
       " 56)"
      ]
     },
     "execution_count": 34,
     "metadata": {},
     "output_type": "execute_result"
    }
   ],
   "source": [
    "sample['token_ids'],len(sample['token_ids'])"
   ]
  },
  {
   "cell_type": "code",
   "execution_count": 35,
   "metadata": {},
   "outputs": [
    {
     "data": {
      "text/plain": [
       "(tensor([1, 1, 1, 1, 1, 1, 1, 1, 1, 1, 1, 1, 1, 1, 1, 1, 1, 1, 1, 1, 0, 0, 0, 0,\n",
       "         0, 0, 0, 0, 0, 0, 0, 0, 0, 0, 0, 0, 0, 0, 0, 0, 0, 0, 0, 0, 0, 0, 0, 0,\n",
       "         0, 0, 0, 0, 0, 0, 0, 0]),\n",
       " 56)"
      ]
     },
     "execution_count": 35,
     "metadata": {},
     "output_type": "execute_result"
    }
   ],
   "source": [
    "sample['mask'],len(sample['mask'])"
   ]
  },
  {
   "cell_type": "code",
   "execution_count": 36,
   "metadata": {},
   "outputs": [
    {
     "data": {
      "text/plain": [
       "([-100,\n",
       "  24,\n",
       "  24,\n",
       "  24,\n",
       "  24,\n",
       "  65,\n",
       "  66,\n",
       "  66,\n",
       "  24,\n",
       "  125,\n",
       "  24,\n",
       "  79,\n",
       "  79,\n",
       "  24,\n",
       "  73,\n",
       "  74,\n",
       "  74,\n",
       "  74,\n",
       "  24,\n",
       "  -100,\n",
       "  -100,\n",
       "  -100,\n",
       "  -100,\n",
       "  -100,\n",
       "  -100,\n",
       "  -100,\n",
       "  -100,\n",
       "  -100,\n",
       "  -100,\n",
       "  -100,\n",
       "  -100,\n",
       "  -100,\n",
       "  -100,\n",
       "  -100,\n",
       "  -100,\n",
       "  -100,\n",
       "  -100,\n",
       "  -100,\n",
       "  -100,\n",
       "  -100,\n",
       "  -100,\n",
       "  -100,\n",
       "  -100,\n",
       "  -100,\n",
       "  -100,\n",
       "  -100,\n",
       "  -100,\n",
       "  -100,\n",
       "  -100,\n",
       "  -100,\n",
       "  -100,\n",
       "  -100,\n",
       "  -100,\n",
       "  -100,\n",
       "  -100,\n",
       "  -100],\n",
       " 56)"
      ]
     },
     "execution_count": 36,
     "metadata": {},
     "output_type": "execute_result"
    }
   ],
   "source": [
    "sample['slots_id'],len(sample['slots_id'])"
   ]
  },
  {
   "cell_type": "code",
   "execution_count": null,
   "metadata": {},
   "outputs": [],
   "source": []
  }
 ],
 "metadata": {
  "kernelspec": {
   "display_name": "Python 3",
   "language": "python",
   "name": "python3"
  },
  "language_info": {
   "codemirror_mode": {
    "name": "ipython",
    "version": 3
   },
   "file_extension": ".py",
   "mimetype": "text/x-python",
   "name": "python",
   "nbconvert_exporter": "python",
   "pygments_lexer": "ipython3",
   "version": "3.7.10"
  }
 },
 "nbformat": 4,
 "nbformat_minor": 4
}
