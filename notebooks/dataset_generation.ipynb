{
 "cells": [
  {
   "cell_type": "code",
   "execution_count": 1,
   "metadata": {},
   "outputs": [],
   "source": [
    "import pandas as pd\n",
    "from collections import Counter\n",
    "import numpy as np\n",
    "from copy import deepcopy\n",
    "import random\n",
    "from functools import reduce\n",
    "import pickle\n",
    "from sklearn.model_selection import train_test_split"
   ]
  },
  {
   "cell_type": "code",
   "execution_count": 2,
   "metadata": {},
   "outputs": [],
   "source": [
    "train_replace_dict = {'atis_flight#atis_airfare': 'atis_airfare', \n",
    "                                     'atis_ground_service#atis_ground_fare': 'atis_ground_fare',\n",
    "                                     'atis_aircraft#atis_flight#atis_flight_no': 'atis_flight_no',\n",
    "                                     'atis_airfare#atis_flight_time':'atis_flight_time',\n",
    "                                     'atis_airline#atis_flight_no':'atis_flight_no',\n",
    "                                     'atis_flight_no#atis_airline' : 'atis_flight_no',\n",
    "                                     'atis_airfare#atis_flight': 'atis_airfare',\n",
    "                                     'atis_flight#atis_airline' : 'atis_airline'}\n",
    "\n",
    "# intent to idx mapping\n",
    "intent_list = (pd.read_csv('../data/multiATIS/intent_list.csv',sep=',',header=None,names=['INTENT']).INTENT.values.tolist())\n",
    "intent2idx = { intent:idx for idx,intent in enumerate(intent_list)}\n",
    "\n",
    "# slot idx mapping\n",
    "final_slots = pd.read_csv('../data/multiATIS/slots_list.csv',sep=',',header=None,names=['SLOTS']).SLOTS.values.tolist()\n",
    "slots2idx  = {slots:idx for idx,slots in enumerate(final_slots)}\n",
    "idx2slots = {v: k for k, v in slots2idx.items()}"
   ]
  },
  {
   "cell_type": "code",
   "execution_count": 3,
   "metadata": {},
   "outputs": [],
   "source": [
    "def mapping2idx(df):\n",
    "    \n",
    "    #del df['id']\n",
    "\n",
    "    # adding intent encoding\n",
    "    encoded_intent = []\n",
    "    for intent in list(df.INTENT):\n",
    "        try:\n",
    "            encoded_intent.append(intent2idx[intent])\n",
    "        except:\n",
    "            print(intent)\n",
    "            encoded_intent.append(intent2idx['OOI'])\n",
    "            \n",
    "        \n",
    "    df['INTENT_ID'] = encoded_intent \n",
    "\n",
    "    # adding mapped slot column\n",
    "    slots_ID = []\n",
    "\n",
    "    for annotations in list(df.SLOTS):\n",
    "        encoded_slot = \"\"\n",
    "        #print((annotations.split()))\n",
    "        for tokens in annotations.split():\n",
    "            try: \n",
    "                encoded_slot += str(slots2idx[tokens]) + \" \"\n",
    "            except:\n",
    "                print('token',tokens)\n",
    "                encoded_slot += str(slots2idx['O']) + \" \"\n",
    "        slots_ID.append(\" \".join(encoded_slot.split()))\n",
    "\n",
    "    df['SLOTS_ID'] = slots_ID\n",
    "    \n",
    "    return df"
   ]
  },
  {
   "cell_type": "markdown",
   "metadata": {},
   "source": [
    "# Clean dataset train/val dataset variation generation"
   ]
  },
  {
   "cell_type": "code",
   "execution_count": 5,
   "metadata": {},
   "outputs": [],
   "source": [
    "def process_data(data_path, train_out_path,val_out_path,test_out_path):\n",
    "   \n",
    "    # loading dataset\n",
    "    #trainPD = pd.read_csv(data_path+'train_EN.tsv',sep='\\t',header=0,names=['ID','TEXT','SLOTS','INTENT'])\n",
    "    #valPD = pd.read_csv(data_path+'dev_EN.tsv',sep='\\t',header=0,names=['ID','TEXT','SLOTS','INTENT'])\n",
    "    testPD = pd.read_csv(data_path+'test_EN.tsv',sep='\\t',header=0,names=['ID','TEXT','SLOTS','INTENT'])\n",
    "    \n",
    "    # lowerCasing the TEXT column\n",
    "    #trainPD['TEXT'] = trainPD['TEXT'].str.lower()\n",
    "    #valPD['TEXT'] = valPD['TEXT'].str.lower()\n",
    "    testPD['TEXT'] = testPD['TEXT'].str.lower()\n",
    "    \n",
    "    # handling multi-label instances \n",
    "    #trainPD['INTENT'] = trainPD['INTENT'].replace(train_replace_dict)\n",
    "    #valPD['INTENT'] = valPD['INTENT'].replace(train_replace_dict)\n",
    "    testPD['INTENT'] = testPD['INTENT'].replace(train_replace_dict)\n",
    "    \n",
    "    #trainPD = mapping2idx(trainPD)\n",
    "    #valPD = mapping2idx(valPD)\n",
    "    testPD = mapping2idx(testPD)\n",
    "    \n",
    "    #print('Length of training set... ',len(trainPD))\n",
    "    #print('Length of validation set... ',len(valPD))\n",
    "    print('Length of test set... ',len(testPD))\n",
    "    \n",
    "    #trainPD = trainPD.sample(frac=1).reset_index(drop=True)\n",
    "    #trainPD.to_csv(train_out_path,index=False,sep='\\t')\n",
    "    \n",
    "    #valPD = valPD.sample(frac=1).reset_index(drop=True)\n",
    "    #valPD.to_csv(val_out_path,index=False,sep='\\t')\n",
    "    \n",
    "    testPD = testPD.sample(frac=1).reset_index(drop=True)\n",
    "    testPD.to_csv(test_out_path,index=False,sep='\\t')\n",
    "    "
   ]
  },
  {
   "cell_type": "code",
   "execution_count": 6,
   "metadata": {},
   "outputs": [
    {
     "name": "stdout",
     "output_type": "stream",
     "text": [
      "atis_day_name\n",
      "atis_day_name\n",
      "token B-compartment\n",
      "token B-stoploc.airport_code\n",
      "token B-booking_class\n",
      "token B-flight\n",
      "Length of test set...  893\n"
     ]
    }
   ],
   "source": [
    "process_data('../data/multiATIS/raw/train_dev_test/','../data/multiATIS/split/train/clean/train.tsv',\n",
    "             '../data/multiATIS/split/valid/clean/val.tsv', '../data/multiATIS/split/test/clean/test.tsv')"
   ]
  },
  {
   "cell_type": "code",
   "execution_count": null,
   "metadata": {},
   "outputs": [],
   "source": []
  }
 ],
 "metadata": {
  "kernelspec": {
   "display_name": "Python 3",
   "language": "python",
   "name": "python3"
  },
  "language_info": {
   "codemirror_mode": {
    "name": "ipython",
    "version": 3
   },
   "file_extension": ".py",
   "mimetype": "text/x-python",
   "name": "python",
   "nbconvert_exporter": "python",
   "pygments_lexer": "ipython3",
   "version": "3.8.8"
  }
 },
 "nbformat": 4,
 "nbformat_minor": 4
}
