{
 "cells": [
  {
   "cell_type": "code",
   "execution_count": 2,
   "metadata": {},
   "outputs": [],
   "source": [
    "from transformers import MarianMTModel , MarianTokenizer\n",
    "import pandas as pd"
   ]
  },
  {
   "cell_type": "code",
   "execution_count": null,
   "metadata": {},
   "outputs": [],
   "source": [
    "data = pd.read_csv('./data/splits/text/train_lang.tsv',sep='\\t')\n",
    "data"
   ]
  },
  {
   "cell_type": "code",
   "execution_count": null,
   "metadata": {},
   "outputs": [],
   "source": [
    "def translate(source_text,src_lang,tgt_lang):\n",
    "    mname = f'Helsinki-NLP/opus-mt-{src_lang}-{tgt_lang}'\n",
    "    model = MarianMTModel.from_pretrained(mname)\n",
    "    tok = MarianTokenizer.from_pretrained(mname)\n",
    "    \n",
    "    batch_enc = tok.prepare_seq2seq_batch(source_text, return_tensors=\"pt\")\n",
    "    \n",
    "    gen = model.generate(**batch_enc)\n",
    "    \n",
    "    words = tok.batch_decode(gen, skip_special_tokens=True)\n",
    "    \n",
    "    return words"
   ]
  },
  {
   "cell_type": "code",
   "execution_count": null,
   "metadata": {},
   "outputs": [],
   "source": [
    "sample_text = [\"show me the flights from st. petersburg to salt lake city that arrive before noon\",\"is there ground transportation from the pittsburgh airport to downtown pittsburgh\"]"
   ]
  },
  {
   "cell_type": "code",
   "execution_count": null,
   "metadata": {},
   "outputs": [],
   "source": [
    "aug_data = []"
   ]
  },
  {
   "cell_type": "code",
   "execution_count": null,
   "metadata": {},
   "outputs": [],
   "source": [
    "# translate english to french\n",
    "EN_data = list(data[data.Language == 'en']['utterance'])\n",
    "FR_data = list(data[data.Language == 'fr']['utterance'])"
   ]
  },
  {
   "cell_type": "code",
   "execution_count": null,
   "metadata": {},
   "outputs": [],
   "source": [
    "# direct augmentation\n",
    "EN_translated_ENFR = translate(EN_data,'en','fr')\n",
    "FR_translated_FREN = translate(EN_data,'fr','en')"
   ]
  },
  {
   "cell_type": "code",
   "execution_count": null,
   "metadata": {},
   "outputs": [],
   "source": [
    "# self augmentation\n",
    "Aug_ENDE = translate(EN_data,'en','de')\n",
    "EN_translated_DEEN = translate(Aug_ENFR,'de','en')\n",
    "\n",
    "Aug_FRDE = translate(FR_data,'fr','de')\n",
    "FR_translated_DEFR = translate(Aug_FRDE,'de','fr')"
   ]
  },
  {
   "cell_type": "code",
   "execution_count": null,
   "metadata": {},
   "outputs": [],
   "source": [
    "# one hop cross translation\n",
    "EN_DE_translation = translate(EN_data,'en','de')\n",
    "DE_FR_translation = translate(EN_DE_translation,'de','fr')\n",
    "\n",
    "FR_DE_translation = translate(FR_data,'fr','de')\n",
    "DE_EN_translation = translate(FR_DE_translation,'de','en')"
   ]
  },
  {
   "cell_type": "code",
   "execution_count": 1,
   "metadata": {},
   "outputs": [
    {
     "ename": "NameError",
     "evalue": "name 'aug_data' is not defined",
     "output_type": "error",
     "traceback": [
      "\u001b[0;31m---------------------------------------------------------------------------\u001b[0m",
      "\u001b[0;31mNameError\u001b[0m                                 Traceback (most recent call last)",
      "\u001b[0;32m<ipython-input-1-cac60fad884d>\u001b[0m in \u001b[0;36m<module>\u001b[0;34m\u001b[0m\n\u001b[0;32m----> 1\u001b[0;31m \u001b[0maug_data\u001b[0m \u001b[0;34m+=\u001b[0m \u001b[0mEN_data\u001b[0m\u001b[0;34m\u001b[0m\u001b[0;34m\u001b[0m\u001b[0m\n\u001b[0m\u001b[1;32m      2\u001b[0m \u001b[0maug_data\u001b[0m \u001b[0;34m+=\u001b[0m \u001b[0mFR_data\u001b[0m\u001b[0;34m\u001b[0m\u001b[0;34m\u001b[0m\u001b[0m\n\u001b[1;32m      3\u001b[0m \u001b[0maug_data\u001b[0m \u001b[0;34m+=\u001b[0m \u001b[0mEN_translated_ENFR\u001b[0m\u001b[0;34m\u001b[0m\u001b[0;34m\u001b[0m\u001b[0m\n\u001b[1;32m      4\u001b[0m \u001b[0maug_data\u001b[0m \u001b[0;34m+=\u001b[0m \u001b[0mFR_translated_FREN\u001b[0m\u001b[0;34m\u001b[0m\u001b[0;34m\u001b[0m\u001b[0m\n\u001b[1;32m      5\u001b[0m \u001b[0maug_data\u001b[0m \u001b[0;34m+=\u001b[0m \u001b[0mEN_translated_DEEN\u001b[0m\u001b[0;34m\u001b[0m\u001b[0;34m\u001b[0m\u001b[0m\n",
      "\u001b[0;31mNameError\u001b[0m: name 'aug_data' is not defined"
     ]
    }
   ],
   "source": [
    "aug_data += EN_data\n",
    "aug_data += FR_data\n",
    "aug_data += EN_translated_ENFR\n",
    "aug_data += FR_translated_FREN\n",
    "aug_data += EN_translated_DEEN\n",
    "aug_data += FR_translated_DEFR\n",
    "aug_data += DE_FR_translation\n",
    "aug_data += DE_EN_translation"
   ]
  },
  {
   "cell_type": "code",
   "execution_count": 4,
   "metadata": {},
   "outputs": [
    {
     "ename": "NameError",
     "evalue": "name 'aug_data' is not defined",
     "output_type": "error",
     "traceback": [
      "\u001b[0;31m---------------------------------------------------------------------------\u001b[0m",
      "\u001b[0;31mNameError\u001b[0m                                 Traceback (most recent call last)",
      "\u001b[0;32m<ipython-input-4-40ca76fd962e>\u001b[0m in \u001b[0;36m<module>\u001b[0;34m\u001b[0m\n\u001b[0;32m----> 1\u001b[0;31m \u001b[0maugDataPD\u001b[0m \u001b[0;34m=\u001b[0m \u001b[0mpd\u001b[0m\u001b[0;34m.\u001b[0m\u001b[0mDataFrame\u001b[0m\u001b[0;34m(\u001b[0m\u001b[0;34m{\u001b[0m\u001b[0;34m'utterance'\u001b[0m\u001b[0;34m:\u001b[0m\u001b[0maug_data\u001b[0m\u001b[0;34m}\u001b[0m\u001b[0;34m)\u001b[0m\u001b[0;34m\u001b[0m\u001b[0;34m\u001b[0m\u001b[0m\n\u001b[0m",
      "\u001b[0;31mNameError\u001b[0m: name 'aug_data' is not defined"
     ]
    }
   ],
   "source": [
    "augDataPD = pd.DataFrame({'utterance':aug_data})"
   ]
  },
  {
   "cell_type": "code",
   "execution_count": null,
   "metadata": {},
   "outputs": [],
   "source": [
    "augDataPD.to_csv('./data/splits/text/augment_train.txt')"
   ]
  }
 ],
 "metadata": {
  "kernelspec": {
   "display_name": "Python 3",
   "language": "python",
   "name": "python3"
  },
  "language_info": {
   "codemirror_mode": {
    "name": "ipython",
    "version": 3
   },
   "file_extension": ".py",
   "mimetype": "text/x-python",
   "name": "python",
   "nbconvert_exporter": "python",
   "pygments_lexer": "ipython3",
   "version": "3.7.9"
  }
 },
 "nbformat": 4,
 "nbformat_minor": 4
}
