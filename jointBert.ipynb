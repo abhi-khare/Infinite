{
 "cells": [
  {
   "cell_type": "code",
   "execution_count": 1,
   "metadata": {},
   "outputs": [
    {
     "output_type": "stream",
     "name": "stderr",
     "text": [
      "C:\\Users\\khare\\miniconda3\\envs\\ptENV3\\lib\\site-packages\\numpy\\__init__.py:138: UserWarning: mkl-service package failed to import, therefore Intel(R) MKL initialization ensuring its correct out-of-the box operation under condition when Gnu OpenMP had already been loaded by Python process is not assured. Please install mkl-service package, see http://github.com/IntelPython/mkl-service\n  from . import _distributor_init\n"
     ]
    },
    {
     "output_type": "error",
     "ename": "ImportError",
     "evalue": "numpy.core.multiarray failed to import",
     "traceback": [
      "\u001b[1;31m---------------------------------------------------------------------------\u001b[0m",
      "\u001b[1;31mImportError\u001b[0m                               Traceback (most recent call last)",
      "\u001b[1;32m<ipython-input-1-882fd88a0b79>\u001b[0m in \u001b[0;36m<module>\u001b[1;34m\u001b[0m\n\u001b[1;32m----> 1\u001b[1;33m \u001b[1;32mimport\u001b[0m \u001b[0mtorch\u001b[0m\u001b[1;33m\u001b[0m\u001b[1;33m\u001b[0m\u001b[0m\n\u001b[0m\u001b[0;32m      2\u001b[0m \u001b[1;32mimport\u001b[0m \u001b[0mtorch\u001b[0m\u001b[1;33m.\u001b[0m\u001b[0mnn\u001b[0m \u001b[1;32mas\u001b[0m \u001b[0mnn\u001b[0m\u001b[1;33m\u001b[0m\u001b[1;33m\u001b[0m\u001b[0m\n\u001b[0;32m      3\u001b[0m \u001b[1;32mimport\u001b[0m \u001b[0mtorch\u001b[0m\u001b[1;33m.\u001b[0m\u001b[0mnn\u001b[0m\u001b[1;33m.\u001b[0m\u001b[0mfunctional\u001b[0m \u001b[1;32mas\u001b[0m \u001b[0mF\u001b[0m\u001b[1;33m\u001b[0m\u001b[1;33m\u001b[0m\u001b[0m\n\u001b[0;32m      4\u001b[0m \u001b[1;32mfrom\u001b[0m \u001b[0mtransformers\u001b[0m \u001b[1;32mimport\u001b[0m  \u001b[0mDistilBertModel\u001b[0m\u001b[1;33m,\u001b[0m\u001b[0mDistilBertTokenizerFast\u001b[0m\u001b[1;33m\u001b[0m\u001b[1;33m\u001b[0m\u001b[0m\n\u001b[0;32m      5\u001b[0m \u001b[1;32mfrom\u001b[0m \u001b[0mtorch\u001b[0m\u001b[1;33m.\u001b[0m\u001b[0mutils\u001b[0m\u001b[1;33m.\u001b[0m\u001b[0mdata\u001b[0m \u001b[1;32mimport\u001b[0m \u001b[0mDataset\u001b[0m\u001b[1;33m,\u001b[0m \u001b[0mDataLoader\u001b[0m\u001b[1;33m\u001b[0m\u001b[1;33m\u001b[0m\u001b[0m\n",
      "\u001b[1;32m~\\miniconda3\\envs\\ptENV3\\lib\\site-packages\\torch\\__init__.py\u001b[0m in \u001b[0;36m<module>\u001b[1;34m\u001b[0m\n\u001b[0;32m    194\u001b[0m     \u001b[1;32mif\u001b[0m \u001b[0mUSE_GLOBAL_DEPS\u001b[0m\u001b[1;33m:\u001b[0m\u001b[1;33m\u001b[0m\u001b[1;33m\u001b[0m\u001b[0m\n\u001b[0;32m    195\u001b[0m         \u001b[0m_load_global_deps\u001b[0m\u001b[1;33m(\u001b[0m\u001b[1;33m)\u001b[0m\u001b[1;33m\u001b[0m\u001b[1;33m\u001b[0m\u001b[0m\n\u001b[1;32m--> 196\u001b[1;33m     \u001b[1;32mfrom\u001b[0m \u001b[0mtorch\u001b[0m\u001b[1;33m.\u001b[0m\u001b[0m_C\u001b[0m \u001b[1;32mimport\u001b[0m \u001b[1;33m*\u001b[0m\u001b[1;33m\u001b[0m\u001b[1;33m\u001b[0m\u001b[0m\n\u001b[0m\u001b[0;32m    197\u001b[0m \u001b[1;33m\u001b[0m\u001b[0m\n\u001b[0;32m    198\u001b[0m \u001b[1;31m# Appease the type checker; ordinarily this binding is inserted by the\u001b[0m\u001b[1;33m\u001b[0m\u001b[1;33m\u001b[0m\u001b[1;33m\u001b[0m\u001b[0m\n",
      "\u001b[1;31mImportError\u001b[0m: numpy.core.multiarray failed to import"
     ]
    }
   ],
   "source": [
    "import torch \n",
    "import torch.nn as nn \n",
    "import torch.nn.functional as F\n",
    "from transformers import  DistilBertModel,DistilBertTokenizerFast\n",
    "from torch.utils.data import Dataset, DataLoader\n",
    "import pytorch_lightning as pl\n",
    "from pytorch_lightning import seed_everything, loggers as pl_loggers\n",
    "from pytorch_lightning.callbacks import ModelCheckpoint\n",
    "import pandas as pd\n",
    "import random\n",
    "from scripts.dataset import nluDataset\n",
    "from scripts.model import IC_NER\n",
    "from scripts.utils import *"
   ]
  },
  {
   "cell_type": "code",
   "execution_count": 2,
   "metadata": {},
   "outputs": [],
   "source": [
    "def slot_F1(pred,target,id2slots):\n",
    "    \n",
    "    pred_list = pred.tolist()\n",
    "    target_list = target.tolist()\n",
    "    \n",
    "    pred_slots , target_slots = [],[]\n",
    "\n",
    "    for idx_st,t in enumerate(target_list):\n",
    "        pred_sample,target_sample = [],[]\n",
    "        for idx_wt,wt in enumerate(t):\n",
    "\n",
    "            if wt != -100:\n",
    "                target_sample.append(id2slots[wt])\n",
    "                pred_sample.append(id2slots[pred_list[idx_st][idx_wt]])\n",
    "\n",
    "        pred_slots.append(pred_sample)\n",
    "        target_slots.append(target_sample)\n",
    "    \n",
    "    return f1_score( target_slots, pred_slots,mode='strict', scheme=IOB2, average='weighted')"
   ]
  },
  {
   "cell_type": "code",
   "execution_count": 3,
   "metadata": {},
   "outputs": [],
   "source": [
    "#seed_everything(42)\n",
    "tb_logger = pl_loggers.TensorBoardLogger('logs/augmented1/01/jointBertEN')\n",
    "final_slots = pd.read_csv('./data/multiATIS/slots_list.csv',sep=',',header=None,names=['SLOTS']).SLOTS.values.tolist()\n",
    "idx2slots  = {idx:slots for idx,slots in enumerate(final_slots)}\n",
    "checkpoint_callback = ModelCheckpoint(dirpath='bin/augmented1/01/EN/v1/',monitor='val_IC_NER_loss', filename='jointBert-{epoch:02d}-{val_loss}')"
   ]
  },
  {
   "cell_type": "code",
   "execution_count": 4,
   "metadata": {},
   "outputs": [],
   "source": [
    "class NLU_Dataset(pl.LightningDataModule):\n",
    "    \n",
    "    def __init__(self, train_dir, val_dir, test_dir,tokenizer, max_len, batch_size):\n",
    "        \n",
    "        super().__init__()\n",
    "        self.train_dir = train_dir\n",
    "        self.val_dir = val_dir\n",
    "        self.test_dir = test_dir\n",
    "        self.batch_size = batch_size\n",
    "        self.tokenizer = tokenizer\n",
    "        self.max_len = max_len\n",
    "\n",
    "    def setup(self,stage: [str] = None): \n",
    "        self.train = nluDataset( self.train_dir, self.tokenizer, self.max_len,2)\n",
    "        \n",
    "        self.val = nluDataset( self.val_dir, self.tokenizer, self.max_len,2)\n",
    "        \n",
    "        self.test =  nluDataset( self.test_dir, self.tokenizer, self.max_len,2)\n",
    "\n",
    "    def train_dataloader(self):\n",
    "        return DataLoader(self.train, batch_size=self.batch_size)\n",
    "\n",
    "    def val_dataloader(self):\n",
    "        return DataLoader(self.val, batch_size=self.batch_size)\n",
    "    \n",
    "    def test_dataloader(self):\n",
    "        return DataLoader(self.test, batch_size=self.batch_size)"
   ]
  },
  {
   "cell_type": "code",
   "execution_count": 5,
   "metadata": {},
   "outputs": [],
   "source": [
    "class jointBert(pl.LightningModule):\n",
    "    \n",
    "    def __init__(self):\n",
    "        super().__init__()\n",
    "        self.IC_NER = IC_NER('distilbert-base-multilingual-cased')\n",
    "\n",
    "    def forward(self, input_ids, attention_mask , intent_target, slots_target):\n",
    "        return self.IC_NER(input_ids, attention_mask , intent_target, slots_target)\n",
    "\n",
    "    def training_step(self, batch, batch_idx):\n",
    "        \n",
    "        token_ids, attention_mask = batch['token_ids'], batch['mask']\n",
    "        intent_target,slots_target = batch['intent_id'], batch['slots_id']\n",
    "        \n",
    "        out = self(token_ids,attention_mask,intent_target,slots_target)\n",
    "        \n",
    "        self.log('train_IC_NER_loss', out['joint_loss'], on_step=False, on_epoch=True, prog_bar=True, logger=True)\n",
    "        self.log('train_IC_loss', out['ic_loss'], on_step=False, on_epoch=True, logger=True)\n",
    "        self.log('train_NER_loss', out['ner_loss'], on_step=False, on_epoch=True, logger=True)\n",
    "        \n",
    "        return out['joint_loss']\n",
    "    \n",
    "    def validation_step(self, batch, batch_idx):\n",
    "        \n",
    "        token_ids, attention_mask = batch['token_ids'], batch['mask']\n",
    "        intent_target,slots_target = batch['intent_id'], batch['slots_id']\n",
    "        \n",
    "        out = self(token_ids,attention_mask,intent_target,slots_target)\n",
    "        intent_pred, slot_pred = out['intent_pred'], out['slot_pred']\n",
    "        \n",
    "        self.log('val_IC_NER_loss', out['joint_loss'], on_step=False, on_epoch=True,  logger=True)\n",
    "        self.log('val_IC_loss', out['ic_loss'], on_step=False, on_epoch=True,  logger=True)\n",
    "        self.log('val_NER_loss', out['ner_loss'], on_step=False, on_epoch=True,  logger=True)\n",
    "        self.log('val_intent_acc', accuracy(out['intent_pred'],intent_target), on_step=False, on_epoch=True,  logger=True)\n",
    "        self.log('slot_f1', slot_F1(out['slot_pred'],slots_target,idx2slots), on_step=False, on_epoch=True, logger=True)\n",
    "        \n",
    "        \n",
    "        return out['joint_loss']\n",
    "    \n",
    "    def test_step(self,batch,batch_idx):\n",
    "        \n",
    "        token_ids, attention_mask = batch['token_ids'], batch['mask']\n",
    "        intent_target,slots_target = batch['intent_id'], batch['slots_id']\n",
    "        \n",
    "        out = self(token_ids,attention_mask,intent_target,slots_target)\n",
    "        intent_pred, slot_pred = out['intent_pred'], out['slot_pred']\n",
    "        self.log('test_IC_NER_loss', out['joint_loss'], on_step=False, on_epoch=True,  logger=True)\n",
    "        self.log('test_IC_loss', out['ic_loss'], on_step=False, on_epoch=True,  logger=True)\n",
    "        self.log('test_NER_loss', out['ner_loss'], on_step=False, on_epoch=True,  logger=True)\n",
    "        self.log('test_intent_acc', accuracy(out['intent_pred'],intent_target), on_step=False, on_epoch=True,  logger=True)\n",
    "        self.log('test_slot_f1', slot_F1(out['slot_pred'],slots_target,idx2slots), on_step=False, on_epoch=True, logger=True)\n",
    "        \n",
    "        return out['joint_loss']\n",
    "        \n",
    "\n",
    "    def configure_optimizers(self):\n",
    "         return torch.optim.AdamW(self.parameters(), lr=3e-5)"
   ]
  },
  {
   "cell_type": "code",
   "execution_count": 6,
   "metadata": {},
   "outputs": [],
   "source": [
    "dm = NLU_Dataset('./data/multiATIS/split/train/augmented/train_01_EN.tsv','./data/multiATIS/split/valid/augmented/dev_01_EN.tsv', './data/multiATIS/split/test/OOC_test/clean/test_EN.tsv',\n",
    "                 'distilbert-base-multilingual-cased',56,16)\n",
    "model = jointBert()"
   ]
  },
  {
   "cell_type": "code",
   "execution_count": 6,
   "metadata": {},
   "outputs": [
    {
     "output_type": "stream",
     "name": "stderr",
     "text": [
      "GPU available: True, used: True\n",
      "TPU available: None, using: 0 TPU cores\n",
      "Using native 16bit precision.\n"
     ]
    }
   ],
   "source": [
    "trainer = pl.Trainer(gpus=-1,precision=16,accumulate_grad_batches=4,max_epochs=15, check_val_every_n_epoch=1,logger=tb_logger,callbacks=[checkpoint_callback])\n",
    "\n",
    "#trainer.fit(model, dm)"
   ]
  },
  {
   "cell_type": "code",
   "execution_count": 7,
   "metadata": {},
   "outputs": [],
   "source": [
    "def cal_mean_stderror(metric):\n",
    "    var,std_error = 0,0\n",
    "    mean = sum(metric)/len(metric)\n",
    "    for m in metric:\n",
    "        var += (m-mean)**2\n",
    "    var = (var/(len(metric)-1))**0.5\n",
    "    std_error = var/((len(metric))**0.5)\n",
    "    return [round(mean,4),round(std_error,4)]"
   ]
  },
  {
   "cell_type": "code",
   "execution_count": 28,
   "metadata": {},
   "outputs": [
    {
     "data": {
      "application/vnd.jupyter.widget-view+json": {
       "model_id": "5ddfe586a1874efc833cb2751de4faf1",
       "version_major": 2,
       "version_minor": 0
      },
      "text/plain": [
       "Testing: 0it [00:00, ?it/s]"
      ]
     },
     "metadata": {},
     "output_type": "display_data"
    },
    {
     "name": "stdout",
     "output_type": "stream",
     "text": [
      "--------------------------------------------------------------------------------\n",
      "DATALOADER:0 TEST RESULTS\n",
      "{'test_IC_NER_loss': 1.2193959951400757,\n",
      " 'test_IC_loss': 1.3569221496582031,\n",
      " 'test_NER_loss': 1.0818698406219482,\n",
      " 'test_intent_acc': 0.7995520830154419,\n",
      " 'test_slot_f1': 0.662852942943573}\n",
      "--------------------------------------------------------------------------------\n"
     ]
    },
    {
     "data": {
      "application/vnd.jupyter.widget-view+json": {
       "model_id": "6fb979d691d94754a67017813f000c72",
       "version_major": 2,
       "version_minor": 0
      },
      "text/plain": [
       "Testing: 0it [00:00, ?it/s]"
      ]
     },
     "metadata": {},
     "output_type": "display_data"
    },
    {
     "name": "stdout",
     "output_type": "stream",
     "text": [
      "--------------------------------------------------------------------------------\n",
      "DATALOADER:0 TEST RESULTS\n",
      "{'test_IC_NER_loss': 1.1406915187835693,\n",
      " 'test_IC_loss': 1.3582725524902344,\n",
      " 'test_NER_loss': 0.9231106042861938,\n",
      " 'test_intent_acc': 0.8152295351028442,\n",
      " 'test_slot_f1': 0.6689974069595337}\n",
      "--------------------------------------------------------------------------------\n"
     ]
    },
    {
     "data": {
      "application/vnd.jupyter.widget-view+json": {
       "model_id": "e8ed071bc8a646f0a3422f95ddc1b691",
       "version_major": 2,
       "version_minor": 0
      },
      "text/plain": [
       "Testing: 0it [00:00, ?it/s]"
      ]
     },
     "metadata": {},
     "output_type": "display_data"
    },
    {
     "name": "stdout",
     "output_type": "stream",
     "text": [
      "--------------------------------------------------------------------------------\n",
      "DATALOADER:0 TEST RESULTS\n",
      "{'test_IC_NER_loss': 1.2138910293579102,\n",
      " 'test_IC_loss': 1.311194658279419,\n",
      " 'test_NER_loss': 1.1165872812271118,\n",
      " 'test_intent_acc': 0.836506187915802,\n",
      " 'test_slot_f1': 0.6543858647346497}\n",
      "--------------------------------------------------------------------------------\n"
     ]
    },
    {
     "data": {
      "application/vnd.jupyter.widget-view+json": {
       "model_id": "f278ea94b9d74a6c97741bf1afb9368e",
       "version_major": 2,
       "version_minor": 0
      },
      "text/plain": [
       "Testing: 0it [00:00, ?it/s]"
      ]
     },
     "metadata": {},
     "output_type": "display_data"
    },
    {
     "name": "stdout",
     "output_type": "stream",
     "text": [
      "--------------------------------------------------------------------------------\n",
      "DATALOADER:0 TEST RESULTS\n",
      "{'test_IC_NER_loss': 1.2107800245285034,\n",
      " 'test_IC_loss': 1.4178882837295532,\n",
      " 'test_NER_loss': 1.0036718845367432,\n",
      " 'test_intent_acc': 0.8320268988609314,\n",
      " 'test_slot_f1': 0.6583471894264221}\n",
      "--------------------------------------------------------------------------------\n"
     ]
    },
    {
     "data": {
      "application/vnd.jupyter.widget-view+json": {
       "model_id": "3443497b61e34099b73598f142fb4340",
       "version_major": 2,
       "version_minor": 0
      },
      "text/plain": [
       "Testing: 0it [00:00, ?it/s]"
      ]
     },
     "metadata": {},
     "output_type": "display_data"
    },
    {
     "name": "stdout",
     "output_type": "stream",
     "text": [
      "--------------------------------------------------------------------------------\n",
      "DATALOADER:0 TEST RESULTS\n",
      "{'test_IC_NER_loss': 1.1813247203826904,\n",
      " 'test_IC_loss': 1.3787857294082642,\n",
      " 'test_NER_loss': 0.9838634729385376,\n",
      " 'test_intent_acc': 0.8040313720703125,\n",
      " 'test_slot_f1': 0.6657431125640869}\n",
      "--------------------------------------------------------------------------------\n",
      "acc: [0.8175, 0.0074] slotsF1 [0.6621, 0.0026]\n"
     ]
    }
   ],
   "source": [
    "acc,slotF1 = [],[]\n",
    "dm1 = NLU_Dataset('./data/multiATIS/split/test/OOC_test/0_10n/test_EN.tsv','./data/multiATIS/split/valid/clean/dev_EN.tsv', \n",
    "                  './data/multiATIS/split/test/OOC_test/0_75n/test_EN.tsv',\n",
    "                 'distilbert-base-multilingual-cased',56,1)\n",
    "dm1.setup()\n",
    "test1 = dm1.test_dataloader()\n",
    "\n",
    "for m in ['./bin/augmented1/010/EN/v1/jointBert-epoch=14-val_loss=0.ckpt',\n",
    "          './bin/augmented1/010/EN/v2/jointBert-epoch=14-val_loss=0.ckpt']:\n",
    "    model = jointBert.load_from_checkpoint(checkpoint_path=m,map_location=None)\n",
    "    model.eval()\n",
    "    out = trainer.test(model=model,test_dataloaders=test1)\n",
    "    acc.append(out[0]['test_intent_acc'])\n",
    "    slotF1.append(out[0]['test_slot_f1'])\n",
    "    #print(out)\n",
    "    #print(acc,out,out[0])\n",
    "print('acc:',cal_mean_stderror(acc),'slotsF1',cal_mean_stderror(slotF1))"
   ]
  }
 ],
 "metadata": {
  "kernelspec": {
   "name": "python3710jvsc74a57bd0d39b8affeeb64b4456e0d11835048918ca769c4d1bf8575ef0330588772625d1",
   "display_name": "Python 3.7.10 64-bit ('ptENV3': conda)"
  },
  "language_info": {
   "codemirror_mode": {
    "name": "ipython",
    "version": 3
   },
   "file_extension": ".py",
   "mimetype": "text/x-python",
   "name": "python",
   "nbconvert_exporter": "python",
   "pygments_lexer": "ipython3",
   "version": "3.7.10"
  }
 },
 "nbformat": 4,
 "nbformat_minor": 4
}