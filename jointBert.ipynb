{
 "cells": [
  {
   "cell_type": "code",
   "execution_count": 1,
   "metadata": {},
   "outputs": [],
   "source": [
    "import torch \n",
    "import torch.nn as nn \n",
    "import torch.nn.functional as F\n",
    "from transformers import  DistilBertModel,DistilBertTokenizerFast\n",
    "from torch.utils.data import Dataset, DataLoader\n",
    "import pytorch_lightning as pl\n",
    "from pytorch_lightning import seed_everything, loggers as pl_loggers\n",
    "from pytorch_lightning.callbacks import ModelCheckpoint\n",
    "import pandas as pd\n",
    "import random\n",
    "from scripts.dataset import nluDataset\n",
    "#from scripts.model import IC_NER\n",
    "from scripts.utils import *"
   ]
  },
  {
   "cell_type": "code",
   "execution_count": 2,
   "metadata": {},
   "outputs": [],
   "source": [
    "def slot_F1(pred,target,id2slots):\n",
    "    \n",
    "    pred_list = pred.tolist()\n",
    "    target_list = target.tolist()\n",
    "    \n",
    "    pred_slots , target_slots = [],[]\n",
    "\n",
    "    for idx_st,t in enumerate(target_list):\n",
    "        pred_sample,target_sample = [],[]\n",
    "        for idx_wt,wt in enumerate(t):\n",
    "\n",
    "            if wt != -100:\n",
    "                target_sample.append(id2slots[wt])\n",
    "                pred_sample.append(id2slots[pred_list[idx_st][idx_wt]])\n",
    "\n",
    "        pred_slots.append(pred_sample)\n",
    "        target_slots.append(target_sample)\n",
    "    \n",
    "    return f1_score( target_slots, pred_slots,mode='strict', scheme=IOB2, average='weighted')"
   ]
  },
  {
   "cell_type": "code",
   "execution_count": 3,
   "metadata": {},
   "outputs": [],
   "source": [
    "#seed_everything(42)\n",
    "tb_logger = pl_loggers.TensorBoardLogger('logs/augmented1/01/jointBertEN')\n",
    "final_slots = pd.read_csv('./data/multiATIS/slots_list.csv',sep=',',header=None,names=['SLOTS']).SLOTS.values.tolist()\n",
    "idx2slots  = {idx:slots for idx,slots in enumerate(final_slots)}\n",
    "checkpoint_callback = ModelCheckpoint(dirpath='bin/augmented1/01/EN/v1/',monitor='val_IC_NER_loss', filename='jointBert-{epoch:02d}-{val_loss}')"
   ]
  },
  {
   "cell_type": "code",
   "execution_count": 4,
   "metadata": {},
   "outputs": [],
   "source": [
    "class IC_NER(nn.Module):\n",
    "\n",
    "    def __init__(self, model_name):\n",
    "\n",
    "        super(IC_NER,self).__init__()\n",
    "        \n",
    "        self.encoder = DistilBertModel.from_pretrained(model_name,return_dict=True,output_hidden_states=True)\n",
    "       \n",
    "        self.intent_dropout = nn.Dropout(0.25)\n",
    "        self.intent_FC1 = nn.Linear(768, 512)\n",
    "        self.intent_FC2 = nn.Linear(512, 128)\n",
    "        self.intent_FC3 = nn.Linear(128, 18)\n",
    " \n",
    "\n",
    "        # slots layer\n",
    "        self.slots_dropout = nn.Dropout(0.25)\n",
    "        self.slots_FC = nn.Linear(768, 159)\n",
    "        \n",
    "\n",
    "        self.intent_loss_fn = nn.CrossEntropyLoss()\n",
    "        self.slot_loss_fn = nn.CrossEntropyLoss()\n",
    "        #self.log_vars = nn.Parameter(torch.zeros((2)))\n",
    "        self.jlc = 0.5\n",
    "        #self.args = args\n",
    "        \n",
    "\n",
    "    \n",
    "    def forward(self, input_ids, attention_mask , intent_target, slots_target):\n",
    "\n",
    "        encoded_output = self.encoder(input_ids, attention_mask)\n",
    "\n",
    "        #intent data flow\n",
    "        intent_hidden = encoded_output[0][:,0]\n",
    "        intent_hidden = self.intent_FC1(self.intent_dropout(F.relu(intent_hidden)))\n",
    "        intent_hidden = self.intent_FC2(self.intent_dropout(F.relu(intent_hidden)))\n",
    "        intent_logits = self.intent_FC3(self.intent_dropout(F.relu(intent_hidden)))\n",
    "        \n",
    "        \n",
    "        # accumulating intent classification loss \n",
    "        intent_loss = self.intent_loss_fn(intent_logits, intent_target)\n",
    "        intent_pred = torch.argmax(nn.Softmax(dim=1)(intent_logits), axis=1)\n",
    "        \n",
    "\n",
    "        # slots data flow \n",
    "        slots_hidden = encoded_output[0]\n",
    "        slots_logits = self.slots_FC(self.slots_dropout(F.relu(slots_hidden)))\n",
    "        slot_pred =  torch.argmax(nn.Softmax(dim=2)(slots_logits), axis=2)\n",
    "\n",
    "        # accumulating slot prediction loss\n",
    "        slot_loss = self.slot_loss_fn(slots_logits.view(-1, 159), slots_target.view(-1))\n",
    "\n",
    "\n",
    "        '''Multi-Task Learning Using Uncertainty to Weigh Losses for Scene Geometry and Semantics'''\n",
    "        \n",
    "        #precision1 = torch.exp(-self.log_vars[0])\n",
    "        #loss_intent = torch.sum(precision1*intent_loss + self.log_vars[0],-1)\n",
    "\n",
    "        #precision2 = torch.exp(-self.log_vars[1])\n",
    "        #loss_slots = torch.sum(precision1*slot_loss + self.log_vars[1],-1)\n",
    "\n",
    "        #joint_loss = torch.mean(loss_intent + loss_slots)\n",
    "        \n",
    "        joint_loss = self.jlc*intent_loss + (1.0 - self.jlc)*slot_loss\n",
    "\n",
    "        return {'joint_loss':joint_loss,\n",
    "                'ic_loss': intent_loss,\n",
    "                'ner_loss': slot_loss,\n",
    "                'intent_pred':intent_pred,\n",
    "                'slot_pred':slot_pred}"
   ]
  },
  {
   "cell_type": "code",
   "execution_count": 5,
   "metadata": {},
   "outputs": [],
   "source": [
    "class NLU_Dataset(pl.LightningDataModule):\n",
    "    \n",
    "    def __init__(self, train_dir, val_dir, test_dir,tokenizer, max_len, batch_size):\n",
    "        \n",
    "        super().__init__()\n",
    "        self.train_dir = train_dir\n",
    "        self.val_dir = val_dir\n",
    "        self.test_dir = test_dir\n",
    "        self.batch_size = batch_size\n",
    "        self.tokenizer = tokenizer\n",
    "        self.max_len = max_len\n",
    "\n",
    "    def setup(self,stage: [str] = None): \n",
    "        self.train = nluDataset( self.train_dir, self.tokenizer, self.max_len,2)\n",
    "        \n",
    "        self.val = nluDataset( self.val_dir, self.tokenizer, self.max_len,2)\n",
    "        \n",
    "        self.test =  nluDataset( self.test_dir, self.tokenizer, self.max_len,2)\n",
    "\n",
    "    def train_dataloader(self):\n",
    "        return DataLoader(self.train, batch_size=self.batch_size)\n",
    "\n",
    "    def val_dataloader(self):\n",
    "        return DataLoader(self.val, batch_size=self.batch_size)\n",
    "    \n",
    "    def test_dataloader(self):\n",
    "        return DataLoader(self.test, batch_size=self.batch_size)"
   ]
  },
  {
   "cell_type": "code",
   "execution_count": 6,
   "metadata": {},
   "outputs": [],
   "source": [
    "class jointBert(pl.LightningModule):\n",
    "    \n",
    "    def __init__(self):\n",
    "        super().__init__()\n",
    "        self.IC_NER = IC_NER('distilbert-base-multilingual-cased')\n",
    "\n",
    "    def forward(self, input_ids, attention_mask , intent_target, slots_target):\n",
    "        return self.IC_NER(input_ids, attention_mask , intent_target, slots_target)\n",
    "\n",
    "    def training_step(self, batch, batch_idx):\n",
    "        \n",
    "        token_ids, attention_mask = batch['token_ids'], batch['mask']\n",
    "        intent_target,slots_target = batch['intent_id'], batch['slots_id']\n",
    "        \n",
    "        out = self(token_ids,attention_mask,intent_target,slots_target)\n",
    "        \n",
    "        self.log('train_IC_NER_loss', out['joint_loss'], on_step=False, on_epoch=True, prog_bar=True, logger=True)\n",
    "        self.log('train_IC_loss', out['ic_loss'], on_step=False, on_epoch=True, logger=True)\n",
    "        self.log('train_NER_loss', out['ner_loss'], on_step=False, on_epoch=True, logger=True)\n",
    "        \n",
    "        return out['joint_loss']\n",
    "    \n",
    "    def validation_step(self, batch, batch_idx):\n",
    "        \n",
    "        token_ids, attention_mask = batch['token_ids'], batch['mask']\n",
    "        intent_target,slots_target = batch['intent_id'], batch['slots_id']\n",
    "        \n",
    "        out = self(token_ids,attention_mask,intent_target,slots_target)\n",
    "        intent_pred, slot_pred = out['intent_pred'], out['slot_pred']\n",
    "        \n",
    "        self.log('val_IC_NER_loss', out['joint_loss'], on_step=False, on_epoch=True,  logger=True)\n",
    "        self.log('val_IC_loss', out['ic_loss'], on_step=False, on_epoch=True,  logger=True)\n",
    "        self.log('val_NER_loss', out['ner_loss'], on_step=False, on_epoch=True,  logger=True)\n",
    "        self.log('val_intent_acc', accuracy(out['intent_pred'],intent_target), on_step=False, on_epoch=True,  logger=True)\n",
    "        self.log('slot_f1', slot_F1(out['slot_pred'],slots_target,idx2slots), on_step=False, on_epoch=True, logger=True)\n",
    "        \n",
    "        \n",
    "        return out['joint_loss']\n",
    "    \n",
    "    def test_step(self,batch,batch_idx):\n",
    "        \n",
    "        token_ids, attention_mask = batch['token_ids'], batch['mask']\n",
    "        intent_target,slots_target = batch['intent_id'], batch['slots_id']\n",
    "        \n",
    "        out = self(token_ids,attention_mask,intent_target,slots_target)\n",
    "        intent_pred, slot_pred = out['intent_pred'], out['slot_pred']\n",
    "        self.log('test_IC_NER_loss', out['joint_loss'], on_step=False, on_epoch=True,  logger=True)\n",
    "        self.log('test_IC_loss', out['ic_loss'], on_step=False, on_epoch=True,  logger=True)\n",
    "        self.log('test_NER_loss', out['ner_loss'], on_step=False, on_epoch=True,  logger=True)\n",
    "        self.log('test_intent_acc', accuracy(out['intent_pred'],intent_target), on_step=False, on_epoch=True,  logger=True)\n",
    "        self.log('test_slot_f1', slot_F1(out['slot_pred'],slots_target,idx2slots), on_step=False, on_epoch=True, logger=True)\n",
    "        \n",
    "        return out['joint_loss']\n",
    "        \n",
    "\n",
    "    def configure_optimizers(self):\n",
    "         return torch.optim.AdamW(self.parameters(), lr=3e-5)"
   ]
  },
  {
   "cell_type": "code",
   "execution_count": 6,
   "metadata": {},
   "outputs": [],
   "source": [
    "dm = NLU_Dataset('./data/multiATIS/split/train/augmented/train_01_EN.tsv','./data/multiATIS/split/valid/augmented/dev_01_EN.tsv', './data/multiATIS/split/test/OOC_test/clean/test_EN.tsv',\n",
    "                 'distilbert-base-multilingual-cased',56,16)\n",
    "model = jointBert()"
   ]
  },
  {
   "cell_type": "code",
   "execution_count": 7,
   "metadata": {},
   "outputs": [
    {
     "name": "stderr",
     "output_type": "stream",
     "text": [
      "GPU available: True, used: True\n",
      "TPU available: None, using: 0 TPU cores\n",
      "Using native 16bit precision.\n"
     ]
    }
   ],
   "source": [
    "trainer = pl.Trainer(gpus=-1,precision=16,accumulate_grad_batches=4,max_epochs=15, check_val_every_n_epoch=1,logger=tb_logger,callbacks=[checkpoint_callback])\n",
    "\n",
    "#trainer.fit(model, dm)"
   ]
  },
  {
   "cell_type": "code",
   "execution_count": 8,
   "metadata": {},
   "outputs": [],
   "source": [
    "def cal_mean_stderror(metric):\n",
    "    var,std_error = 0,0\n",
    "    mean = sum(metric)/len(metric)\n",
    "    for m in metric:\n",
    "        var += (m-mean)**2\n",
    "    var = (var/(len(metric)-1))**0.5\n",
    "    std_error = var/((len(metric))**0.5)\n",
    "    return [round(mean,4),round(std_error,4)]"
   ]
  },
  {
   "cell_type": "code",
   "execution_count": 12,
   "metadata": {},
   "outputs": [
    {
     "data": {
      "application/vnd.jupyter.widget-view+json": {
       "model_id": "86f0232383454161912bf43daaacbeec",
       "version_major": 2,
       "version_minor": 0
      },
      "text/plain": [
       "Testing: 0it [00:00, ?it/s]"
      ]
     },
     "metadata": {},
     "output_type": "display_data"
    },
    {
     "name": "stdout",
     "output_type": "stream",
     "text": [
      "--------------------------------------------------------------------------------\n",
      "DATALOADER:0 TEST RESULTS\n",
      "{'test_IC_NER_loss': 0.36232107877731323,\n",
      " 'test_IC_loss': 0.45861202478408813,\n",
      " 'test_NER_loss': 0.2660301625728607,\n",
      " 'test_intent_acc': 0.9227323532104492,\n",
      " 'test_slot_f1': 0.9148949980735779}\n",
      "--------------------------------------------------------------------------------\n"
     ]
    },
    {
     "data": {
      "application/vnd.jupyter.widget-view+json": {
       "model_id": "2d13d0cdd8dc4e649bc4ba1b4730bfec",
       "version_major": 2,
       "version_minor": 0
      },
      "text/plain": [
       "Testing: 0it [00:00, ?it/s]"
      ]
     },
     "metadata": {},
     "output_type": "display_data"
    },
    {
     "name": "stdout",
     "output_type": "stream",
     "text": [
      "--------------------------------------------------------------------------------\n",
      "DATALOADER:0 TEST RESULTS\n",
      "{'test_IC_NER_loss': 0.3848252296447754,\n",
      " 'test_IC_loss': 0.5116090178489685,\n",
      " 'test_NER_loss': 0.2580413818359375,\n",
      " 'test_intent_acc': 0.9048152565956116,\n",
      " 'test_slot_f1': 0.9180028438568115}\n",
      "--------------------------------------------------------------------------------\n"
     ]
    },
    {
     "data": {
      "application/vnd.jupyter.widget-view+json": {
       "model_id": "2d11e70ba8e84417ac3e71ff04798c7b",
       "version_major": 2,
       "version_minor": 0
      },
      "text/plain": [
       "Testing: 0it [00:00, ?it/s]"
      ]
     },
     "metadata": {},
     "output_type": "display_data"
    },
    {
     "name": "stdout",
     "output_type": "stream",
     "text": [
      "--------------------------------------------------------------------------------\n",
      "DATALOADER:0 TEST RESULTS\n",
      "{'test_IC_NER_loss': 0.35439619421958923,\n",
      " 'test_IC_loss': 0.4536275565624237,\n",
      " 'test_NER_loss': 0.25516483187675476,\n",
      " 'test_intent_acc': 0.9036954045295715,\n",
      " 'test_slot_f1': 0.911385715007782}\n",
      "--------------------------------------------------------------------------------\n"
     ]
    },
    {
     "data": {
      "application/vnd.jupyter.widget-view+json": {
       "model_id": "de9a3b9c9b6f4d6682c7fd942c540e26",
       "version_major": 2,
       "version_minor": 0
      },
      "text/plain": [
       "Testing: 0it [00:00, ?it/s]"
      ]
     },
     "metadata": {},
     "output_type": "display_data"
    },
    {
     "name": "stdout",
     "output_type": "stream",
     "text": [
      "--------------------------------------------------------------------------------\n",
      "DATALOADER:0 TEST RESULTS\n",
      "{'test_IC_NER_loss': 0.34846749901771545,\n",
      " 'test_IC_loss': 0.43298059701919556,\n",
      " 'test_NER_loss': 0.26395440101623535,\n",
      " 'test_intent_acc': 0.9440089464187622,\n",
      " 'test_slot_f1': 0.9130814671516418}\n",
      "--------------------------------------------------------------------------------\n",
      "acc: [0.9188, 0.0095] slotsF1 [0.9143, 0.0014]\n"
     ]
    }
   ],
   "source": [
    "acc,slotF1 = [],[]\n",
    "dm1 = NLU_Dataset('./data/multiATIS/split/test/OOC_test/0_10n/test_EN.tsv','./data/multiATIS/split/valid/clean/dev_EN.tsv', \n",
    "                  './data/multiATIS/split/test/OOC_test/clean/test_EN.tsv',\n",
    "                 'distilbert-base-multilingual-cased',56,1)\n",
    "dm1.setup()\n",
    "test1 = dm1.test_dataloader()\n",
    "\n",
    "for m in ['./bin/augmented1/050/EN/v1/jointBert-epoch=18-val_loss=0.ckpt',\n",
    "          './bin/augmented1/050/EN/v2/jointBert-epoch=18-val_loss=0.ckpt',\n",
    "         './bin/augmented1/050/EN/v3/jointBert-epoch=17-val_loss=0.ckpt',\n",
    "         './bin/augmented1/050/EN/v5/jointBert-epoch=18-val_loss=0.ckpt']:\n",
    "    model = jointBert.load_from_checkpoint(checkpoint_path=m,map_location=None)\n",
    "    model.eval()\n",
    "    out = trainer.test(model=model,test_dataloaders=test1)\n",
    "    acc.append(out[0]['test_intent_acc'])\n",
    "    slotF1.append(out[0]['test_slot_f1'])\n",
    "    #print(out)\n",
    "    #print(acc,out,out[0])\n",
    "print('acc:',cal_mean_stderror(acc),'slotsF1',cal_mean_stderror(slotF1))"
   ]
  },
  {
   "cell_type": "code",
   "execution_count": null,
   "metadata": {},
   "outputs": [],
   "source": []
  }
 ],
 "metadata": {
  "kernelspec": {
   "display_name": "Python 3",
   "language": "python",
   "name": "python3"
  },
  "language_info": {
   "codemirror_mode": {
    "name": "ipython",
    "version": 3
   },
   "file_extension": ".py",
   "mimetype": "text/x-python",
   "name": "python",
   "nbconvert_exporter": "python",
   "pygments_lexer": "ipython3",
   "version": "3.7.10"
  }
 },
 "nbformat": 4,
 "nbformat_minor": 4
}
