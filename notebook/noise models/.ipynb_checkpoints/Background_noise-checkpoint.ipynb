{
 "cells": [
  {
   "cell_type": "code",
   "execution_count": 12,
   "id": "648b672d",
   "metadata": {},
   "outputs": [],
   "source": [
    "import math\n",
    "import torch \n",
    "import shutil\n",
    "import librosa\n",
    "import numpy as np\n",
    "import pandas as pd\n",
    "import soundfile as sf\n",
    "import matplotlib.pyplot as plt\n",
    "from torch_audiomentations import Compose, AddBackgroundNoise\n",
    "from transformers import Wav2Vec2ForCTC, Wav2Vec2Tokenizer"
   ]
  },
  {
   "cell_type": "code",
   "execution_count": 20,
   "id": "e9e3f5ae",
   "metadata": {},
   "outputs": [
    {
     "name": "stderr",
     "output_type": "stream",
     "text": [
      "Some weights of Wav2Vec2ForCTC were not initialized from the model checkpoint at facebook/wav2vec2-base-960h and are newly initialized: ['wav2vec2.masked_spec_embed']\n",
      "You should probably TRAIN this model on a down-stream task to be able to use it for predictions and inference.\n"
     ]
    }
   ],
   "source": [
    "# loading STT models\n",
    "tokenizer = Wav2Vec2Tokenizer.from_pretrained(\"facebook/wav2vec2-base-960h\")\n",
    "model = Wav2Vec2ForCTC.from_pretrained(\"facebook/wav2vec2-base-960h\")"
   ]
  },
  {
   "cell_type": "code",
   "execution_count": 45,
   "id": "7658d2c2",
   "metadata": {},
   "outputs": [],
   "source": [
    "apply_augmentations = Compose(transforms=[AddBackgroundNoise(\n",
    "                      background_paths='../../data/noise_resources/background_noise/',\n",
    "                      p=1.0,\n",
    "                      min_snr_in_db=-2.5,\n",
    "                      max_snr_in_db=2.5,\n",
    "                      )])"
   ]
  },
  {
   "cell_type": "code",
   "execution_count": 46,
   "id": "31038258",
   "metadata": {},
   "outputs": [],
   "source": [
    "# setting up device\n",
    "torch_device = torch.device(\"cuda\" if torch.cuda.is_available() else \"cpu\")"
   ]
  },
  {
   "cell_type": "code",
   "execution_count": 47,
   "id": "062b859b",
   "metadata": {},
   "outputs": [],
   "source": [
    "atis_samples_count = 893"
   ]
  },
  {
   "cell_type": "code",
   "execution_count": 48,
   "id": "42f4b1eb",
   "metadata": {},
   "outputs": [],
   "source": [
    "original_data = pd.read_csv('../../data/ATIS/experiments/clean/test/test.tsv',sep='\\t')\n",
    "original_label = original_data[['ID','INTENT','INTENT_ID']]"
   ]
  },
  {
   "cell_type": "code",
   "execution_count": 49,
   "id": "c3e09f5c",
   "metadata": {},
   "outputs": [],
   "source": [
    "audio, rate = librosa.load(\"./output_wavernn.wav\", sr = 16000)\n",
    "audio = (torch.from_numpy(audio))\n",
    "new_audio = torch.unsqueeze(audio,0)\n",
    "new_audio = torch.unsqueeze(new_audio,0)\n",
    "perturbed_audio_samples = apply_augmentations(new_audio, sample_rate=16000)\n",
    "perturbed_audio_samples = torch.squeeze(perturbed_audio_samples,0)\n",
    "perturbed_audio_samples = torch.squeeze(perturbed_audio_samples,0)\n",
    "\n",
    "input_values = tokenizer(perturbed_audio_samples, return_tensors = \"pt\").input_values\n",
    "logits = model(input_values).logits\n",
    "prediction = torch.argmax(logits, dim = -1)\n",
    "transcription = tokenizer.batch_decode(prediction)[0]"
   ]
  },
  {
   "cell_type": "code",
   "execution_count": 50,
   "id": "18f59a2e",
   "metadata": {},
   "outputs": [
    {
     "data": {
      "text/plain": [
       "'I WOULD LIKE TO FIGHT A FLIGHT FROM CHARLON TO THE LAZAN EGUS THAT MAKES AND STOCK AN SNINGISH'"
      ]
     },
     "execution_count": 50,
     "metadata": {},
     "output_type": "execute_result"
    }
   ],
   "source": [
    "transcription"
   ]
  },
  {
   "cell_type": "code",
   "execution_count": null,
   "id": "511973c8",
   "metadata": {},
   "outputs": [
    {
     "name": "stdout",
     "output_type": "stream",
     "text": [
      "processing version 0\n",
      "processing version 1\n",
      "processing version 2\n"
     ]
    }
   ],
   "source": [
    "for idx in range(5):\n",
    "    print('processing version {}'.format(idx))\n",
    "    noisy_samples = []\n",
    "    # reading all the audio samples\n",
    "    for jdx in list(range(atis_samples_count)):\n",
    "        \n",
    "        audio, rate = librosa.load(\"../../data/ATIS/raw/test/ASR_voice_samples/voice/{}.aiff\".format(jdx), sr = 16000)\n",
    "        audio = (torch.from_numpy(audio))\n",
    "        new_audio = torch.unsqueeze(audio,0)\n",
    "        new_audio = torch.unsqueeze(new_audio,0)\n",
    "        perturbed_audio_samples = apply_augmentations(new_audio, sample_rate=16000)\n",
    "        perturbed_audio_samples = torch.squeeze(perturbed_audio_samples,0)\n",
    "        perturbed_audio_samples = torch.squeeze(perturbed_audio_samples,0)\n",
    "\n",
    "        input_values = tokenizer(perturbed_audio_samples, return_tensors = \"pt\").input_values\n",
    "        logits = model(input_values).logits\n",
    "        prediction = torch.argmax(logits, dim = -1)\n",
    "        transcription = tokenizer.batch_decode(prediction)[0]\n",
    "        noisy_samples.append(transcription)\n",
    "    \n",
    "    original_label['TEXT'] = noisy_samples\n",
    "    original_label = original_label[[\"ID\",\"TEXT\",'INTENT',\"INTENT_ID\"]]\n",
    "    original_label.to_csv('../../data/ATIS/experiments/BG_noise/test/test_{}.csv'.format(idx),sep='\\t', index=False)"
   ]
  },
  {
   "cell_type": "code",
   "execution_count": null,
   "id": "82d5506e",
   "metadata": {},
   "outputs": [],
   "source": [
    "original_data = pd.read_csv('../../data/SN/experiments/clean/test/test.tsv',sep='\\t')\n",
    "original_label = original_data[['ID','INTENT','INTENT_ID']]\n",
    "\n",
    "for idx in range(5):\n",
    "    print('processing version {}'.format(idx))\n",
    "    noisy_samples = []\n",
    "    # reading all the audio samples\n",
    "    for jdx in list(range(atis_samples_count)):\n",
    "        \n",
    "        audio, rate = librosa.load(\"../../data/ATIS/raw/test/ASR_voice_samples/voice/{}.aiff\".format(jdx), sr = 16000)\n",
    "        audio = (torch.from_numpy(audio))\n",
    "        new_audio = torch.unsqueeze(audio,0)\n",
    "        new_audio = torch.unsqueeze(new_audio,0)\n",
    "        perturbed_audio_samples = apply_augmentations(new_audio, sample_rate=16000)\n",
    "        perturbed_audio_samples = torch.squeeze(perturbed_audio_samples,0)\n",
    "        perturbed_audio_samples = torch.squeeze(perturbed_audio_samples,0)\n",
    "\n",
    "        input_values = tokenizer(perturbed_audio_samples, return_tensors = \"pt\").input_values\n",
    "        logits = model(input_values).logits\n",
    "        prediction = torch.argmax(logits, dim = -1)\n",
    "        transcription = tokenizer.batch_decode(prediction)[0]\n",
    "        noisy_samples.append(transcription)\n",
    "    \n",
    "    original_label['TEXT'] = noisy_samples\n",
    "    original_label = original_label[[\"ID\",\"TEXT\",'INTENT',\"INTENT_ID\"]]\n",
    "    original_label.to_csv('../../data/ATIS/experiments/BG_noise/test/test_{}.csv'.format(idx))"
   ]
  },
  {
   "cell_type": "code",
   "execution_count": null,
   "id": "0d65be4e",
   "metadata": {},
   "outputs": [],
   "source": []
  },
  {
   "cell_type": "markdown",
   "id": "ccae299f",
   "metadata": {},
   "source": [
    "# selecting noise samples from the dump"
   ]
  },
  {
   "cell_type": "code",
   "execution_count": null,
   "id": "33b940b4",
   "metadata": {},
   "outputs": [],
   "source": [
    "meta = pd.read_csv('../data/noise_resources/ESC-50/meta/esc50.csv')\n",
    "meta.head()"
   ]
  },
  {
   "cell_type": "code",
   "execution_count": null,
   "id": "919e2fa3",
   "metadata": {},
   "outputs": [],
   "source": [
    "file_target = meta[['filename','target']]\n",
    "file_target.head()"
   ]
  },
  {
   "cell_type": "code",
   "execution_count": null,
   "id": "268681b3",
   "metadata": {},
   "outputs": [],
   "source": [
    "selected_class_label = [10]#,5,10,16,20,26,35,36,42,43]"
   ]
  },
  {
   "cell_type": "code",
   "execution_count": null,
   "id": "7cdef1de",
   "metadata": {},
   "outputs": [],
   "source": [
    "selected_files = file_target[file_target['target'].isin(selected_class_label)]\n",
    "selected_filename = list(selected_files['filename'])"
   ]
  },
  {
   "cell_type": "code",
   "execution_count": null,
   "id": "2f6b26d2",
   "metadata": {},
   "outputs": [],
   "source": [
    "src_path = '../data/noise_resources/ESC-50/audio/'\n",
    "dest_path = '../data/noise_resources/background_noise/rain/'"
   ]
  },
  {
   "cell_type": "code",
   "execution_count": null,
   "id": "7d568332",
   "metadata": {},
   "outputs": [],
   "source": [
    "for files in selected_filename:\n",
    "    shutil.copy(src_path + files, dest_path + files)"
   ]
  },
  {
   "cell_type": "code",
   "execution_count": null,
   "id": "67dc7d20",
   "metadata": {},
   "outputs": [],
   "source": []
  }
 ],
 "metadata": {
  "kernelspec": {
   "display_name": "Python 3",
   "language": "python",
   "name": "python3"
  },
  "language_info": {
   "codemirror_mode": {
    "name": "ipython",
    "version": 3
   },
   "file_extension": ".py",
   "mimetype": "text/x-python",
   "name": "python",
   "nbconvert_exporter": "python",
   "pygments_lexer": "ipython3",
   "version": "3.8.8"
  }
 },
 "nbformat": 4,
 "nbformat_minor": 5
}
