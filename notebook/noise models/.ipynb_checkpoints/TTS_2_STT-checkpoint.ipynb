{
 "cells": [
  {
   "cell_type": "code",
   "execution_count": 2,
   "id": "508e0954",
   "metadata": {},
   "outputs": [],
   "source": [
    "import torch\n",
    "import librosa\n",
    "from transformers import Wav2Vec2ForCTC, Wav2Vec2Tokenizer"
   ]
  },
  {
   "cell_type": "code",
   "execution_count": 3,
   "id": "2d2f27d1",
   "metadata": {},
   "outputs": [],
   "source": [
    "import librosa\n",
    "import matplotlib.pyplot as plt\n",
    "import numpy as np\n",
    "import math"
   ]
  },
  {
   "cell_type": "code",
   "execution_count": 4,
   "id": "96e38582",
   "metadata": {},
   "outputs": [
    {
     "name": "stderr",
     "output_type": "stream",
     "text": [
      "/Users/abhkhare/miniconda3/envs/ptENV3/lib/python3.8/site-packages/transformers/models/wav2vec2/tokenization_wav2vec2.py:356: FutureWarning: The class `Wav2Vec2Tokenizer` is deprecated and will be removed in version 5 of Transformers. Please use `Wav2Vec2Processor` or `Wav2Vec2CTCTokenizer` instead.\n",
      "  warnings.warn(\n",
      "Some weights of Wav2Vec2ForCTC were not initialized from the model checkpoint at facebook/wav2vec2-base-960h and are newly initialized: ['wav2vec2.masked_spec_embed']\n",
      "You should probably TRAIN this model on a down-stream task to be able to use it for predictions and inference.\n"
     ]
    }
   ],
   "source": [
    "tokenizer = Wav2Vec2Tokenizer.from_pretrained(\"facebook/wav2vec2-base-960h\")\n",
    "model = Wav2Vec2ForCTC.from_pretrained(\"facebook/wav2vec2-base-960h\")"
   ]
  },
  {
   "cell_type": "code",
   "execution_count": 122,
   "id": "bcf0ac9b",
   "metadata": {},
   "outputs": [],
   "source": [
    "audio, rate = librosa.load(\"../data/ATIS/raw/test/ASR_error/voice/7.aiff\", sr = 16000)"
   ]
  },
  {
   "cell_type": "code",
   "execution_count": 123,
   "id": "37968fa2",
   "metadata": {},
   "outputs": [],
   "source": [
    "input_values = tokenizer(audio, return_tensors = \"pt\").input_values"
   ]
  },
  {
   "cell_type": "code",
   "execution_count": 124,
   "id": "832ed058",
   "metadata": {},
   "outputs": [],
   "source": [
    "logits = model(input_values).logits"
   ]
  },
  {
   "cell_type": "code",
   "execution_count": 125,
   "id": "210f91ad",
   "metadata": {},
   "outputs": [],
   "source": [
    "prediction = torch.argmax(logits, dim = -1)"
   ]
  },
  {
   "cell_type": "code",
   "execution_count": 126,
   "id": "d71a6127",
   "metadata": {},
   "outputs": [],
   "source": [
    "transcription = tokenizer.batch_decode(prediction)[0]"
   ]
  },
  {
   "cell_type": "code",
   "execution_count": 127,
   "id": "e9b4c81b",
   "metadata": {},
   "outputs": [
    {
     "name": "stdout",
     "output_type": "stream",
     "text": [
      "ON WEDNESDAY APRIL SIXTH I WOULD LIKE TO FLY FROM LONG BEACH TO COLUMBUS AFTER THREE P M\n"
     ]
    }
   ],
   "source": [
    "print(transcription)"
   ]
  },
  {
   "cell_type": "code",
   "execution_count": 128,
   "id": "c2a21aab",
   "metadata": {},
   "outputs": [
    {
     "data": {
      "text/plain": [
       "0.145408910383494"
      ]
     },
     "execution_count": 128,
     "metadata": {},
     "output_type": "execute_result"
    }
   ],
   "source": [
    "RMS=math.sqrt(np.mean(audio**2))\n",
    "RMS"
   ]
  },
  {
   "cell_type": "code",
   "execution_count": 115,
   "id": "700ee025",
   "metadata": {},
   "outputs": [],
   "source": [
    "noise=np.random.normal(0, RMS, audio.shape[0])"
   ]
  },
  {
   "cell_type": "code",
   "execution_count": 116,
   "id": "0523c5b5",
   "metadata": {},
   "outputs": [],
   "source": [
    "signal_noise = audio + noise"
   ]
  },
  {
   "cell_type": "code",
   "execution_count": 117,
   "id": "01cec7bf",
   "metadata": {},
   "outputs": [],
   "source": [
    "input_values = tokenizer(signal_noise, return_tensors = \"pt\").input_values"
   ]
  },
  {
   "cell_type": "code",
   "execution_count": 118,
   "id": "bf05765f",
   "metadata": {},
   "outputs": [],
   "source": [
    "logits = model(input_values).logits"
   ]
  },
  {
   "cell_type": "code",
   "execution_count": 119,
   "id": "dba4b530",
   "metadata": {},
   "outputs": [],
   "source": [
    "prediction = torch.argmax(logits, dim = -1)"
   ]
  },
  {
   "cell_type": "code",
   "execution_count": 120,
   "id": "d76b1ccc",
   "metadata": {},
   "outputs": [],
   "source": [
    "transcription = tokenizer.batch_decode(prediction)[0]"
   ]
  },
  {
   "cell_type": "code",
   "execution_count": 121,
   "id": "52e63117",
   "metadata": {},
   "outputs": [
    {
     "name": "stdout",
     "output_type": "stream",
     "text": [
      "ON WEDNEDAY APRIL FIXTH I TE BI TO FLY FROM ONTI TO PLONBUS AF TER THREE P M\n"
     ]
    }
   ],
   "source": [
    "print(transcription)"
   ]
  },
  {
   "cell_type": "code",
   "execution_count": null,
   "id": "e3f6187a",
   "metadata": {},
   "outputs": [],
   "source": []
  }
 ],
 "metadata": {
  "kernelspec": {
   "display_name": "Python 3",
   "language": "python",
   "name": "python3"
  },
  "language_info": {
   "codemirror_mode": {
    "name": "ipython",
    "version": 3
   },
   "file_extension": ".py",
   "mimetype": "text/x-python",
   "name": "python",
   "nbconvert_exporter": "python",
   "pygments_lexer": "ipython3",
   "version": "3.8.8"
  }
 },
 "nbformat": 4,
 "nbformat_minor": 5
}
