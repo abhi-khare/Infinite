{
 "cells": [
  {
   "cell_type": "code",
   "execution_count": 1,
   "id": "508e0954",
   "metadata": {},
   "outputs": [],
   "source": [
    "import torch\n",
    "import librosa\n",
    "from transformers import Wav2Vec2ForCTC, Wav2Vec2Tokenizer"
   ]
  },
  {
   "cell_type": "code",
   "execution_count": 2,
   "id": "4df424c0",
   "metadata": {},
   "outputs": [],
   "source": [
    "import librosa\n",
    "import matplotlib.pyplot as plt\n",
    "import numpy as np\n",
    "import math"
   ]
  },
  {
   "cell_type": "code",
   "execution_count": 3,
   "id": "96e38582",
   "metadata": {},
   "outputs": [
    {
     "name": "stderr",
     "output_type": "stream",
     "text": [
      "/Users/abhkhare/miniconda3/envs/ptENV3/lib/python3.8/site-packages/transformers/models/wav2vec2/tokenization_wav2vec2.py:356: FutureWarning: The class `Wav2Vec2Tokenizer` is deprecated and will be removed in version 5 of Transformers. Please use `Wav2Vec2Processor` or `Wav2Vec2CTCTokenizer` instead.\n",
      "  warnings.warn(\n",
      "Some weights of Wav2Vec2ForCTC were not initialized from the model checkpoint at facebook/wav2vec2-base-960h and are newly initialized: ['wav2vec2.masked_spec_embed']\n",
      "You should probably TRAIN this model on a down-stream task to be able to use it for predictions and inference.\n"
     ]
    }
   ],
   "source": [
    "tokenizer = Wav2Vec2Tokenizer.from_pretrained(\"facebook/wav2vec2-base-960h\")\n",
    "model = Wav2Vec2ForCTC.from_pretrained(\"facebook/wav2vec2-base-960h\")"
   ]
  },
  {
   "cell_type": "code",
   "execution_count": 10,
   "id": "bcf0ac9b",
   "metadata": {},
   "outputs": [],
   "source": [
    "audio, rate = librosa.load(\"../../data/ATIS/raw/test/ASR_voice_samples/4.wav\", sr = 16000)"
   ]
  },
  {
   "cell_type": "code",
   "execution_count": 11,
   "id": "37968fa2",
   "metadata": {},
   "outputs": [],
   "source": [
    "input_values = tokenizer(audio, return_tensors = \"pt\").input_values"
   ]
  },
  {
   "cell_type": "code",
   "execution_count": 12,
   "id": "832ed058",
   "metadata": {},
   "outputs": [],
   "source": [
    "logits = model(input_values).logits"
   ]
  },
  {
   "cell_type": "code",
   "execution_count": 13,
   "id": "210f91ad",
   "metadata": {},
   "outputs": [],
   "source": [
    "prediction = torch.argmax(logits, dim = -1)"
   ]
  },
  {
   "cell_type": "code",
   "execution_count": 14,
   "id": "d71a6127",
   "metadata": {},
   "outputs": [],
   "source": [
    "transcription = tokenizer.batch_decode(prediction)[0]"
   ]
  },
  {
   "cell_type": "code",
   "execution_count": 15,
   "id": "e9b4c81b",
   "metadata": {},
   "outputs": [
    {
     "name": "stdout",
     "output_type": "stream",
     "text": [
      "I AM GOING TO HOME\n"
     ]
    }
   ],
   "source": [
    "print(transcription)"
   ]
  },
  {
   "cell_type": "code",
   "execution_count": null,
   "id": "a06de350",
   "metadata": {},
   "outputs": [],
   "source": []
  }
 ],
 "metadata": {
  "kernelspec": {
   "display_name": "Python 3",
   "language": "python",
   "name": "python3"
  },
  "language_info": {
   "codemirror_mode": {
    "name": "ipython",
    "version": 3
   },
   "file_extension": ".py",
   "mimetype": "text/x-python",
   "name": "python",
   "nbconvert_exporter": "python",
   "pygments_lexer": "ipython3",
   "version": "3.8.8"
  }
 },
 "nbformat": 4,
 "nbformat_minor": 5
}
