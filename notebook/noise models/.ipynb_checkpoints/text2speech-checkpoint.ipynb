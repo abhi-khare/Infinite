{
 "cells": [
  {
   "cell_type": "code",
   "execution_count": 1,
   "id": "4c17cead",
   "metadata": {},
   "outputs": [],
   "source": [
    "import torch\n",
    "import torchaudio\n",
    "import matplotlib.pyplot as plt\n",
    "import pandas as pd"
   ]
  },
  {
   "cell_type": "code",
   "execution_count": 2,
   "id": "b64c483c",
   "metadata": {},
   "outputs": [
    {
     "name": "stdout",
     "output_type": "stream",
     "text": [
      "1.10.0\n",
      "0.10.0\n"
     ]
    }
   ],
   "source": [
    "print(torch.__version__)\n",
    "print(torchaudio.__version__)\n",
    "\n",
    "torch.random.manual_seed(0)\n",
    "device = \"cuda\" if torch.cuda.is_available() else \"cpu\"\n",
    "\n",
    "out_path = '../../data/ATIS/raw/test/ASR_voice_samples/'"
   ]
  },
  {
   "cell_type": "code",
   "execution_count": 3,
   "id": "5deadc77",
   "metadata": {},
   "outputs": [],
   "source": [
    "bundle = torchaudio.pipelines.TACOTRON2_WAVERNN_PHONE_LJSPEECH\n",
    "\n",
    "processor = bundle.get_text_processor()\n",
    "tacotron2 = bundle.get_tacotron2().to(device)\n",
    "vocoder = bundle.get_vocoder().to(device)"
   ]
  },
  {
   "cell_type": "code",
   "execution_count": 4,
   "id": "484da291",
   "metadata": {},
   "outputs": [],
   "source": [
    "data = pd.read_csv('../../data/ATIS/experiments/clean/test/test.tsv',sep='\\t')"
   ]
  },
  {
   "cell_type": "code",
   "execution_count": 5,
   "id": "cca670c3",
   "metadata": {},
   "outputs": [],
   "source": [
    "# rearranging rows of dataframe according to sequence length\n",
    "s = data.TEXT.str.len().sort_values(ascending=False).index\n",
    "sorted_data = data.reindex(s)"
   ]
  },
  {
   "cell_type": "code",
   "execution_count": 6,
   "id": "76c0418e",
   "metadata": {},
   "outputs": [
    {
     "data": {
      "text/html": [
       "<div>\n",
       "<style scoped>\n",
       "    .dataframe tbody tr th:only-of-type {\n",
       "        vertical-align: middle;\n",
       "    }\n",
       "\n",
       "    .dataframe tbody tr th {\n",
       "        vertical-align: top;\n",
       "    }\n",
       "\n",
       "    .dataframe thead th {\n",
       "        text-align: right;\n",
       "    }\n",
       "</style>\n",
       "<table border=\"1\" class=\"dataframe\">\n",
       "  <thead>\n",
       "    <tr style=\"text-align: right;\">\n",
       "      <th></th>\n",
       "      <th>ID</th>\n",
       "      <th>TEXT</th>\n",
       "      <th>INTENT</th>\n",
       "      <th>INTENT_ID</th>\n",
       "    </tr>\n",
       "  </thead>\n",
       "  <tbody>\n",
       "    <tr>\n",
       "      <th>0</th>\n",
       "      <td>127</td>\n",
       "      <td>show me flight us 1207 from indianapolis to ch...</td>\n",
       "      <td>atis_flight</td>\n",
       "      <td>9</td>\n",
       "    </tr>\n",
       "    <tr>\n",
       "      <th>1</th>\n",
       "      <td>383</td>\n",
       "      <td>find a flight between st. petersburg and charl...</td>\n",
       "      <td>atis_flight</td>\n",
       "      <td>9</td>\n",
       "    </tr>\n",
       "    <tr>\n",
       "      <th>2</th>\n",
       "      <td>874</td>\n",
       "      <td>please find a flight round trip from los angel...</td>\n",
       "      <td>atis_flight</td>\n",
       "      <td>9</td>\n",
       "    </tr>\n",
       "    <tr>\n",
       "      <th>3</th>\n",
       "      <td>316</td>\n",
       "      <td>show me airlines that have flights between tor...</td>\n",
       "      <td>atis_airline</td>\n",
       "      <td>3</td>\n",
       "    </tr>\n",
       "    <tr>\n",
       "      <th>4</th>\n",
       "      <td>73</td>\n",
       "      <td>on tuesday are the flights from san diego cali...</td>\n",
       "      <td>atis_flight</td>\n",
       "      <td>9</td>\n",
       "    </tr>\n",
       "  </tbody>\n",
       "</table>\n",
       "</div>"
      ],
      "text/plain": [
       "    ID                                               TEXT        INTENT  \\\n",
       "0  127  show me flight us 1207 from indianapolis to ch...   atis_flight   \n",
       "1  383  find a flight between st. petersburg and charl...   atis_flight   \n",
       "2  874  please find a flight round trip from los angel...   atis_flight   \n",
       "3  316  show me airlines that have flights between tor...  atis_airline   \n",
       "4   73  on tuesday are the flights from san diego cali...   atis_flight   \n",
       "\n",
       "   INTENT_ID  \n",
       "0          9  \n",
       "1          9  \n",
       "2          9  \n",
       "3          3  \n",
       "4          9  "
      ]
     },
     "execution_count": 6,
     "metadata": {},
     "output_type": "execute_result"
    }
   ],
   "source": [
    "sorted_data =  sorted_data.reset_index(drop=True)\n",
    "sorted_data.head()"
   ]
  },
  {
   "cell_type": "code",
   "execution_count": 7,
   "id": "2757acb8",
   "metadata": {},
   "outputs": [],
   "source": [
    "sorted_sequence = list(sorted_data['TEXT'])"
   ]
  },
  {
   "cell_type": "code",
   "execution_count": 8,
   "id": "5a512abe",
   "metadata": {},
   "outputs": [],
   "source": [
    "def chunks(lst, n):\n",
    "    \"\"\"Yield successive n-sized chunks from lst.\"\"\"\n",
    "    for i in range(0, len(lst), n):\n",
    "        yield lst[i:i + n]"
   ]
  },
  {
   "cell_type": "code",
   "execution_count": 9,
   "id": "7a3e5e75",
   "metadata": {},
   "outputs": [],
   "source": [
    "chunked_sequence = chunks(sorted_sequence,32)"
   ]
  },
  {
   "cell_type": "code",
   "execution_count": null,
   "id": "4ce7acdd",
   "metadata": {},
   "outputs": [
    {
     "name": "stdout",
     "output_type": "stream",
     "text": [
      "processing 0 chunk\n"
     ]
    }
   ],
   "source": [
    "for idx,chunk in enumerate(list(chunked_sequence)):\n",
    "    \n",
    "    print('processing {} chunk'.format(idx))\n",
    "    \n",
    "    with torch.inference_mode():\n",
    "        processed, lengths = processor(chunk)\n",
    "        processed = processed.to(device)\n",
    "        lengths = lengths.to(device)\n",
    "        spec, spec_lengths, _ = tacotron2.infer(processed, lengths)\n",
    "        waveforms, lengths = vocoder(spec, spec_lengths)\n",
    "    \n",
    "    for idx in range(len(chunk)):\n",
    "        torchaudio.save(out_path + \"/{}.wav\".format(idx), waveforms[idx:idx+1].cpu(), sample_rate=vocoder.sample_rate)"
   ]
  },
  {
   "cell_type": "code",
   "execution_count": null,
   "id": "c44fa43e",
   "metadata": {},
   "outputs": [],
   "source": []
  }
 ],
 "metadata": {
  "kernelspec": {
   "display_name": "Python 3",
   "language": "python",
   "name": "python3"
  },
  "language_info": {
   "codemirror_mode": {
    "name": "ipython",
    "version": 3
   },
   "file_extension": ".py",
   "mimetype": "text/x-python",
   "name": "python",
   "nbconvert_exporter": "python",
   "pygments_lexer": "ipython3",
   "version": "3.8.8"
  }
 },
 "nbformat": 4,
 "nbformat_minor": 5
}
