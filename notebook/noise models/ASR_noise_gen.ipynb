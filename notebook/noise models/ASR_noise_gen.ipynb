{
 "cells": [
  {
   "cell_type": "code",
   "execution_count": 26,
   "id": "83fe2211",
   "metadata": {},
   "outputs": [
    {
     "name": "stdout",
     "output_type": "stream",
     "text": [
      "\u001b[33mWARNING: The directory '/Users/abhkhare/Library/Caches/pip' or its parent directory is not owned or is not writable by the current user. The cache has been disabled. Check the permissions and owner of that directory. If executing pip with sudo, you may want sudo's -H flag.\u001b[0m\n",
      "Collecting pydub\n",
      "  Downloading pydub-0.25.1-py2.py3-none-any.whl (32 kB)\n",
      "Installing collected packages: pydub\n",
      "Successfully installed pydub-0.25.1\n",
      "\u001b[33mWARNING: The directory '/Users/abhkhare/Library/Caches/pip' or its parent directory is not owned or is not writable by the current user. The cache has been disabled. Check the permissions and owner of that directory. If executing pip with sudo, you may want sudo's -H flag.\u001b[0m\n",
      "Requirement already satisfied: torch-audiomentations in /Users/abhkhare/miniconda3/envs/ptENV3/lib/python3.8/site-packages (0.9.0)\n",
      "Requirement already satisfied: torch>=1.7.0 in /Users/abhkhare/miniconda3/envs/ptENV3/lib/python3.8/site-packages (from torch-audiomentations) (1.8.1)\n",
      "Requirement already satisfied: torch-pitch-shift>=1.2.0 in /Users/abhkhare/miniconda3/envs/ptENV3/lib/python3.8/site-packages (from torch-audiomentations) (1.2.0)\n",
      "Requirement already satisfied: librosa>=0.6.0 in /Users/abhkhare/miniconda3/envs/ptENV3/lib/python3.8/site-packages (from torch-audiomentations) (0.8.1)\n",
      "Requirement already satisfied: torchaudio>=0.7.0 in /Users/abhkhare/miniconda3/envs/ptENV3/lib/python3.8/site-packages (from torch-audiomentations) (0.8.1)\n",
      "Requirement already satisfied: julius<0.3,>=0.2.3 in /Users/abhkhare/miniconda3/envs/ptENV3/lib/python3.8/site-packages (from torch-audiomentations) (0.2.5)\n",
      "Requirement already satisfied: decorator>=3.0.0 in /Users/abhkhare/miniconda3/envs/ptENV3/lib/python3.8/site-packages (from librosa>=0.6.0->torch-audiomentations) (5.0.5)\n",
      "Requirement already satisfied: resampy>=0.2.2 in /Users/abhkhare/miniconda3/envs/ptENV3/lib/python3.8/site-packages (from librosa>=0.6.0->torch-audiomentations) (0.2.2)\n",
      "Requirement already satisfied: soundfile>=0.10.2 in /Users/abhkhare/miniconda3/envs/ptENV3/lib/python3.8/site-packages (from librosa>=0.6.0->torch-audiomentations) (0.10.3.post1)\n",
      "Requirement already satisfied: pooch>=1.0 in /Users/abhkhare/miniconda3/envs/ptENV3/lib/python3.8/site-packages (from librosa>=0.6.0->torch-audiomentations) (1.5.2)\n",
      "Requirement already satisfied: scipy>=1.0.0 in /Users/abhkhare/miniconda3/envs/ptENV3/lib/python3.8/site-packages (from librosa>=0.6.0->torch-audiomentations) (1.6.2)\n",
      "Requirement already satisfied: audioread>=2.0.0 in /Users/abhkhare/miniconda3/envs/ptENV3/lib/python3.8/site-packages (from librosa>=0.6.0->torch-audiomentations) (2.1.9)\n",
      "Requirement already satisfied: numba>=0.43.0 in /Users/abhkhare/miniconda3/envs/ptENV3/lib/python3.8/site-packages (from librosa>=0.6.0->torch-audiomentations) (0.54.1)\n",
      "Requirement already satisfied: packaging>=20.0 in /Users/abhkhare/miniconda3/envs/ptENV3/lib/python3.8/site-packages (from librosa>=0.6.0->torch-audiomentations) (20.9)\n",
      "Requirement already satisfied: scikit-learn!=0.19.0,>=0.14.0 in /Users/abhkhare/miniconda3/envs/ptENV3/lib/python3.8/site-packages (from librosa>=0.6.0->torch-audiomentations) (0.24.1)\n",
      "Requirement already satisfied: joblib>=0.14 in /Users/abhkhare/miniconda3/envs/ptENV3/lib/python3.8/site-packages (from librosa>=0.6.0->torch-audiomentations) (1.0.1)\n",
      "Requirement already satisfied: numpy>=1.15.0 in /Users/abhkhare/miniconda3/envs/ptENV3/lib/python3.8/site-packages (from librosa>=0.6.0->torch-audiomentations) (1.20.2)\n",
      "Requirement already satisfied: llvmlite<0.38,>=0.37.0rc1 in /Users/abhkhare/miniconda3/envs/ptENV3/lib/python3.8/site-packages (from numba>=0.43.0->librosa>=0.6.0->torch-audiomentations) (0.37.0)\n",
      "Requirement already satisfied: setuptools in /Users/abhkhare/miniconda3/envs/ptENV3/lib/python3.8/site-packages (from numba>=0.43.0->librosa>=0.6.0->torch-audiomentations) (52.0.0.post20210125)\n",
      "Requirement already satisfied: pyparsing>=2.0.2 in /Users/abhkhare/miniconda3/envs/ptENV3/lib/python3.8/site-packages (from packaging>=20.0->librosa>=0.6.0->torch-audiomentations) (2.4.7)\n",
      "Requirement already satisfied: appdirs in /Users/abhkhare/miniconda3/envs/ptENV3/lib/python3.8/site-packages (from pooch>=1.0->librosa>=0.6.0->torch-audiomentations) (1.4.4)\n",
      "Requirement already satisfied: requests in /Users/abhkhare/miniconda3/envs/ptENV3/lib/python3.8/site-packages (from pooch>=1.0->librosa>=0.6.0->torch-audiomentations) (2.25.1)\n",
      "Requirement already satisfied: six>=1.3 in /Users/abhkhare/miniconda3/envs/ptENV3/lib/python3.8/site-packages (from resampy>=0.2.2->librosa>=0.6.0->torch-audiomentations) (1.15.0)\n",
      "Requirement already satisfied: threadpoolctl>=2.0.0 in /Users/abhkhare/miniconda3/envs/ptENV3/lib/python3.8/site-packages (from scikit-learn!=0.19.0,>=0.14.0->librosa>=0.6.0->torch-audiomentations) (2.1.0)\n",
      "Requirement already satisfied: cffi>=1.0 in /Users/abhkhare/miniconda3/envs/ptENV3/lib/python3.8/site-packages (from soundfile>=0.10.2->librosa>=0.6.0->torch-audiomentations) (1.14.5)\n",
      "Requirement already satisfied: pycparser in /Users/abhkhare/miniconda3/envs/ptENV3/lib/python3.8/site-packages (from cffi>=1.0->soundfile>=0.10.2->librosa>=0.6.0->torch-audiomentations) (2.20)\n",
      "Requirement already satisfied: typing-extensions in /Users/abhkhare/miniconda3/envs/ptENV3/lib/python3.8/site-packages (from torch>=1.7.0->torch-audiomentations) (3.7.4.3)\n",
      "Requirement already satisfied: primePy>=1.3 in /Users/abhkhare/miniconda3/envs/ptENV3/lib/python3.8/site-packages (from torch-pitch-shift>=1.2.0->torch-audiomentations) (1.3)\n",
      "Requirement already satisfied: chardet<5,>=3.0.2 in /Users/abhkhare/miniconda3/envs/ptENV3/lib/python3.8/site-packages (from requests->pooch>=1.0->librosa>=0.6.0->torch-audiomentations) (4.0.0)\n",
      "Requirement already satisfied: certifi>=2017.4.17 in /Users/abhkhare/miniconda3/envs/ptENV3/lib/python3.8/site-packages (from requests->pooch>=1.0->librosa>=0.6.0->torch-audiomentations) (2020.12.5)\n",
      "Requirement already satisfied: idna<3,>=2.5 in /Users/abhkhare/miniconda3/envs/ptENV3/lib/python3.8/site-packages (from requests->pooch>=1.0->librosa>=0.6.0->torch-audiomentations) (2.10)\n",
      "Requirement already satisfied: urllib3<1.27,>=1.21.1 in /Users/abhkhare/miniconda3/envs/ptENV3/lib/python3.8/site-packages (from requests->pooch>=1.0->librosa>=0.6.0->torch-audiomentations) (1.26.4)\n"
     ]
    }
   ],
   "source": [
    "!pip install pydub\n",
    "!pip install torch-audiomentations"
   ]
  },
  {
   "cell_type": "code",
   "execution_count": 27,
   "id": "1877e3be",
   "metadata": {},
   "outputs": [
    {
     "name": "stderr",
     "output_type": "stream",
     "text": [
      "/Users/abhkhare/miniconda3/envs/ptENV3/lib/python3.8/site-packages/pydub/utils.py:170: RuntimeWarning: Couldn't find ffmpeg or avconv - defaulting to ffmpeg, but may not work\n",
      "  warn(\"Couldn't find ffmpeg or avconv - defaulting to ffmpeg, but may not work\", RuntimeWarning)\n"
     ]
    }
   ],
   "source": [
    "import librosa\n",
    "import matplotlib.pyplot as plt\n",
    "import numpy as np\n",
    "import math\n",
    "from audiomentations import Compose, AddGaussianNoise, TimeStretch, PitchShift, Shift\n",
    "import torch\n",
    "import librosa\n",
    "from transformers import Wav2Vec2ForCTC, Wav2Vec2Tokenizer\n",
    "import matplotlib.pyplot as plt\n",
    "import numpy as np\n",
    "import math"
   ]
  },
  {
   "cell_type": "code",
   "execution_count": 28,
   "id": "386a9a4e",
   "metadata": {},
   "outputs": [
    {
     "name": "stderr",
     "output_type": "stream",
     "text": [
      "/Users/abhkhare/miniconda3/envs/ptENV3/lib/python3.8/site-packages/transformers/models/wav2vec2/tokenization_wav2vec2.py:356: FutureWarning: The class `Wav2Vec2Tokenizer` is deprecated and will be removed in version 5 of Transformers. Please use `Wav2Vec2Processor` or `Wav2Vec2CTCTokenizer` instead.\n",
      "  warnings.warn(\n",
      "Some weights of Wav2Vec2ForCTC were not initialized from the model checkpoint at facebook/wav2vec2-base-960h and are newly initialized: ['wav2vec2.masked_spec_embed']\n",
      "You should probably TRAIN this model on a down-stream task to be able to use it for predictions and inference.\n"
     ]
    }
   ],
   "source": [
    "tokenizer = Wav2Vec2Tokenizer.from_pretrained(\"facebook/wav2vec2-base-960h\")\n",
    "model = Wav2Vec2ForCTC.from_pretrained(\"facebook/wav2vec2-base-960h\")"
   ]
  },
  {
   "cell_type": "code",
   "execution_count": 53,
   "id": "016a5a9d",
   "metadata": {},
   "outputs": [
    {
     "name": "stdout",
     "output_type": "stream",
     "text": [
      "AFTER TWELVE P M ON WEDNESDAY APRIL SIXTH I WOULD LIKE TO FLY FROM LONG BEACH TO COLUMBUS\n"
     ]
    }
   ],
   "source": [
    "audio, rate = librosa.load(\"../data/ATIS/raw/test/ASR_error/voice/8.aiff\", sr = 16000)\n",
    "input_values = tokenizer(audio, return_tensors = \"pt\").input_values\n",
    "logits = model(input_values).logits\n",
    "prediction = torch.argmax(logits, dim = -1)\n",
    "transcription = tokenizer.batch_decode(prediction)[0]\n",
    "print(transcription)"
   ]
  },
  {
   "cell_type": "code",
   "execution_count": 56,
   "id": "8df5ae0f",
   "metadata": {},
   "outputs": [],
   "source": [
    "SAMPLE_RATE = 16000\n",
    "\n",
    "augment = Compose([\n",
    "    AddGaussianNoise(min_amplitude=0.005, max_amplitude=0.025, p=0.5),\n",
    "    TimeStretch(min_rate=0.9, max_rate=1.25, p=0.5),\n",
    "    PitchShift(min_semitones=-3, max_semitones=4, p=0.5),\n",
    "    Shift(min_fraction=-0.5, max_fraction=0.5, p=0.5),\n",
    "])\n",
    "\n",
    "audio, rate = librosa.load(\"../data/ATIS/raw/test/ASR_error/voice/8.aiff\", sr = 16000)\n",
    "\n",
    "# Augment/transform/perturb the audio data\n",
    "augmented_samples = augment(samples=audio, sample_rate=SAMPLE_RATE)"
   ]
  },
  {
   "cell_type": "code",
   "execution_count": 57,
   "id": "4a2c51e9",
   "metadata": {},
   "outputs": [
    {
     "name": "stdout",
     "output_type": "stream",
     "text": [
      "AFTER GOLV P N ON MONDAY APRIL SIXH I WOULD LIKE TO BUY FROM LONG BEACH I COLAMUS\n"
     ]
    }
   ],
   "source": [
    "input_values = tokenizer(augmented_samples, return_tensors = \"pt\").input_values\n",
    "logits = model(input_values).logits\n",
    "prediction = torch.argmax(logits, dim = -1)\n",
    "transcription = tokenizer.batch_decode(prediction)[0]\n",
    "print(transcription)"
   ]
  },
  {
   "cell_type": "code",
   "execution_count": null,
   "id": "485ee7c3",
   "metadata": {},
   "outputs": [],
   "source": []
  }
 ],
 "metadata": {
  "kernelspec": {
   "display_name": "Python 3",
   "language": "python",
   "name": "python3"
  },
  "language_info": {
   "codemirror_mode": {
    "name": "ipython",
    "version": 3
   },
   "file_extension": ".py",
   "mimetype": "text/x-python",
   "name": "python",
   "nbconvert_exporter": "python",
   "pygments_lexer": "ipython3",
   "version": "3.8.8"
  }
 },
 "nbformat": 4,
 "nbformat_minor": 5
}
