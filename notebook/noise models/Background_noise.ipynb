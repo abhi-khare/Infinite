{
 "cells": [
  {
   "cell_type": "code",
   "execution_count": 1,
   "id": "648b672d",
   "metadata": {},
   "outputs": [
    {
     "name": "stderr",
     "output_type": "stream",
     "text": [
      "/Users/abhkhare/miniconda3/envs/ptENV3/lib/python3.8/site-packages/torchaudio/backend/utils.py:46: UserWarning: \"torchaudio.USE_SOUNDFILE_LEGACY_INTERFACE\" flag is deprecated and will be removed in 0.9.0. Please remove the use of flag.\n",
      "  warnings.warn(\n"
     ]
    }
   ],
   "source": [
    "import math\n",
    "import torch \n",
    "import shutil\n",
    "import librosa\n",
    "import numpy as np\n",
    "import pandas as pd\n",
    "import soundfile as sf\n",
    "import matplotlib.pyplot as plt\n",
    "from torch_audiomentations import Compose, AddBackgroundNoise\n",
    "from transformers import Wav2Vec2ForCTC, Wav2Vec2Tokenizer"
   ]
  },
  {
   "cell_type": "code",
   "execution_count": 2,
   "id": "e9e3f5ae",
   "metadata": {},
   "outputs": [
    {
     "name": "stderr",
     "output_type": "stream",
     "text": [
      "Some weights of Wav2Vec2ForCTC were not initialized from the model checkpoint at facebook/wav2vec2-base-960h and are newly initialized: ['wav2vec2.masked_spec_embed']\n",
      "You should probably TRAIN this model on a down-stream task to be able to use it for predictions and inference.\n"
     ]
    }
   ],
   "source": [
    "# loading STT models\n",
    "tokenizer = Wav2Vec2Tokenizer.from_pretrained(\"facebook/wav2vec2-base-960h\")\n",
    "model = Wav2Vec2ForCTC.from_pretrained(\"facebook/wav2vec2-base-960h\")"
   ]
  },
  {
   "cell_type": "code",
   "execution_count": 3,
   "id": "7658d2c2",
   "metadata": {},
   "outputs": [],
   "source": [
    "apply_augmentations = Compose(transforms=[AddBackgroundNoise(\n",
    "                      background_paths='../../data/noise_resources/background_noise/',\n",
    "                      p=1.0,\n",
    "                      min_snr_in_db=-0.5,\n",
    "                      max_snr_in_db=0.5,\n",
    "                      )])"
   ]
  },
  {
   "cell_type": "code",
   "execution_count": 4,
   "id": "31038258",
   "metadata": {},
   "outputs": [],
   "source": [
    "# setting up device\n",
    "torch_device = torch.device(\"cuda\" if torch.cuda.is_available() else \"cpu\")"
   ]
  },
  {
   "cell_type": "code",
   "execution_count": 5,
   "id": "062b859b",
   "metadata": {},
   "outputs": [],
   "source": [
    "atis_samples_count = 892"
   ]
  },
  {
   "cell_type": "code",
   "execution_count": 9,
   "id": "42f4b1eb",
   "metadata": {},
   "outputs": [],
   "source": [
    "original_data = pd.read_csv('../../data/ATIS/experiments/clean/test/test.tsv',sep='\\t')\n",
    "original_label = original_data[['ID','INTENT','INTENT_ID']]"
   ]
  },
  {
   "cell_type": "code",
   "execution_count": 10,
   "id": "e2b3dbb0",
   "metadata": {},
   "outputs": [
    {
     "data": {
      "text/html": [
       "<div>\n",
       "<style scoped>\n",
       "    .dataframe tbody tr th:only-of-type {\n",
       "        vertical-align: middle;\n",
       "    }\n",
       "\n",
       "    .dataframe tbody tr th {\n",
       "        vertical-align: top;\n",
       "    }\n",
       "\n",
       "    .dataframe thead th {\n",
       "        text-align: right;\n",
       "    }\n",
       "</style>\n",
       "<table border=\"1\" class=\"dataframe\">\n",
       "  <thead>\n",
       "    <tr style=\"text-align: right;\">\n",
       "      <th></th>\n",
       "      <th>ID</th>\n",
       "      <th>TEXT</th>\n",
       "      <th>INTENT</th>\n",
       "      <th>INTENT_ID</th>\n",
       "    </tr>\n",
       "  </thead>\n",
       "  <tbody>\n",
       "    <tr>\n",
       "      <th>0</th>\n",
       "      <td>0</td>\n",
       "      <td>i would like to find a flight from charlotte t...</td>\n",
       "      <td>atis_flight</td>\n",
       "      <td>9</td>\n",
       "    </tr>\n",
       "    <tr>\n",
       "      <th>1</th>\n",
       "      <td>1</td>\n",
       "      <td>on april first i need a ticket from tacoma to ...</td>\n",
       "      <td>atis_airfare</td>\n",
       "      <td>2</td>\n",
       "    </tr>\n",
       "    <tr>\n",
       "      <th>2</th>\n",
       "      <td>2</td>\n",
       "      <td>on april first i need a flight going from phoe...</td>\n",
       "      <td>atis_flight</td>\n",
       "      <td>9</td>\n",
       "    </tr>\n",
       "    <tr>\n",
       "      <th>3</th>\n",
       "      <td>3</td>\n",
       "      <td>i would like a flight traveling one way from p...</td>\n",
       "      <td>atis_flight</td>\n",
       "      <td>9</td>\n",
       "    </tr>\n",
       "    <tr>\n",
       "      <th>4</th>\n",
       "      <td>4</td>\n",
       "      <td>i would like a flight from orlando to salt lak...</td>\n",
       "      <td>atis_flight</td>\n",
       "      <td>9</td>\n",
       "    </tr>\n",
       "  </tbody>\n",
       "</table>\n",
       "</div>"
      ],
      "text/plain": [
       "   ID                                               TEXT        INTENT  \\\n",
       "0   0  i would like to find a flight from charlotte t...   atis_flight   \n",
       "1   1  on april first i need a ticket from tacoma to ...  atis_airfare   \n",
       "2   2  on april first i need a flight going from phoe...   atis_flight   \n",
       "3   3  i would like a flight traveling one way from p...   atis_flight   \n",
       "4   4  i would like a flight from orlando to salt lak...   atis_flight   \n",
       "\n",
       "   INTENT_ID  \n",
       "0          9  \n",
       "1          2  \n",
       "2          9  \n",
       "3          9  \n",
       "4          9  "
      ]
     },
     "execution_count": 10,
     "metadata": {},
     "output_type": "execute_result"
    }
   ],
   "source": [
    "original_data.head()"
   ]
  },
  {
   "cell_type": "code",
   "execution_count": null,
   "id": "511973c8",
   "metadata": {},
   "outputs": [
    {
     "name": "stdout",
     "output_type": "stream",
     "text": [
      "processing version 0\n"
     ]
    }
   ],
   "source": [
    "for idx in range(5):\n",
    "    print('processing version {}'.format(idx))\n",
    "    noisy_samples = []\n",
    "    # reading all the audio samples\n",
    "    for jdx in list(range(atis_samples_count)):\n",
    "        \n",
    "        audio, rate = librosa.load(\"../../data/ATIS/raw/test/ASR_error/voice/{}.aiff\".format(jdx), sr = 16000)\n",
    "        audio = (torch.from_numpy(audio))\n",
    "        new_audio = torch.unsqueeze(audio,0)\n",
    "        new_audio = torch.unsqueeze(new_audio,0)\n",
    "        perturbed_audio_samples = apply_augmentations(new_audio, sample_rate=16000)\n",
    "        perturbed_audio_samples = torch.squeeze(perturbed_audio_samples,0)\n",
    "        perturbed_audio_samples = torch.squeeze(perturbed_audio_samples,0)\n",
    "\n",
    "        input_values = tokenizer(perturbed_audio_samples, return_tensors = \"pt\").input_values\n",
    "        logits = model(input_values).logits\n",
    "        prediction = torch.argmax(logits, dim = -1)\n",
    "        transcription = tokenizer.batch_decode(prediction)[0]\n",
    "        noisy_samples.append(transcription)\n",
    "    \n",
    "    original_label['TEXT'] = noisy_samples\n",
    "    original_label = original_label[[\"ID\",\"TEXT\",'INTENT',\"INTENT_ID\"]]\n",
    "    original_label.to_csv('../../data/ATIS/experiments/BG_noise/test/test_{}.csv'.format(idx))"
   ]
  },
  {
   "cell_type": "markdown",
   "id": "ccae299f",
   "metadata": {},
   "source": [
    "# selecting noise samples from the dump"
   ]
  },
  {
   "cell_type": "code",
   "execution_count": null,
   "id": "33b940b4",
   "metadata": {},
   "outputs": [],
   "source": [
    "meta = pd.read_csv('../data/noise_resources/ESC-50/meta/esc50.csv')\n",
    "meta.head()"
   ]
  },
  {
   "cell_type": "code",
   "execution_count": null,
   "id": "919e2fa3",
   "metadata": {},
   "outputs": [],
   "source": [
    "file_target = meta[['filename','target']]\n",
    "file_target.head()"
   ]
  },
  {
   "cell_type": "code",
   "execution_count": null,
   "id": "268681b3",
   "metadata": {},
   "outputs": [],
   "source": [
    "selected_class_label = [10]#,5,10,16,20,26,35,36,42,43]"
   ]
  },
  {
   "cell_type": "code",
   "execution_count": null,
   "id": "7cdef1de",
   "metadata": {},
   "outputs": [],
   "source": [
    "selected_files = file_target[file_target['target'].isin(selected_class_label)]\n",
    "selected_filename = list(selected_files['filename'])"
   ]
  },
  {
   "cell_type": "code",
   "execution_count": null,
   "id": "2f6b26d2",
   "metadata": {},
   "outputs": [],
   "source": [
    "src_path = '../data/noise_resources/ESC-50/audio/'\n",
    "dest_path = '../data/noise_resources/background_noise/rain/'"
   ]
  },
  {
   "cell_type": "code",
   "execution_count": null,
   "id": "7d568332",
   "metadata": {},
   "outputs": [],
   "source": [
    "for files in selected_filename:\n",
    "    shutil.copy(src_path + files, dest_path + files)"
   ]
  },
  {
   "cell_type": "code",
   "execution_count": null,
   "id": "67dc7d20",
   "metadata": {},
   "outputs": [],
   "source": []
  }
 ],
 "metadata": {
  "kernelspec": {
   "display_name": "Python 3",
   "language": "python",
   "name": "python3"
  },
  "language_info": {
   "codemirror_mode": {
    "name": "ipython",
    "version": 3
   },
   "file_extension": ".py",
   "mimetype": "text/x-python",
   "name": "python",
   "nbconvert_exporter": "python",
   "pygments_lexer": "ipython3",
   "version": "3.8.8"
  }
 },
 "nbformat": 4,
 "nbformat_minor": 5
}
