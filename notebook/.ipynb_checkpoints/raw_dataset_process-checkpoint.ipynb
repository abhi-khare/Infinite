{
 "cells": [
  {
   "cell_type": "code",
   "execution_count": 1,
   "id": "a74f0293",
   "metadata": {},
   "outputs": [],
   "source": [
    "import pandas as pd\n",
    "from collections import Counter\n",
    "import numpy as np\n",
    "from copy import deepcopy\n",
    "import random\n",
    "from functools import reduce\n",
    "import pickle\n",
    "from sklearn.model_selection import train_test_split"
   ]
  },
  {
   "cell_type": "code",
   "execution_count": 2,
   "id": "ecc57e52",
   "metadata": {},
   "outputs": [],
   "source": [
    "def set_seed(seed):\n",
    "    random.seed(seed)\n",
    "    np.random.seed(seed)"
   ]
  },
  {
   "cell_type": "code",
   "execution_count": 3,
   "id": "343d5316",
   "metadata": {},
   "outputs": [],
   "source": [
    "set_seed(42)"
   ]
  },
  {
   "cell_type": "markdown",
   "id": "051c3ce2",
   "metadata": {},
   "source": [
    "# Processing ATIS dataset"
   ]
  },
  {
   "cell_type": "code",
   "execution_count": 4,
   "id": "a6e308d3",
   "metadata": {},
   "outputs": [],
   "source": [
    "# processing training set [ATIS]\n",
    "\n",
    "# reading individual files\n",
    "text = pd.read_csv('../data/ATIS/raw/train/text.tsv',sep='\\t',header=None,names=['TEXT'])\n",
    "labels = pd.read_csv('../data/ATIS/raw/train/label.tsv',sep='\\t',header=None,names=['INTENT'])\n",
    "\n",
    "# merging them together\n",
    "train = pd.concat([text,labels],axis=1)\n",
    "\n",
    "# adding id column\n",
    "train['ID'] = list(range(len(train)))\n",
    "\n",
    "# reordering columns\n",
    "train = train[[\"ID\",\"TEXT\",'INTENT']]\n",
    "\n",
    "# saving to file\n",
    "train.to_csv('../data/ATIS/raw/train/train.tsv',sep='\\t',index=False)"
   ]
  },
  {
   "cell_type": "code",
   "execution_count": 5,
   "id": "8811c7c8",
   "metadata": {},
   "outputs": [],
   "source": [
    "# processing dev set [ATIS]\n",
    "\n",
    "# reading individual files\n",
    "text = pd.read_csv('../data/ATIS/raw/dev/text.tsv',sep='\\t',header=None,names=['TEXT'])\n",
    "labels = pd.read_csv('../data/ATIS/raw/dev/label.tsv',sep='\\t',header=None,names=['INTENT'])\n",
    "\n",
    "# merging them together\n",
    "train = pd.concat([text,labels],axis=1)\n",
    "\n",
    "# adding id column\n",
    "train['ID'] = list(range(len(train)))\n",
    "\n",
    "# reordering columns\n",
    "train = train[[\"ID\",\"TEXT\",'INTENT']]\n",
    "\n",
    "# saving to file\n",
    "train.to_csv('../data/ATIS/raw/dev/dev.tsv',sep='\\t',index=False)"
   ]
  },
  {
   "cell_type": "code",
   "execution_count": 6,
   "id": "971c2f10",
   "metadata": {},
   "outputs": [],
   "source": [
    "# processing test set [ATIS]\n",
    "\n",
    "# reading individual files\n",
    "text = pd.read_csv('../data/ATIS/raw/test/text.tsv',sep='\\t',header=None,names=['TEXT'])\n",
    "labels = pd.read_csv('../data/ATIS/raw/test/label.tsv',sep='\\t',header=None,names=['INTENT'])\n",
    "\n",
    "# merging them together\n",
    "train = pd.concat([text,labels],axis=1)\n",
    "\n",
    "# adding id column\n",
    "train['ID'] = list(range(len(train)))\n",
    "\n",
    "# reordering columns\n",
    "train = train[[\"ID\",\"TEXT\",'INTENT']]\n",
    "\n",
    "# saving to file\n",
    "train.to_csv('../data/ATIS/raw/test/test.tsv',sep='\\t',index=False)"
   ]
  },
  {
   "cell_type": "code",
   "execution_count": 7,
   "id": "ce60a7cc",
   "metadata": {},
   "outputs": [],
   "source": [
    "train_replace_dict = {'atis_flight#atis_airfare': 'atis_flight', \n",
    "                                     'atis_ground_service#atis_ground_fare': 'atis_ground_service',\n",
    "                                     'atis_aircraft#atis_flight#atis_flight_no': 'atis_aircraft',\n",
    "                                     'atis_airfare#atis_flight_time':'atis_airfare',\n",
    "                                     'atis_airline#atis_flight_no':'atis_airline',\n",
    "                                     'atis_flight_no#atis_airline' : 'atis_flight_no',\n",
    "                                     'atis_airfare#atis_flight': 'atis_airfare',\n",
    "                                     'atis_flight#atis_airline' : 'atis_flight'}\n",
    "\n",
    "# intent to idx mapping\n",
    "intent_list = (pd.read_csv('../data/ATIS/intent_list.tsv',sep='\\t',header=None,names=['INTENT']).INTENT.values.tolist())\n",
    "intent2idx = { intent:idx for idx,intent in enumerate(intent_list)}"
   ]
  },
  {
   "cell_type": "code",
   "execution_count": 8,
   "id": "bc449709",
   "metadata": {},
   "outputs": [],
   "source": [
    "def mapping2idx(df):\n",
    "\n",
    "    # adding intent encoding\n",
    "    intentID = []\n",
    "    for intent in list(df.INTENT):\n",
    "        try:\n",
    "            intentID.append(intent2idx[intent])\n",
    "        except:\n",
    "            print(intent)\n",
    "            intentID.append(intent2idx['UNK'])\n",
    "            \n",
    "        \n",
    "    df['INTENT_ID'] = intentID \n",
    "    \n",
    "    return df"
   ]
  },
  {
   "cell_type": "code",
   "execution_count": 11,
   "id": "96250ab1",
   "metadata": {},
   "outputs": [],
   "source": [
    "def process_data(data_path, out_path, shuffle):\n",
    "   \n",
    "    # loading dataset\n",
    "\n",
    "    data = pd.read_csv(data_path,sep='\\t',header=0,names=['ID','TEXT','INTENT'])\n",
    "    \n",
    "    # lowerCasing the TEXT column\n",
    "    data['TEXT'] = data['TEXT'].str.lower()\n",
    "    \n",
    "    # re-mapping multi-label classes \n",
    "    data['INTENT'] = data['INTENT'].replace(train_replace_dict)\n",
    "    \n",
    "    data = mapping2idx(data)\n",
    "    \n",
    "    print('Length of data set... ',len(data))\n",
    "    \n",
    "    if shuffle:\n",
    "        data = data.sample(frac=1).reset_index(drop=True)\n",
    "        \n",
    "    data.to_csv(out_path,index=False,sep='\\t')\n",
    "    "
   ]
  },
  {
   "cell_type": "code",
   "execution_count": 12,
   "id": "9c5af785",
   "metadata": {},
   "outputs": [
    {
     "name": "stdout",
     "output_type": "stream",
     "text": [
      "Length of data set...  4478\n",
      "Length of data set...  500\n",
      "atis_day_name\n",
      "atis_day_name\n",
      "Length of data set...  893\n"
     ]
    }
   ],
   "source": [
    "process_data('../data/ATIS/raw/train/train.tsv','../data/ATIS/experiments/clean/train/train.tsv',True)\n",
    "process_data('../data/ATIS/raw/dev/dev.tsv','../data/ATIS/experiments/clean/dev/dev.tsv',False)\n",
    "process_data('../data/ATIS/raw/test/test.tsv','../data/ATIS/experiments/clean/test/test.tsv',False)"
   ]
  },
  {
   "cell_type": "markdown",
   "id": "1e32d169",
   "metadata": {},
   "source": [
    "# Processing SNIPS dataset"
   ]
  },
  {
   "cell_type": "code",
   "execution_count": 14,
   "id": "5df91e48",
   "metadata": {},
   "outputs": [],
   "source": [
    "# processing training set [SNIPS]\n",
    "\n",
    "# reading individual files\n",
    "text = pd.read_csv('../data/SNIPS/raw/train/text.tsv',sep='\\t',header=None,names=['TEXT'])\n",
    "labels = pd.read_csv('../data/SNIPS/raw/train/label.tsv',sep='\\t',header=None,names=['INTENT'])\n",
    "\n",
    "# merging them together\n",
    "train = pd.concat([text,labels],axis=1)\n",
    "\n",
    "# adding id column\n",
    "train['ID'] = list(range(len(train)))\n",
    "\n",
    "# reordering columns\n",
    "train = train[[\"ID\",\"TEXT\",'INTENT']]\n",
    "\n",
    "# saving to file\n",
    "train.to_csv('../data/SNIPS/raw/train/train.tsv',sep='\\t',index=False)"
   ]
  },
  {
   "cell_type": "code",
   "execution_count": 15,
   "id": "9549e72c",
   "metadata": {},
   "outputs": [],
   "source": [
    "# processing dev set [SNIPS]\n",
    "\n",
    "# reading individual files\n",
    "text = pd.read_csv('../data/SNIPS/raw/dev/text.tsv',sep='\\t',header=None,names=['TEXT'])\n",
    "labels = pd.read_csv('../data/SNIPS/raw/dev/label.tsv',sep='\\t',header=None,names=['INTENT'])\n",
    "\n",
    "# merging them together\n",
    "train = pd.concat([text,labels],axis=1)\n",
    "\n",
    "# adding id column\n",
    "train['ID'] = list(range(len(train)))\n",
    "\n",
    "# reordering columns\n",
    "train = train[[\"ID\",\"TEXT\",'INTENT']]\n",
    "\n",
    "# saving to file\n",
    "train.to_csv('../data/SNIPS/raw/dev/dev.tsv',sep='\\t',index=False)"
   ]
  },
  {
   "cell_type": "code",
   "execution_count": 17,
   "id": "0d3f9624",
   "metadata": {},
   "outputs": [],
   "source": [
    "# processing test set [SNIPS]\n",
    "\n",
    "# reading individual files\n",
    "text = pd.read_csv('../data/SNIPS/raw/test/text.tsv',sep='\\t',header=None,names=['TEXT'])\n",
    "labels = pd.read_csv('../data/SNIPS/raw/test/label.tsv',sep='\\t',header=None,names=['INTENT'])\n",
    "\n",
    "# merging them together\n",
    "train = pd.concat([text,labels],axis=1)\n",
    "\n",
    "# adding id column\n",
    "train['ID'] = list(range(len(train)))\n",
    "\n",
    "# reordering columns\n",
    "train = train[[\"ID\",\"TEXT\",'INTENT']]\n",
    "\n",
    "# saving to file\n",
    "train.to_csv('../data/SNIPS/raw/test/test.tsv',sep='\\t',index=False)"
   ]
  },
  {
   "cell_type": "code",
   "execution_count": 18,
   "id": "d36615f3",
   "metadata": {},
   "outputs": [],
   "source": [
    "intent_list = (pd.read_csv('../data/SNIPS/intent_list.tsv',sep='\\t',header=None,names=['INTENT']).INTENT.values.tolist())\n",
    "intent2idx = { intent:idx for idx,intent in enumerate(intent_list)}"
   ]
  },
  {
   "cell_type": "code",
   "execution_count": 19,
   "id": "3f0bf6a5",
   "metadata": {},
   "outputs": [],
   "source": [
    "def mapping2idx(df):\n",
    "\n",
    "    # adding intent encoding\n",
    "    intentID = []\n",
    "    for intent in list(df.INTENT):\n",
    "        try:\n",
    "            intentID.append(intent2idx[intent])\n",
    "        except:\n",
    "            print(intent)\n",
    "            intentID.append(intent2idx['UNK'])\n",
    "            \n",
    "        \n",
    "    df['INTENT_ID'] = intentID \n",
    "    \n",
    "    return df"
   ]
  },
  {
   "cell_type": "code",
   "execution_count": 20,
   "id": "e7a7d669",
   "metadata": {},
   "outputs": [],
   "source": [
    "def process_data(data_path, out_path, shuffle):\n",
    "   \n",
    "    # loading dataset\n",
    "\n",
    "    data = pd.read_csv(data_path,sep='\\t',header=0,names=['ID','TEXT','INTENT'])\n",
    "    \n",
    "    # lowerCasing the TEXT column\n",
    "    data['TEXT'] = data['TEXT'].str.lower()\n",
    "    \n",
    "    data = mapping2idx(data)\n",
    "    \n",
    "    print('Length of data set... ',len(data))\n",
    "    \n",
    "    if shuffle:\n",
    "        data = data.sample(frac=1).reset_index(drop=True)\n",
    "        \n",
    "    data.to_csv(out_path,index=False,sep='\\t')\n",
    "    "
   ]
  },
  {
   "cell_type": "code",
   "execution_count": 21,
   "id": "f42e69bc",
   "metadata": {},
   "outputs": [
    {
     "name": "stdout",
     "output_type": "stream",
     "text": [
      "Length of data set...  13084\n",
      "Length of data set...  700\n",
      "Length of data set...  700\n"
     ]
    }
   ],
   "source": [
    "process_data('../data/SNIPS/raw/train/train.tsv','../data/SNIPS/experiments/clean/train/train.tsv',True)\n",
    "process_data('../data/SNIPS/raw/dev/dev.tsv','../data/SNIPS/experiments/clean/dev/dev.tsv',False)\n",
    "process_data('../data/SNIPS/raw/test/test.tsv','../data/SNIPS/experiments/clean/test/test.tsv',False)"
   ]
  },
  {
   "cell_type": "markdown",
   "id": "8b8f8a63",
   "metadata": {},
   "source": [
    "# Processing SNIPS dataset"
   ]
  },
  {
   "cell_type": "code",
   "execution_count": 83,
   "id": "e50b25e2",
   "metadata": {},
   "outputs": [],
   "source": [
    "train = pd.read_csv('../data/TOD/raw/train/train-en.tsv',sep='\\t',header=None,names=['INTENT','SLOTS','TEXT','LANG','TOKENIZATION'])\n",
    "dev = pd.read_csv('../data/TOD/raw/dev/eval-en.tsv',sep='\\t',header=None,names=['INTENT','SLOTS','TEXT','LANG','TOKENIZATION'])\n",
    "test = pd.read_csv('../data/TOD/raw/test/test-en.tsv',sep='\\t',header=None,names=['INTENT','SLOTS','TEXT','LANG','TOKENIZATION'])"
   ]
  },
  {
   "cell_type": "code",
   "execution_count": 84,
   "id": "bf917465",
   "metadata": {},
   "outputs": [],
   "source": [
    "train = train[['TEXT','INTENT']]\n",
    "train['ID'] = list(range(len(train)))\n",
    "train = train[['ID','TEXT','INTENT']]\n",
    "train.to_csv('../data/TOD/raw/train/train.tsv',sep='\\t',index=False)"
   ]
  },
  {
   "cell_type": "code",
   "execution_count": 85,
   "id": "cac6f557",
   "metadata": {},
   "outputs": [],
   "source": [
    "dev = dev[['TEXT','INTENT']]\n",
    "dev['ID'] = list(range(len(dev)))\n",
    "dev = dev[['ID','TEXT','INTENT']]\n",
    "dev.to_csv('../data/TOD/raw/dev/eval.tsv',sep='\\t',index=False)"
   ]
  },
  {
   "cell_type": "code",
   "execution_count": 86,
   "id": "d235ca4e",
   "metadata": {},
   "outputs": [],
   "source": [
    "test = test[['TEXT','INTENT']]\n",
    "test['ID'] = list(range(len(test)))\n",
    "test = test[['ID','TEXT','INTENT']]\n",
    "test.to_csv('../data/TOD/raw/test/test.tsv',sep='\\t',index=False)"
   ]
  },
  {
   "cell_type": "code",
   "execution_count": 87,
   "id": "740c3594",
   "metadata": {},
   "outputs": [],
   "source": [
    "intent_list = (pd.read_csv('../data/TOD/intent_list.tsv',sep='\\t',header=None,names=['INTENT']).INTENT.values.tolist())\n",
    "intent2idx = { intent:idx for idx,intent in enumerate(intent_list)}"
   ]
  },
  {
   "cell_type": "code",
   "execution_count": 88,
   "id": "0c4e1687",
   "metadata": {},
   "outputs": [],
   "source": [
    "train_replace_dict = {'alarm/cancel_alarm': 'alarm_cancel_alarm', \n",
    "                                     'alarm/modify_alarm': 'alarm_modify_alarm',\n",
    "                                     'alarm/set_alarm': 'alarm_set_alarm',\n",
    "                                     'alarm/show_alarms':'alarm_show_alarms',\n",
    "                                     'alarm/snooze_alarm':'alarm_snooze_alarm',\n",
    "                                     'alarm/time_left_on_alarm' : 'alarm_time_left_on_alarm',\n",
    "                                     'reminder/cancel_reminder': 'reminder_cancel_reminder',\n",
    "                                     'reminder/set_reminder' : 'reminder_set_reminder',\n",
    "                                     'reminder/show_reminders' : 'reminder_show_reminders',\n",
    "                                     'weather/checkSunrise' : 'weather_checkSunrise',\n",
    "                                     'weather/checkSunset' : 'weather_checkSunset',\n",
    "                                     'weather/find' : 'weather_find'}"
   ]
  },
  {
   "cell_type": "code",
   "execution_count": 89,
   "id": "6d92e48f",
   "metadata": {},
   "outputs": [],
   "source": [
    "def mapping2idx(df):\n",
    "\n",
    "    # adding intent encoding\n",
    "    intentID = []\n",
    "    for intent in list(df.INTENT):\n",
    "        try:\n",
    "            intentID.append(intent2idx[intent])\n",
    "        except:\n",
    "            print(intent)\n",
    "            intentID.append(intent2idx['UNK'])\n",
    "            \n",
    "        \n",
    "    df['INTENT_ID'] = intentID \n",
    "    \n",
    "    return df"
   ]
  },
  {
   "cell_type": "code",
   "execution_count": 92,
   "id": "77ea1374",
   "metadata": {},
   "outputs": [],
   "source": [
    "def process_data(data_path, out_path, shuffle):\n",
    "   \n",
    "    # loading dataset\n",
    "\n",
    "    data = pd.read_csv(data_path,sep='\\t',header=0,names=['ID','TEXT','INTENT'])\n",
    "    \n",
    "    # lowerCasing the TEXT column\n",
    "    data['TEXT'] = data['TEXT'].str.lower()\n",
    "    \n",
    "    data['INTENT'] = data['INTENT'].replace(train_replace_dict)\n",
    "    \n",
    "    data = mapping2idx(data)\n",
    "    \n",
    "    print('Length of data set... ',len(data))\n",
    "    \n",
    "    if shuffle:\n",
    "        data = data.sample(frac=1).reset_index(drop=True)\n",
    "        \n",
    "    data.to_csv(out_path,index=False,sep='\\t')\n",
    "    "
   ]
  },
  {
   "cell_type": "code",
   "execution_count": 93,
   "id": "a2310d35",
   "metadata": {},
   "outputs": [
    {
     "name": "stdout",
     "output_type": "stream",
     "text": [
      "Length of data set...  30521\n",
      "Length of data set...  4181\n",
      "Length of data set...  8621\n"
     ]
    }
   ],
   "source": [
    "process_data('../data/TOD/raw/train/train.tsv','../data/TOD/experiments/clean/train/train.tsv',True)\n",
    "process_data('../data/TOD/raw/dev/eval.tsv','../data/TOD/experiments/clean/dev/dev.tsv',False)\n",
    "process_data('../data/TOD/raw/test/test.tsv','../data/TOD/experiments/clean/test/test.tsv',False)"
   ]
  },
  {
   "cell_type": "code",
   "execution_count": null,
   "id": "8ad4836e",
   "metadata": {},
   "outputs": [],
   "source": []
  }
 ],
 "metadata": {
  "kernelspec": {
   "display_name": "Python 3",
   "language": "python",
   "name": "python3"
  },
  "language_info": {
   "codemirror_mode": {
    "name": "ipython",
    "version": 3
   },
   "file_extension": ".py",
   "mimetype": "text/x-python",
   "name": "python",
   "nbconvert_exporter": "python",
   "pygments_lexer": "ipython3",
   "version": "3.8.8"
  }
 },
 "nbformat": 4,
 "nbformat_minor": 5
}
