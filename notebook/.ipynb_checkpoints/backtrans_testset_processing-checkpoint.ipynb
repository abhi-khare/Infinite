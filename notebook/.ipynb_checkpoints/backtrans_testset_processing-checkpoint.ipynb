{
 "cells": [
  {
   "cell_type": "code",
   "execution_count": 2,
   "id": "3fd0affa",
   "metadata": {},
   "outputs": [],
   "source": [
    "import pandas as pd\n",
    "from sklearn.model_selection import train_test_split"
   ]
  },
  {
   "cell_type": "code",
   "execution_count": null,
   "id": "3f3a88b2",
   "metadata": {},
   "outputs": [],
   "source": [
    "test_orig = pd.read_csv('../data/TOD/experiments/clean/test/test.tsv',sep='\\t')\n",
    "test_orig.head()"
   ]
  },
  {
   "cell_type": "code",
   "execution_count": null,
   "id": "5c313f76",
   "metadata": {},
   "outputs": [],
   "source": [
    "test_aug = pd.read_csv('../data/TOD/experiments/back_trans/raw/test_fbwmt19_de_N3_F64_B64.tsv',sep='\\t',header=None,names=['ID','ORIG','AUG'])\n",
    "test_aug.head()"
   ]
  },
  {
   "cell_type": "code",
   "execution_count": null,
   "id": "8ba29818",
   "metadata": {},
   "outputs": [],
   "source": [
    "joined_frame = pd.merge(test_orig, test_aug, how='inner')\n",
    "joined_frame.head()"
   ]
  },
  {
   "cell_type": "code",
   "execution_count": null,
   "id": "3517095e",
   "metadata": {},
   "outputs": [],
   "source": [
    "joined_frame = joined_frame[['ID','AUG','INTENT','INTENT_ID']]\n",
    "joined_frame.head()"
   ]
  },
  {
   "cell_type": "code",
   "execution_count": null,
   "id": "73943c06",
   "metadata": {},
   "outputs": [],
   "source": [
    "joined_frame = joined_frame.rename(columns={'AUG':'TEXT'},inplace=False)\n",
    "joined_frame.head()"
   ]
  },
  {
   "cell_type": "code",
   "execution_count": null,
   "id": "255c56e8",
   "metadata": {},
   "outputs": [],
   "source": [
    "joined_frame.to_csv('../data/TOD/experiments/back_trans/de/test_fbwmt19_de_N3_F64_B64.tsv',index=False,sep='\\t')"
   ]
  },
  {
   "cell_type": "markdown",
   "id": "5d735bd6",
   "metadata": {},
   "source": [
    "# Training set processing"
   ]
  },
  {
   "cell_type": "code",
   "execution_count": 83,
   "id": "a8943881",
   "metadata": {},
   "outputs": [
    {
     "data": {
      "text/html": [
       "<div>\n",
       "<style scoped>\n",
       "    .dataframe tbody tr th:only-of-type {\n",
       "        vertical-align: middle;\n",
       "    }\n",
       "\n",
       "    .dataframe tbody tr th {\n",
       "        vertical-align: top;\n",
       "    }\n",
       "\n",
       "    .dataframe thead th {\n",
       "        text-align: right;\n",
       "    }\n",
       "</style>\n",
       "<table border=\"1\" class=\"dataframe\">\n",
       "  <thead>\n",
       "    <tr style=\"text-align: right;\">\n",
       "      <th></th>\n",
       "      <th>ID</th>\n",
       "      <th>TEXT</th>\n",
       "      <th>INTENT</th>\n",
       "      <th>INTENT_ID</th>\n",
       "    </tr>\n",
       "  </thead>\n",
       "  <tbody>\n",
       "    <tr>\n",
       "      <th>0</th>\n",
       "      <td>3997</td>\n",
       "      <td>what ground transportation is available in denver</td>\n",
       "      <td>atis_ground_service</td>\n",
       "      <td>13</td>\n",
       "    </tr>\n",
       "    <tr>\n",
       "      <th>1</th>\n",
       "      <td>3026</td>\n",
       "      <td>show me fares from dallas to baltimore that co...</td>\n",
       "      <td>atis_airfare</td>\n",
       "      <td>2</td>\n",
       "    </tr>\n",
       "    <tr>\n",
       "      <th>2</th>\n",
       "      <td>1910</td>\n",
       "      <td>flights on american from phoenix to chicago on...</td>\n",
       "      <td>atis_flight</td>\n",
       "      <td>9</td>\n",
       "    </tr>\n",
       "    <tr>\n",
       "      <th>3</th>\n",
       "      <td>584</td>\n",
       "      <td>i want to arrive in detroit around 6 pm and i'...</td>\n",
       "      <td>atis_flight</td>\n",
       "      <td>9</td>\n",
       "    </tr>\n",
       "    <tr>\n",
       "      <th>4</th>\n",
       "      <td>4254</td>\n",
       "      <td>please list the flights from charlotte to long...</td>\n",
       "      <td>atis_flight</td>\n",
       "      <td>9</td>\n",
       "    </tr>\n",
       "  </tbody>\n",
       "</table>\n",
       "</div>"
      ],
      "text/plain": [
       "     ID                                               TEXT  \\\n",
       "0  3997  what ground transportation is available in denver   \n",
       "1  3026  show me fares from dallas to baltimore that co...   \n",
       "2  1910  flights on american from phoenix to chicago on...   \n",
       "3   584  i want to arrive in detroit around 6 pm and i'...   \n",
       "4  4254  please list the flights from charlotte to long...   \n",
       "\n",
       "                INTENT  INTENT_ID  \n",
       "0  atis_ground_service         13  \n",
       "1         atis_airfare          2  \n",
       "2          atis_flight          9  \n",
       "3          atis_flight          9  \n",
       "4          atis_flight          9  "
      ]
     },
     "execution_count": 83,
     "metadata": {},
     "output_type": "execute_result"
    }
   ],
   "source": [
    "orig_train = pd.read_csv('../data/ATIS/experiments/clean/train/train.tsv',sep='\\t')\n",
    "orig_train.head()"
   ]
  },
  {
   "cell_type": "code",
   "execution_count": 84,
   "id": "421708f3",
   "metadata": {},
   "outputs": [
    {
     "data": {
      "text/html": [
       "<div>\n",
       "<style scoped>\n",
       "    .dataframe tbody tr th:only-of-type {\n",
       "        vertical-align: middle;\n",
       "    }\n",
       "\n",
       "    .dataframe tbody tr th {\n",
       "        vertical-align: top;\n",
       "    }\n",
       "\n",
       "    .dataframe thead th {\n",
       "        text-align: right;\n",
       "    }\n",
       "</style>\n",
       "<table border=\"1\" class=\"dataframe\">\n",
       "  <thead>\n",
       "    <tr style=\"text-align: right;\">\n",
       "      <th></th>\n",
       "      <th>ID</th>\n",
       "      <th>TEXT</th>\n",
       "      <th>INTENT</th>\n",
       "      <th>INTENT_ID</th>\n",
       "    </tr>\n",
       "  </thead>\n",
       "  <tbody>\n",
       "    <tr>\n",
       "      <th>0</th>\n",
       "      <td>0</td>\n",
       "      <td>what ground transportation is available in denver</td>\n",
       "      <td>atis_ground_service</td>\n",
       "      <td>13</td>\n",
       "    </tr>\n",
       "    <tr>\n",
       "      <th>1</th>\n",
       "      <td>1</td>\n",
       "      <td>show me fares from dallas to baltimore that co...</td>\n",
       "      <td>atis_airfare</td>\n",
       "      <td>2</td>\n",
       "    </tr>\n",
       "    <tr>\n",
       "      <th>2</th>\n",
       "      <td>2</td>\n",
       "      <td>flights on american from phoenix to chicago on...</td>\n",
       "      <td>atis_flight</td>\n",
       "      <td>9</td>\n",
       "    </tr>\n",
       "    <tr>\n",
       "      <th>3</th>\n",
       "      <td>3</td>\n",
       "      <td>i want to arrive in detroit around 6 pm and i'...</td>\n",
       "      <td>atis_flight</td>\n",
       "      <td>9</td>\n",
       "    </tr>\n",
       "    <tr>\n",
       "      <th>4</th>\n",
       "      <td>4</td>\n",
       "      <td>please list the flights from charlotte to long...</td>\n",
       "      <td>atis_flight</td>\n",
       "      <td>9</td>\n",
       "    </tr>\n",
       "  </tbody>\n",
       "</table>\n",
       "</div>"
      ],
      "text/plain": [
       "   ID                                               TEXT               INTENT  \\\n",
       "0   0  what ground transportation is available in denver  atis_ground_service   \n",
       "1   1  show me fares from dallas to baltimore that co...         atis_airfare   \n",
       "2   2  flights on american from phoenix to chicago on...          atis_flight   \n",
       "3   3  i want to arrive in detroit around 6 pm and i'...          atis_flight   \n",
       "4   4  please list the flights from charlotte to long...          atis_flight   \n",
       "\n",
       "   INTENT_ID  \n",
       "0         13  \n",
       "1          2  \n",
       "2          9  \n",
       "3          9  \n",
       "4          9  "
      ]
     },
     "execution_count": 84,
     "metadata": {},
     "output_type": "execute_result"
    }
   ],
   "source": [
    "orig_train['ID'] = list(range(len(orig_train)))\n",
    "orig_train.head()"
   ]
  },
  {
   "cell_type": "code",
   "execution_count": 85,
   "id": "d2bf5901",
   "metadata": {},
   "outputs": [],
   "source": [
    "# de train\n",
    "aug_train_de_1 = pd.read_csv('../data/ATIS/experiments/AT/back_trans/train/de/train_fbwmt19_de_N3_F16_B16.tsv',header=None,names=['ID','TEXT','AUG_TEXT'],sep='\\t')\n",
    "aug_train_de_2 = pd.read_csv('../data/ATIS/experiments/AT/back_trans/train/de/train_fbwmt19_de_N3_F1_B1.tsv', header=None,names=['ID','TEXT','AUG_TEXT'], sep='\\t')\n",
    "aug_train_de_3 = pd.read_csv('../data/ATIS/experiments/AT/back_trans/train/de/train_fbwmt19_de_N3_F4_B4.tsv', header=None,names=['ID','TEXT','AUG_TEXT'], sep='\\t')\n",
    "aug_train_de_4 = pd.read_csv('../data/ATIS/experiments/AT/back_trans/train/de/train_fbwmt19_de_N3_F64_B64.tsv', header=None,names=['ID','TEXT','AUG_TEXT'], sep='\\t')\n",
    "\n",
    "# ru train\n",
    "\n",
    "aug_train_ru_1 = pd.read_csv('../data/ATIS/experiments/AT/back_trans/train/ru/train_fbwmt19_ru_N3_F16_B16.tsv', header=None,names=['ID','TEXT','AUG_TEXT'], sep='\\t')\n",
    "aug_train_ru_2 = pd.read_csv('../data/ATIS/experiments/AT/back_trans/train/ru/train_fbwmt19_ru_N3_F1_B1.tsv', header=None,names=['ID','TEXT','AUG_TEXT'], sep='\\t')\n",
    "aug_train_ru_3 = pd.read_csv('../data/ATIS/experiments/AT/back_trans/train/ru/train_fbwmt19_ru_N3_F4_B4.tsv', header=None,names=['ID','TEXT','AUG_TEXT'], sep='\\t')\n",
    "aug_train_ru_4 = pd.read_csv('../data/ATIS/experiments/AT/back_trans/train/ru/train_fbwmt19_ru_N3_F64_B64.tsv', header=None,names=['ID','TEXT','AUG_TEXT'], sep='\\t')"
   ]
  },
  {
   "cell_type": "code",
   "execution_count": 86,
   "id": "b1345371",
   "metadata": {},
   "outputs": [
    {
     "data": {
      "text/html": [
       "<div>\n",
       "<style scoped>\n",
       "    .dataframe tbody tr th:only-of-type {\n",
       "        vertical-align: middle;\n",
       "    }\n",
       "\n",
       "    .dataframe tbody tr th {\n",
       "        vertical-align: top;\n",
       "    }\n",
       "\n",
       "    .dataframe thead th {\n",
       "        text-align: right;\n",
       "    }\n",
       "</style>\n",
       "<table border=\"1\" class=\"dataframe\">\n",
       "  <thead>\n",
       "    <tr style=\"text-align: right;\">\n",
       "      <th></th>\n",
       "      <th>ID</th>\n",
       "      <th>TEXT</th>\n",
       "      <th>AUG_TEXT</th>\n",
       "    </tr>\n",
       "  </thead>\n",
       "  <tbody>\n",
       "    <tr>\n",
       "      <th>0</th>\n",
       "      <td>0</td>\n",
       "      <td>what ground transportation is available in denver</td>\n",
       "      <td>What ground transportation options are there i...</td>\n",
       "    </tr>\n",
       "    <tr>\n",
       "      <th>1</th>\n",
       "      <td>0</td>\n",
       "      <td>what ground transportation is available in denver</td>\n",
       "      <td>What are the ground transportation options in ...</td>\n",
       "    </tr>\n",
       "    <tr>\n",
       "      <th>2</th>\n",
       "      <td>0</td>\n",
       "      <td>what ground transportation is available in denver</td>\n",
       "      <td>What ground transportation options are availab...</td>\n",
       "    </tr>\n",
       "    <tr>\n",
       "      <th>3</th>\n",
       "      <td>0</td>\n",
       "      <td>what ground transportation is available in denver</td>\n",
       "      <td>What ground transportation options exist in De...</td>\n",
       "    </tr>\n",
       "    <tr>\n",
       "      <th>4</th>\n",
       "      <td>0</td>\n",
       "      <td>what ground transportation is available in denver</td>\n",
       "      <td>What means of ground transportation are availa...</td>\n",
       "    </tr>\n",
       "  </tbody>\n",
       "</table>\n",
       "</div>"
      ],
      "text/plain": [
       "   ID                                               TEXT  \\\n",
       "0   0  what ground transportation is available in denver   \n",
       "1   0  what ground transportation is available in denver   \n",
       "2   0  what ground transportation is available in denver   \n",
       "3   0  what ground transportation is available in denver   \n",
       "4   0  what ground transportation is available in denver   \n",
       "\n",
       "                                            AUG_TEXT  \n",
       "0  What ground transportation options are there i...  \n",
       "1  What are the ground transportation options in ...  \n",
       "2  What ground transportation options are availab...  \n",
       "3  What ground transportation options exist in De...  \n",
       "4  What means of ground transportation are availa...  "
      ]
     },
     "execution_count": 86,
     "metadata": {},
     "output_type": "execute_result"
    }
   ],
   "source": [
    "aug_train_de_1.head()"
   ]
  },
  {
   "cell_type": "code",
   "execution_count": 87,
   "id": "f4d66d36",
   "metadata": {},
   "outputs": [],
   "source": [
    "aug_train = pd.concat([aug_train_de_1,aug_train_de_2,aug_train_de_3,aug_train_de_4,\n",
    "                       aug_train_ru_1,aug_train_ru_2,aug_train_ru_3,aug_train_ru_4])"
   ]
  },
  {
   "cell_type": "code",
   "execution_count": 88,
   "id": "6ca0dc38",
   "metadata": {},
   "outputs": [
    {
     "data": {
      "text/html": [
       "<div>\n",
       "<style scoped>\n",
       "    .dataframe tbody tr th:only-of-type {\n",
       "        vertical-align: middle;\n",
       "    }\n",
       "\n",
       "    .dataframe tbody tr th {\n",
       "        vertical-align: top;\n",
       "    }\n",
       "\n",
       "    .dataframe thead th {\n",
       "        text-align: right;\n",
       "    }\n",
       "</style>\n",
       "<table border=\"1\" class=\"dataframe\">\n",
       "  <thead>\n",
       "    <tr style=\"text-align: right;\">\n",
       "      <th></th>\n",
       "      <th>ID</th>\n",
       "      <th>TEXT_x</th>\n",
       "      <th>AUG_TEXT</th>\n",
       "      <th>TEXT_y</th>\n",
       "      <th>INTENT</th>\n",
       "      <th>INTENT_ID</th>\n",
       "    </tr>\n",
       "  </thead>\n",
       "  <tbody>\n",
       "    <tr>\n",
       "      <th>0</th>\n",
       "      <td>0</td>\n",
       "      <td>what ground transportation is available in denver</td>\n",
       "      <td>What ground transportation options are there i...</td>\n",
       "      <td>what ground transportation is available in denver</td>\n",
       "      <td>atis_ground_service</td>\n",
       "      <td>13</td>\n",
       "    </tr>\n",
       "    <tr>\n",
       "      <th>1</th>\n",
       "      <td>0</td>\n",
       "      <td>what ground transportation is available in denver</td>\n",
       "      <td>What are the ground transportation options in ...</td>\n",
       "      <td>what ground transportation is available in denver</td>\n",
       "      <td>atis_ground_service</td>\n",
       "      <td>13</td>\n",
       "    </tr>\n",
       "    <tr>\n",
       "      <th>2</th>\n",
       "      <td>0</td>\n",
       "      <td>what ground transportation is available in denver</td>\n",
       "      <td>What ground transportation options are availab...</td>\n",
       "      <td>what ground transportation is available in denver</td>\n",
       "      <td>atis_ground_service</td>\n",
       "      <td>13</td>\n",
       "    </tr>\n",
       "    <tr>\n",
       "      <th>3</th>\n",
       "      <td>0</td>\n",
       "      <td>what ground transportation is available in denver</td>\n",
       "      <td>What ground transportation options exist in De...</td>\n",
       "      <td>what ground transportation is available in denver</td>\n",
       "      <td>atis_ground_service</td>\n",
       "      <td>13</td>\n",
       "    </tr>\n",
       "    <tr>\n",
       "      <th>4</th>\n",
       "      <td>0</td>\n",
       "      <td>what ground transportation is available in denver</td>\n",
       "      <td>What means of ground transportation are availa...</td>\n",
       "      <td>what ground transportation is available in denver</td>\n",
       "      <td>atis_ground_service</td>\n",
       "      <td>13</td>\n",
       "    </tr>\n",
       "  </tbody>\n",
       "</table>\n",
       "</div>"
      ],
      "text/plain": [
       "   ID                                             TEXT_x  \\\n",
       "0   0  what ground transportation is available in denver   \n",
       "1   0  what ground transportation is available in denver   \n",
       "2   0  what ground transportation is available in denver   \n",
       "3   0  what ground transportation is available in denver   \n",
       "4   0  what ground transportation is available in denver   \n",
       "\n",
       "                                            AUG_TEXT  \\\n",
       "0  What ground transportation options are there i...   \n",
       "1  What are the ground transportation options in ...   \n",
       "2  What ground transportation options are availab...   \n",
       "3  What ground transportation options exist in De...   \n",
       "4  What means of ground transportation are availa...   \n",
       "\n",
       "                                              TEXT_y               INTENT  \\\n",
       "0  what ground transportation is available in denver  atis_ground_service   \n",
       "1  what ground transportation is available in denver  atis_ground_service   \n",
       "2  what ground transportation is available in denver  atis_ground_service   \n",
       "3  what ground transportation is available in denver  atis_ground_service   \n",
       "4  what ground transportation is available in denver  atis_ground_service   \n",
       "\n",
       "   INTENT_ID  \n",
       "0         13  \n",
       "1         13  \n",
       "2         13  \n",
       "3         13  \n",
       "4         13  "
      ]
     },
     "execution_count": 88,
     "metadata": {},
     "output_type": "execute_result"
    }
   ],
   "source": [
    "merged_data = pd.merge(aug_train,orig_train,on='ID')\n",
    "merged_data.head()"
   ]
  },
  {
   "cell_type": "code",
   "execution_count": 89,
   "id": "a7e89c8c",
   "metadata": {},
   "outputs": [],
   "source": [
    "merged_data = merged_data[['ID','AUG_TEXT','INTENT','INTENT_ID']]"
   ]
  },
  {
   "cell_type": "code",
   "execution_count": 90,
   "id": "cbc854c0",
   "metadata": {},
   "outputs": [],
   "source": [
    "merged_data = merged_data.rename(columns={'AUG_TEXT':'TEXT'},inplace=False)"
   ]
  },
  {
   "cell_type": "code",
   "execution_count": 91,
   "id": "26bff029",
   "metadata": {},
   "outputs": [
    {
     "data": {
      "text/html": [
       "<div>\n",
       "<style scoped>\n",
       "    .dataframe tbody tr th:only-of-type {\n",
       "        vertical-align: middle;\n",
       "    }\n",
       "\n",
       "    .dataframe tbody tr th {\n",
       "        vertical-align: top;\n",
       "    }\n",
       "\n",
       "    .dataframe thead th {\n",
       "        text-align: right;\n",
       "    }\n",
       "</style>\n",
       "<table border=\"1\" class=\"dataframe\">\n",
       "  <thead>\n",
       "    <tr style=\"text-align: right;\">\n",
       "      <th></th>\n",
       "      <th>ID</th>\n",
       "      <th>TEXT</th>\n",
       "      <th>INTENT</th>\n",
       "      <th>INTENT_ID</th>\n",
       "    </tr>\n",
       "  </thead>\n",
       "  <tbody>\n",
       "    <tr>\n",
       "      <th>0</th>\n",
       "      <td>0</td>\n",
       "      <td>What ground transportation options are there i...</td>\n",
       "      <td>atis_ground_service</td>\n",
       "      <td>13</td>\n",
       "    </tr>\n",
       "    <tr>\n",
       "      <th>1</th>\n",
       "      <td>0</td>\n",
       "      <td>What are the ground transportation options in ...</td>\n",
       "      <td>atis_ground_service</td>\n",
       "      <td>13</td>\n",
       "    </tr>\n",
       "    <tr>\n",
       "      <th>2</th>\n",
       "      <td>0</td>\n",
       "      <td>What ground transportation options are availab...</td>\n",
       "      <td>atis_ground_service</td>\n",
       "      <td>13</td>\n",
       "    </tr>\n",
       "    <tr>\n",
       "      <th>3</th>\n",
       "      <td>0</td>\n",
       "      <td>What ground transportation options exist in De...</td>\n",
       "      <td>atis_ground_service</td>\n",
       "      <td>13</td>\n",
       "    </tr>\n",
       "    <tr>\n",
       "      <th>4</th>\n",
       "      <td>0</td>\n",
       "      <td>What means of ground transportation are availa...</td>\n",
       "      <td>atis_ground_service</td>\n",
       "      <td>13</td>\n",
       "    </tr>\n",
       "  </tbody>\n",
       "</table>\n",
       "</div>"
      ],
      "text/plain": [
       "   ID                                               TEXT               INTENT  \\\n",
       "0   0  What ground transportation options are there i...  atis_ground_service   \n",
       "1   0  What are the ground transportation options in ...  atis_ground_service   \n",
       "2   0  What ground transportation options are availab...  atis_ground_service   \n",
       "3   0  What ground transportation options exist in De...  atis_ground_service   \n",
       "4   0  What means of ground transportation are availa...  atis_ground_service   \n",
       "\n",
       "   INTENT_ID  \n",
       "0         13  \n",
       "1         13  \n",
       "2         13  \n",
       "3         13  \n",
       "4         13  "
      ]
     },
     "execution_count": 91,
     "metadata": {},
     "output_type": "execute_result"
    }
   ],
   "source": [
    "merged_data.head()"
   ]
  },
  {
   "cell_type": "code",
   "execution_count": 92,
   "id": "6b1bf0d7",
   "metadata": {},
   "outputs": [
    {
     "data": {
      "text/plain": [
       "232496"
      ]
     },
     "execution_count": 92,
     "metadata": {},
     "output_type": "execute_result"
    }
   ],
   "source": [
    "len(merged_data)"
   ]
  },
  {
   "cell_type": "code",
   "execution_count": 93,
   "id": "03485e69",
   "metadata": {},
   "outputs": [],
   "source": [
    "merged_data.to_csv('../data/ATIS/experiments/AT/back_trans/train.tsv',index=False,sep='\\t')"
   ]
  },
  {
   "cell_type": "markdown",
   "id": "538da37b",
   "metadata": {},
   "source": [
    "# validation set processing"
   ]
  },
  {
   "cell_type": "code",
   "execution_count": 94,
   "id": "935295b0",
   "metadata": {},
   "outputs": [
    {
     "data": {
      "text/html": [
       "<div>\n",
       "<style scoped>\n",
       "    .dataframe tbody tr th:only-of-type {\n",
       "        vertical-align: middle;\n",
       "    }\n",
       "\n",
       "    .dataframe tbody tr th {\n",
       "        vertical-align: top;\n",
       "    }\n",
       "\n",
       "    .dataframe thead th {\n",
       "        text-align: right;\n",
       "    }\n",
       "</style>\n",
       "<table border=\"1\" class=\"dataframe\">\n",
       "  <thead>\n",
       "    <tr style=\"text-align: right;\">\n",
       "      <th></th>\n",
       "      <th>ID</th>\n",
       "      <th>TEXT</th>\n",
       "      <th>INTENT</th>\n",
       "      <th>INTENT_ID</th>\n",
       "    </tr>\n",
       "  </thead>\n",
       "  <tbody>\n",
       "    <tr>\n",
       "      <th>0</th>\n",
       "      <td>0</td>\n",
       "      <td>i want to fly from boston at 838 am and arrive...</td>\n",
       "      <td>atis_flight</td>\n",
       "      <td>9</td>\n",
       "    </tr>\n",
       "    <tr>\n",
       "      <th>1</th>\n",
       "      <td>1</td>\n",
       "      <td>show me all round trip flights between houston...</td>\n",
       "      <td>atis_flight</td>\n",
       "      <td>9</td>\n",
       "    </tr>\n",
       "    <tr>\n",
       "      <th>2</th>\n",
       "      <td>2</td>\n",
       "      <td>i would like some information on a flight from...</td>\n",
       "      <td>atis_flight</td>\n",
       "      <td>9</td>\n",
       "    </tr>\n",
       "    <tr>\n",
       "      <th>3</th>\n",
       "      <td>3</td>\n",
       "      <td>what are the coach flights between dallas and ...</td>\n",
       "      <td>atis_flight</td>\n",
       "      <td>9</td>\n",
       "    </tr>\n",
       "    <tr>\n",
       "      <th>4</th>\n",
       "      <td>4</td>\n",
       "      <td>i'm flying from boston to the bay area</td>\n",
       "      <td>atis_flight</td>\n",
       "      <td>9</td>\n",
       "    </tr>\n",
       "  </tbody>\n",
       "</table>\n",
       "</div>"
      ],
      "text/plain": [
       "   ID                                               TEXT       INTENT  \\\n",
       "0   0  i want to fly from boston at 838 am and arrive...  atis_flight   \n",
       "1   1  show me all round trip flights between houston...  atis_flight   \n",
       "2   2  i would like some information on a flight from...  atis_flight   \n",
       "3   3  what are the coach flights between dallas and ...  atis_flight   \n",
       "4   4             i'm flying from boston to the bay area  atis_flight   \n",
       "\n",
       "   INTENT_ID  \n",
       "0          9  \n",
       "1          9  \n",
       "2          9  \n",
       "3          9  \n",
       "4          9  "
      ]
     },
     "execution_count": 94,
     "metadata": {},
     "output_type": "execute_result"
    }
   ],
   "source": [
    "orig_val = pd.read_csv('../data/ATIS/experiments/clean/dev/dev.tsv',sep='\\t')\n",
    "orig_val.head()"
   ]
  },
  {
   "cell_type": "code",
   "execution_count": 95,
   "id": "3d2b9e2f",
   "metadata": {},
   "outputs": [
    {
     "data": {
      "text/html": [
       "<div>\n",
       "<style scoped>\n",
       "    .dataframe tbody tr th:only-of-type {\n",
       "        vertical-align: middle;\n",
       "    }\n",
       "\n",
       "    .dataframe tbody tr th {\n",
       "        vertical-align: top;\n",
       "    }\n",
       "\n",
       "    .dataframe thead th {\n",
       "        text-align: right;\n",
       "    }\n",
       "</style>\n",
       "<table border=\"1\" class=\"dataframe\">\n",
       "  <thead>\n",
       "    <tr style=\"text-align: right;\">\n",
       "      <th></th>\n",
       "      <th>ID</th>\n",
       "      <th>TEXT</th>\n",
       "      <th>INTENT</th>\n",
       "      <th>INTENT_ID</th>\n",
       "    </tr>\n",
       "  </thead>\n",
       "  <tbody>\n",
       "    <tr>\n",
       "      <th>0</th>\n",
       "      <td>0</td>\n",
       "      <td>i want to fly from boston at 838 am and arrive...</td>\n",
       "      <td>atis_flight</td>\n",
       "      <td>9</td>\n",
       "    </tr>\n",
       "    <tr>\n",
       "      <th>1</th>\n",
       "      <td>1</td>\n",
       "      <td>show me all round trip flights between houston...</td>\n",
       "      <td>atis_flight</td>\n",
       "      <td>9</td>\n",
       "    </tr>\n",
       "    <tr>\n",
       "      <th>2</th>\n",
       "      <td>2</td>\n",
       "      <td>i would like some information on a flight from...</td>\n",
       "      <td>atis_flight</td>\n",
       "      <td>9</td>\n",
       "    </tr>\n",
       "    <tr>\n",
       "      <th>3</th>\n",
       "      <td>3</td>\n",
       "      <td>what are the coach flights between dallas and ...</td>\n",
       "      <td>atis_flight</td>\n",
       "      <td>9</td>\n",
       "    </tr>\n",
       "    <tr>\n",
       "      <th>4</th>\n",
       "      <td>4</td>\n",
       "      <td>i'm flying from boston to the bay area</td>\n",
       "      <td>atis_flight</td>\n",
       "      <td>9</td>\n",
       "    </tr>\n",
       "  </tbody>\n",
       "</table>\n",
       "</div>"
      ],
      "text/plain": [
       "   ID                                               TEXT       INTENT  \\\n",
       "0   0  i want to fly from boston at 838 am and arrive...  atis_flight   \n",
       "1   1  show me all round trip flights between houston...  atis_flight   \n",
       "2   2  i would like some information on a flight from...  atis_flight   \n",
       "3   3  what are the coach flights between dallas and ...  atis_flight   \n",
       "4   4             i'm flying from boston to the bay area  atis_flight   \n",
       "\n",
       "   INTENT_ID  \n",
       "0          9  \n",
       "1          9  \n",
       "2          9  \n",
       "3          9  \n",
       "4          9  "
      ]
     },
     "execution_count": 95,
     "metadata": {},
     "output_type": "execute_result"
    }
   ],
   "source": [
    "orig_val['ID'] = list(range(len(orig_val)))\n",
    "orig_val.head()"
   ]
  },
  {
   "cell_type": "code",
   "execution_count": 96,
   "id": "a1eef9d4",
   "metadata": {},
   "outputs": [],
   "source": [
    "# de val\n",
    "aug_val_de_1 = pd.read_csv('../data/ATIS/experiments/AT/back_trans/dev/de/dev_fbwmt19_de_N3_F16_B16.tsv',header=None,names=['ID','TEXT','AUG_TEXT'],sep='\\t')\n",
    "aug_val_de_2 = pd.read_csv('../data/ATIS/experiments/AT/back_trans/dev/de/dev_fbwmt19_de_N3_F1_B1.tsv', header=None,names=['ID','TEXT','AUG_TEXT'], sep='\\t')\n",
    "aug_val_de_3 = pd.read_csv('../data/ATIS/experiments/AT/back_trans/dev/de/dev_fbwmt19_de_N3_F4_B4.tsv', header=None,names=['ID','TEXT','AUG_TEXT'], sep='\\t')\n",
    "aug_val_de_4 = pd.read_csv('../data/ATIS/experiments/AT/back_trans/dev/de/dev_fbwmt19_de_N3_F64_B64.tsv', header=None,names=['ID','TEXT','AUG_TEXT'], sep='\\t')\n",
    "\n",
    "# ru val\n",
    "\n",
    "aug_val_ru_1 = pd.read_csv('../data/ATIS/experiments/AT/back_trans/dev/ru/dev_fbwmt19_ru_N3_F16_B16.tsv', header=None,names=['ID','TEXT','AUG_TEXT'], sep='\\t')\n",
    "aug_val_ru_2 = pd.read_csv('../data/ATIS/experiments/AT/back_trans/dev/ru/dev_fbwmt19_ru_N3_F1_B1.tsv', header=None,names=['ID','TEXT','AUG_TEXT'], sep='\\t')\n",
    "aug_val_ru_3 = pd.read_csv('../data/ATIS/experiments/AT/back_trans/dev/ru/dev_fbwmt19_ru_N3_F4_B4.tsv', header=None,names=['ID','TEXT','AUG_TEXT'], sep='\\t')\n",
    "aug_val_ru_4 = pd.read_csv('../data/ATIS/experiments/AT/back_trans/dev/ru/dev_fbwmt19_ru_N3_F64_B64.tsv', header=None,names=['ID','TEXT','AUG_TEXT'], sep='\\t')"
   ]
  },
  {
   "cell_type": "code",
   "execution_count": 97,
   "id": "a019f0a3",
   "metadata": {},
   "outputs": [],
   "source": [
    "aug_val = pd.concat([aug_val_de_1,aug_val_de_2,aug_val_de_3,aug_val_de_4,\n",
    "                       aug_val_ru_1,aug_val_ru_2,aug_val_ru_3,aug_val_ru_4])\n",
    "\n",
    "merged_data = pd.merge(orig_val, aug_val, how='inner')"
   ]
  },
  {
   "cell_type": "code",
   "execution_count": 98,
   "id": "4a375962",
   "metadata": {},
   "outputs": [],
   "source": [
    "merged_data = merged_data[['ID','AUG_TEXT','INTENT','INTENT_ID']]\n",
    "\n",
    "merged_data = merged_data.rename(columns={'AUG_TEXT':'TEXT'},inplace=False)"
   ]
  },
  {
   "cell_type": "code",
   "execution_count": 99,
   "id": "297447bc",
   "metadata": {},
   "outputs": [],
   "source": [
    "merged_data.to_csv('../data/ATIS/experiments/AT/back_trans/val.tsv',index=False,sep='\\t')"
   ]
  },
  {
   "cell_type": "markdown",
   "id": "4d469501",
   "metadata": {},
   "source": [
    "Merging adversarial and clean examples"
   ]
  },
  {
   "cell_type": "code",
   "execution_count": 135,
   "id": "b6cf9145",
   "metadata": {},
   "outputs": [
    {
     "data": {
      "text/html": [
       "<div>\n",
       "<style scoped>\n",
       "    .dataframe tbody tr th:only-of-type {\n",
       "        vertical-align: middle;\n",
       "    }\n",
       "\n",
       "    .dataframe tbody tr th {\n",
       "        vertical-align: top;\n",
       "    }\n",
       "\n",
       "    .dataframe thead th {\n",
       "        text-align: right;\n",
       "    }\n",
       "</style>\n",
       "<table border=\"1\" class=\"dataframe\">\n",
       "  <thead>\n",
       "    <tr style=\"text-align: right;\">\n",
       "      <th></th>\n",
       "      <th>ID</th>\n",
       "      <th>TEXT</th>\n",
       "      <th>INTENT</th>\n",
       "      <th>INTENT_ID</th>\n",
       "    </tr>\n",
       "  </thead>\n",
       "  <tbody>\n",
       "    <tr>\n",
       "      <th>0</th>\n",
       "      <td>3997</td>\n",
       "      <td>what ground transportation is available in denver</td>\n",
       "      <td>atis_ground_service</td>\n",
       "      <td>13</td>\n",
       "    </tr>\n",
       "    <tr>\n",
       "      <th>1</th>\n",
       "      <td>3026</td>\n",
       "      <td>show me fares from dallas to baltimore that co...</td>\n",
       "      <td>atis_airfare</td>\n",
       "      <td>2</td>\n",
       "    </tr>\n",
       "    <tr>\n",
       "      <th>2</th>\n",
       "      <td>1910</td>\n",
       "      <td>flights on american from phoenix to chicago on...</td>\n",
       "      <td>atis_flight</td>\n",
       "      <td>9</td>\n",
       "    </tr>\n",
       "    <tr>\n",
       "      <th>3</th>\n",
       "      <td>584</td>\n",
       "      <td>i want to arrive in detroit around 6 pm and i'...</td>\n",
       "      <td>atis_flight</td>\n",
       "      <td>9</td>\n",
       "    </tr>\n",
       "    <tr>\n",
       "      <th>4</th>\n",
       "      <td>4254</td>\n",
       "      <td>please list the flights from charlotte to long...</td>\n",
       "      <td>atis_flight</td>\n",
       "      <td>9</td>\n",
       "    </tr>\n",
       "  </tbody>\n",
       "</table>\n",
       "</div>"
      ],
      "text/plain": [
       "     ID                                               TEXT  \\\n",
       "0  3997  what ground transportation is available in denver   \n",
       "1  3026  show me fares from dallas to baltimore that co...   \n",
       "2  1910  flights on american from phoenix to chicago on...   \n",
       "3   584  i want to arrive in detroit around 6 pm and i'...   \n",
       "4  4254  please list the flights from charlotte to long...   \n",
       "\n",
       "                INTENT  INTENT_ID  \n",
       "0  atis_ground_service         13  \n",
       "1         atis_airfare          2  \n",
       "2          atis_flight          9  \n",
       "3          atis_flight          9  \n",
       "4          atis_flight          9  "
      ]
     },
     "execution_count": 135,
     "metadata": {},
     "output_type": "execute_result"
    }
   ],
   "source": [
    "orig_train = pd.read_csv('../data/ATIS/experiments/clean/train/train.tsv',sep='\\t')\n",
    "orig_train.head()"
   ]
  },
  {
   "cell_type": "code",
   "execution_count": 136,
   "id": "4cce3cb5",
   "metadata": {},
   "outputs": [
    {
     "data": {
      "text/plain": [
       "4478"
      ]
     },
     "execution_count": 136,
     "metadata": {},
     "output_type": "execute_result"
    }
   ],
   "source": [
    "len(orig_train)"
   ]
  },
  {
   "cell_type": "code",
   "execution_count": 137,
   "id": "3615c5c8",
   "metadata": {},
   "outputs": [
    {
     "data": {
      "text/html": [
       "<div>\n",
       "<style scoped>\n",
       "    .dataframe tbody tr th:only-of-type {\n",
       "        vertical-align: middle;\n",
       "    }\n",
       "\n",
       "    .dataframe tbody tr th {\n",
       "        vertical-align: top;\n",
       "    }\n",
       "\n",
       "    .dataframe thead th {\n",
       "        text-align: right;\n",
       "    }\n",
       "</style>\n",
       "<table border=\"1\" class=\"dataframe\">\n",
       "  <thead>\n",
       "    <tr style=\"text-align: right;\">\n",
       "      <th></th>\n",
       "      <th>ID</th>\n",
       "      <th>TEXT</th>\n",
       "      <th>INTENT</th>\n",
       "      <th>INTENT_ID</th>\n",
       "    </tr>\n",
       "  </thead>\n",
       "  <tbody>\n",
       "    <tr>\n",
       "      <th>0</th>\n",
       "      <td>0</td>\n",
       "      <td>What ground transportation options are there i...</td>\n",
       "      <td>atis_ground_service</td>\n",
       "      <td>13</td>\n",
       "    </tr>\n",
       "    <tr>\n",
       "      <th>1</th>\n",
       "      <td>0</td>\n",
       "      <td>What are the ground transportation options in ...</td>\n",
       "      <td>atis_ground_service</td>\n",
       "      <td>13</td>\n",
       "    </tr>\n",
       "    <tr>\n",
       "      <th>2</th>\n",
       "      <td>0</td>\n",
       "      <td>What ground transportation options are availab...</td>\n",
       "      <td>atis_ground_service</td>\n",
       "      <td>13</td>\n",
       "    </tr>\n",
       "    <tr>\n",
       "      <th>3</th>\n",
       "      <td>0</td>\n",
       "      <td>What ground transportation options exist in De...</td>\n",
       "      <td>atis_ground_service</td>\n",
       "      <td>13</td>\n",
       "    </tr>\n",
       "    <tr>\n",
       "      <th>4</th>\n",
       "      <td>0</td>\n",
       "      <td>What means of ground transportation are availa...</td>\n",
       "      <td>atis_ground_service</td>\n",
       "      <td>13</td>\n",
       "    </tr>\n",
       "  </tbody>\n",
       "</table>\n",
       "</div>"
      ],
      "text/plain": [
       "   ID                                               TEXT               INTENT  \\\n",
       "0   0  What ground transportation options are there i...  atis_ground_service   \n",
       "1   0  What are the ground transportation options in ...  atis_ground_service   \n",
       "2   0  What ground transportation options are availab...  atis_ground_service   \n",
       "3   0  What ground transportation options exist in De...  atis_ground_service   \n",
       "4   0  What means of ground transportation are availa...  atis_ground_service   \n",
       "\n",
       "   INTENT_ID  \n",
       "0         13  \n",
       "1         13  \n",
       "2         13  \n",
       "3         13  \n",
       "4         13  "
      ]
     },
     "execution_count": 137,
     "metadata": {},
     "output_type": "execute_result"
    }
   ],
   "source": [
    "aug_train = pd.read_csv('../data/ATIS/experiments/AT/back_trans/train.tsv',sep='\\t')\n",
    "aug_train.head()"
   ]
  },
  {
   "cell_type": "code",
   "execution_count": 138,
   "id": "8050e29a",
   "metadata": {},
   "outputs": [],
   "source": [
    "X_train, X_test, y_train, y_test = train_test_split(aug_train, aug_train['ID'], test_size=0.025, random_state=1)"
   ]
  },
  {
   "cell_type": "code",
   "execution_count": 139,
   "id": "e418b60a",
   "metadata": {},
   "outputs": [
    {
     "data": {
      "text/plain": [
       "(226683, 232496, 5813)"
      ]
     },
     "execution_count": 139,
     "metadata": {},
     "output_type": "execute_result"
    }
   ],
   "source": [
    "len(X_train),len(aug_train), len(X_test)"
   ]
  },
  {
   "cell_type": "code",
   "execution_count": 140,
   "id": "482d7382",
   "metadata": {},
   "outputs": [
    {
     "data": {
      "text/plain": [
       "(4478, 10291)"
      ]
     },
     "execution_count": 140,
     "metadata": {},
     "output_type": "execute_result"
    }
   ],
   "source": [
    "final_train = pd.concat([orig_train,X_test])\n",
    "len(orig_train),len(final_train)"
   ]
  },
  {
   "cell_type": "code",
   "execution_count": 142,
   "id": "0b6d38c0",
   "metadata": {},
   "outputs": [
    {
     "data": {
      "text/plain": [
       "10291"
      ]
     },
     "execution_count": 142,
     "metadata": {},
     "output_type": "execute_result"
    }
   ],
   "source": [
    "final_train = final_train.sample(frac=1)\n",
    "len(final_train)"
   ]
  },
  {
   "cell_type": "code",
   "execution_count": 143,
   "id": "b2e8d962",
   "metadata": {},
   "outputs": [],
   "source": [
    "final_train.to_csv('../data/ATIS/experiments/AT/back_trans/merged_train.tsv',index=False,sep='\\t')"
   ]
  },
  {
   "cell_type": "markdown",
   "id": "3278cd76",
   "metadata": {},
   "source": [
    "Merging adversarial and clean examples : val"
   ]
  },
  {
   "cell_type": "code",
   "execution_count": 144,
   "id": "7913e887",
   "metadata": {},
   "outputs": [
    {
     "data": {
      "text/html": [
       "<div>\n",
       "<style scoped>\n",
       "    .dataframe tbody tr th:only-of-type {\n",
       "        vertical-align: middle;\n",
       "    }\n",
       "\n",
       "    .dataframe tbody tr th {\n",
       "        vertical-align: top;\n",
       "    }\n",
       "\n",
       "    .dataframe thead th {\n",
       "        text-align: right;\n",
       "    }\n",
       "</style>\n",
       "<table border=\"1\" class=\"dataframe\">\n",
       "  <thead>\n",
       "    <tr style=\"text-align: right;\">\n",
       "      <th></th>\n",
       "      <th>ID</th>\n",
       "      <th>TEXT</th>\n",
       "      <th>INTENT</th>\n",
       "      <th>INTENT_ID</th>\n",
       "    </tr>\n",
       "  </thead>\n",
       "  <tbody>\n",
       "    <tr>\n",
       "      <th>0</th>\n",
       "      <td>0</td>\n",
       "      <td>i want to fly from boston at 838 am and arrive...</td>\n",
       "      <td>atis_flight</td>\n",
       "      <td>9</td>\n",
       "    </tr>\n",
       "    <tr>\n",
       "      <th>1</th>\n",
       "      <td>1</td>\n",
       "      <td>show me all round trip flights between houston...</td>\n",
       "      <td>atis_flight</td>\n",
       "      <td>9</td>\n",
       "    </tr>\n",
       "    <tr>\n",
       "      <th>2</th>\n",
       "      <td>2</td>\n",
       "      <td>i would like some information on a flight from...</td>\n",
       "      <td>atis_flight</td>\n",
       "      <td>9</td>\n",
       "    </tr>\n",
       "    <tr>\n",
       "      <th>3</th>\n",
       "      <td>3</td>\n",
       "      <td>what are the coach flights between dallas and ...</td>\n",
       "      <td>atis_flight</td>\n",
       "      <td>9</td>\n",
       "    </tr>\n",
       "    <tr>\n",
       "      <th>4</th>\n",
       "      <td>4</td>\n",
       "      <td>i'm flying from boston to the bay area</td>\n",
       "      <td>atis_flight</td>\n",
       "      <td>9</td>\n",
       "    </tr>\n",
       "  </tbody>\n",
       "</table>\n",
       "</div>"
      ],
      "text/plain": [
       "   ID                                               TEXT       INTENT  \\\n",
       "0   0  i want to fly from boston at 838 am and arrive...  atis_flight   \n",
       "1   1  show me all round trip flights between houston...  atis_flight   \n",
       "2   2  i would like some information on a flight from...  atis_flight   \n",
       "3   3  what are the coach flights between dallas and ...  atis_flight   \n",
       "4   4             i'm flying from boston to the bay area  atis_flight   \n",
       "\n",
       "   INTENT_ID  \n",
       "0          9  \n",
       "1          9  \n",
       "2          9  \n",
       "3          9  \n",
       "4          9  "
      ]
     },
     "execution_count": 144,
     "metadata": {},
     "output_type": "execute_result"
    }
   ],
   "source": [
    "orig_val = pd.read_csv('../data/ATIS/experiments/clean/dev/dev.tsv',sep='\\t')\n",
    "orig_val.head()"
   ]
  },
  {
   "cell_type": "code",
   "execution_count": 145,
   "id": "2620c646",
   "metadata": {},
   "outputs": [
    {
     "data": {
      "text/html": [
       "<div>\n",
       "<style scoped>\n",
       "    .dataframe tbody tr th:only-of-type {\n",
       "        vertical-align: middle;\n",
       "    }\n",
       "\n",
       "    .dataframe tbody tr th {\n",
       "        vertical-align: top;\n",
       "    }\n",
       "\n",
       "    .dataframe thead th {\n",
       "        text-align: right;\n",
       "    }\n",
       "</style>\n",
       "<table border=\"1\" class=\"dataframe\">\n",
       "  <thead>\n",
       "    <tr style=\"text-align: right;\">\n",
       "      <th></th>\n",
       "      <th>ID</th>\n",
       "      <th>TEXT</th>\n",
       "      <th>INTENT</th>\n",
       "      <th>INTENT_ID</th>\n",
       "    </tr>\n",
       "  </thead>\n",
       "  <tbody>\n",
       "    <tr>\n",
       "      <th>0</th>\n",
       "      <td>0</td>\n",
       "      <td>I plan to fly from Boston at 838 and arrive in...</td>\n",
       "      <td>atis_flight</td>\n",
       "      <td>9</td>\n",
       "    </tr>\n",
       "    <tr>\n",
       "      <th>1</th>\n",
       "      <td>0</td>\n",
       "      <td>I would like to fly from Boston at 838 and arr...</td>\n",
       "      <td>atis_flight</td>\n",
       "      <td>9</td>\n",
       "    </tr>\n",
       "    <tr>\n",
       "      <th>2</th>\n",
       "      <td>0</td>\n",
       "      <td>I want to fly from Boston at 838 and arrive in...</td>\n",
       "      <td>atis_flight</td>\n",
       "      <td>9</td>\n",
       "    </tr>\n",
       "    <tr>\n",
       "      <th>3</th>\n",
       "      <td>0</td>\n",
       "      <td>I want to fly from Boston at 838 and arrive in...</td>\n",
       "      <td>atis_flight</td>\n",
       "      <td>9</td>\n",
       "    </tr>\n",
       "    <tr>\n",
       "      <th>4</th>\n",
       "      <td>0</td>\n",
       "      <td>I would like to fly from Boston at 838 and arr...</td>\n",
       "      <td>atis_flight</td>\n",
       "      <td>9</td>\n",
       "    </tr>\n",
       "  </tbody>\n",
       "</table>\n",
       "</div>"
      ],
      "text/plain": [
       "   ID                                               TEXT       INTENT  \\\n",
       "0   0  I plan to fly from Boston at 838 and arrive in...  atis_flight   \n",
       "1   0  I would like to fly from Boston at 838 and arr...  atis_flight   \n",
       "2   0  I want to fly from Boston at 838 and arrive in...  atis_flight   \n",
       "3   0  I want to fly from Boston at 838 and arrive in...  atis_flight   \n",
       "4   0  I would like to fly from Boston at 838 and arr...  atis_flight   \n",
       "\n",
       "   INTENT_ID  \n",
       "0          9  \n",
       "1          9  \n",
       "2          9  \n",
       "3          9  \n",
       "4          9  "
      ]
     },
     "execution_count": 145,
     "metadata": {},
     "output_type": "execute_result"
    }
   ],
   "source": [
    "aug_val = pd.read_csv('../data/ATIS/experiments/AT/back_trans/val.tsv',sep='\\t')\n",
    "aug_val.head()"
   ]
  },
  {
   "cell_type": "code",
   "execution_count": 146,
   "id": "df1d0491",
   "metadata": {},
   "outputs": [],
   "source": [
    "X_train, X_test, y_train, y_test = train_test_split(aug_val, aug_val['ID'], test_size=0.025, random_state=1)"
   ]
  },
  {
   "cell_type": "code",
   "execution_count": 147,
   "id": "542766a9",
   "metadata": {},
   "outputs": [
    {
     "data": {
      "text/plain": [
       "(25502, 232496, 654)"
      ]
     },
     "execution_count": 147,
     "metadata": {},
     "output_type": "execute_result"
    }
   ],
   "source": [
    "len(X_train),len(aug_train), len(X_test)"
   ]
  },
  {
   "cell_type": "code",
   "execution_count": 148,
   "id": "79aeb6a8",
   "metadata": {},
   "outputs": [
    {
     "data": {
      "text/plain": [
       "1154"
      ]
     },
     "execution_count": 148,
     "metadata": {},
     "output_type": "execute_result"
    }
   ],
   "source": [
    "final_val = pd.concat([orig_val,X_test])\n",
    "len(final_val)"
   ]
  },
  {
   "cell_type": "code",
   "execution_count": 149,
   "id": "56d60c03",
   "metadata": {},
   "outputs": [],
   "source": [
    "final_val = final_val.sample(frac=1)"
   ]
  },
  {
   "cell_type": "code",
   "execution_count": 150,
   "id": "1909608a",
   "metadata": {},
   "outputs": [],
   "source": [
    "final_val.to_csv('../data/ATIS/experiments/AT/back_trans/merged_val.tsv',index=False,sep='\\t')"
   ]
  },
  {
   "cell_type": "markdown",
   "id": "d41aceae",
   "metadata": {},
   "source": [
    "# Adversarial train/val set processing for SNIPS"
   ]
  },
  {
   "cell_type": "code",
   "execution_count": 161,
   "id": "ecae831d",
   "metadata": {},
   "outputs": [],
   "source": [
    "orig_train = pd.read_csv('../data/SNIPS/experiments/clean/train/train.tsv',sep='\\t')\n",
    "orig_train['ID'] = list(range(len(orig_train)))"
   ]
  },
  {
   "cell_type": "code",
   "execution_count": 162,
   "id": "c2c9c91c",
   "metadata": {},
   "outputs": [],
   "source": [
    "# de train\n",
    "aug_train_de_1 = pd.read_csv('../data/SNIPS/experiments/AT/back_trans/train/de/train_fbwmt19_de_N3_F16_B16.tsv',header=None,names=['ID','TEXT','AUG_TEXT'],sep='\\t')\n",
    "aug_train_de_2 = pd.read_csv('../data/SNIPS/experiments/AT/back_trans/train/de/train_fbwmt19_de_N3_F1_B1.tsv', header=None,names=['ID','TEXT','AUG_TEXT'], sep='\\t')\n",
    "aug_train_de_3 = pd.read_csv('../data/SNIPS/experiments/AT/back_trans/train/de/train_fbwmt19_de_N3_F4_B4.tsv', header=None,names=['ID','TEXT','AUG_TEXT'], sep='\\t')\n",
    "aug_train_de_4 = pd.read_csv('../data/SNIPS/experiments/AT/back_trans/train/de/train_fbwmt19_de_N3_F64_B64.tsv', header=None,names=['ID','TEXT','AUG_TEXT'], sep='\\t')\n",
    "\n",
    "# ru train\n",
    "\n",
    "aug_train_ru_1 = pd.read_csv('../data/SNIPS/experiments/AT/back_trans/train/ru/train_fbwmt19_ru_N3_F16_B16.tsv', header=None,names=['ID','TEXT','AUG_TEXT'], sep='\\t')\n",
    "aug_train_ru_2 = pd.read_csv('../data/SNIPS/experiments/AT/back_trans/train/ru/train_fbwmt19_ru_N3_F1_B1.tsv', header=None,names=['ID','TEXT','AUG_TEXT'], sep='\\t')\n",
    "aug_train_ru_3 = pd.read_csv('../data/SNIPS/experiments/AT/back_trans/train/ru/train_fbwmt19_ru_N3_F4_B4.tsv', header=None,names=['ID','TEXT','AUG_TEXT'], sep='\\t')\n",
    "aug_train_ru_4 = pd.read_csv('../data/SNIPS/experiments/AT/back_trans/train/ru/train_fbwmt19_ru_N3_F64_B64.tsv', header=None,names=['ID','TEXT','AUG_TEXT'], sep='\\t')"
   ]
  },
  {
   "cell_type": "code",
   "execution_count": 163,
   "id": "71e85570",
   "metadata": {},
   "outputs": [],
   "source": [
    "aug_train = pd.concat([aug_train_de_1,aug_train_de_2,aug_train_de_3,aug_train_de_4,\n",
    "                       aug_train_ru_1,aug_train_ru_2,aug_train_ru_3,aug_train_ru_4])\n",
    "\n",
    "merged_data = pd.merge(aug_train,orig_train,on='ID')"
   ]
  },
  {
   "cell_type": "code",
   "execution_count": 164,
   "id": "d8f9b1e6",
   "metadata": {},
   "outputs": [],
   "source": [
    "merged_data = merged_data[['ID','AUG_TEXT','INTENT','INTENT_ID']]"
   ]
  },
  {
   "cell_type": "code",
   "execution_count": 165,
   "id": "cb00052c",
   "metadata": {},
   "outputs": [
    {
     "data": {
      "text/html": [
       "<div>\n",
       "<style scoped>\n",
       "    .dataframe tbody tr th:only-of-type {\n",
       "        vertical-align: middle;\n",
       "    }\n",
       "\n",
       "    .dataframe tbody tr th {\n",
       "        vertical-align: top;\n",
       "    }\n",
       "\n",
       "    .dataframe thead th {\n",
       "        text-align: right;\n",
       "    }\n",
       "</style>\n",
       "<table border=\"1\" class=\"dataframe\">\n",
       "  <thead>\n",
       "    <tr style=\"text-align: right;\">\n",
       "      <th></th>\n",
       "      <th>ID</th>\n",
       "      <th>AUG_TEXT</th>\n",
       "      <th>INTENT</th>\n",
       "      <th>INTENT_ID</th>\n",
       "    </tr>\n",
       "  </thead>\n",
       "  <tbody>\n",
       "    <tr>\n",
       "      <th>0</th>\n",
       "      <td>0</td>\n",
       "      <td>Music from the year 2014</td>\n",
       "      <td>PlayMusic</td>\n",
       "      <td>3</td>\n",
       "    </tr>\n",
       "    <tr>\n",
       "      <th>1</th>\n",
       "      <td>0</td>\n",
       "      <td>play music of 2014</td>\n",
       "      <td>PlayMusic</td>\n",
       "      <td>3</td>\n",
       "    </tr>\n",
       "    <tr>\n",
       "      <th>2</th>\n",
       "      <td>0</td>\n",
       "      <td>Music of the Year 2014</td>\n",
       "      <td>PlayMusic</td>\n",
       "      <td>3</td>\n",
       "    </tr>\n",
       "    <tr>\n",
       "      <th>3</th>\n",
       "      <td>0</td>\n",
       "      <td>play music from the year 2014</td>\n",
       "      <td>PlayMusic</td>\n",
       "      <td>3</td>\n",
       "    </tr>\n",
       "    <tr>\n",
       "      <th>4</th>\n",
       "      <td>0</td>\n",
       "      <td>Music from the Year 2014</td>\n",
       "      <td>PlayMusic</td>\n",
       "      <td>3</td>\n",
       "    </tr>\n",
       "  </tbody>\n",
       "</table>\n",
       "</div>"
      ],
      "text/plain": [
       "   ID                       AUG_TEXT     INTENT  INTENT_ID\n",
       "0   0       Music from the year 2014  PlayMusic          3\n",
       "1   0             play music of 2014  PlayMusic          3\n",
       "2   0         Music of the Year 2014  PlayMusic          3\n",
       "3   0  play music from the year 2014  PlayMusic          3\n",
       "4   0       Music from the Year 2014  PlayMusic          3"
      ]
     },
     "execution_count": 165,
     "metadata": {},
     "output_type": "execute_result"
    }
   ],
   "source": [
    "merged_data.head()"
   ]
  },
  {
   "cell_type": "code",
   "execution_count": 166,
   "id": "fcbd7f69",
   "metadata": {},
   "outputs": [],
   "source": [
    "merged_data = merged_data.rename(columns={'AUG_TEXT':'TEXT'},inplace=False)"
   ]
  },
  {
   "cell_type": "code",
   "execution_count": 167,
   "id": "ad3d0b2b",
   "metadata": {},
   "outputs": [],
   "source": [
    "merged_data.to_csv('../data/SNIPS/experiments/AT/back_trans/train.tsv',index=False,sep='\\t')"
   ]
  },
  {
   "cell_type": "code",
   "execution_count": 168,
   "id": "d456199c",
   "metadata": {},
   "outputs": [
    {
     "name": "stdout",
     "output_type": "stream",
     "text": [
      "721667 740172 18505\n",
      "13084 31589\n",
      "31589\n"
     ]
    }
   ],
   "source": [
    "orig_train = pd.read_csv('../data/SNIPS/experiments/clean/train/train.tsv',sep='\\t')\n",
    "aug_train = pd.read_csv('../data/SNIPS/experiments/AT/back_trans/train.tsv',sep='\\t')\n",
    "\n",
    "X_train, X_test, y_train, y_test = train_test_split(aug_train, aug_train['ID'], test_size=0.025, random_state=1)\n",
    "\n",
    "print(len(X_train),len(aug_train), len(X_test))\n",
    "\n",
    "final_train = pd.concat([orig_train,X_test])\n",
    "print(len(orig_train),len(final_train))\n",
    "\n",
    "final_train = final_train.sample(frac=1)\n",
    "print(len(final_train))\n",
    "\n",
    "final_train.to_csv('../data/SNIPS/experiments/AT/back_trans/merged_train.tsv',index=False,sep='\\t')"
   ]
  },
  {
   "cell_type": "markdown",
   "id": "4fa82064",
   "metadata": {},
   "source": [
    "Processing validation set"
   ]
  },
  {
   "cell_type": "code",
   "execution_count": 170,
   "id": "cecc5726",
   "metadata": {},
   "outputs": [],
   "source": [
    "orig_val = pd.read_csv('../data/SNIPS/experiments/clean/dev/dev.tsv',sep='\\t')"
   ]
  },
  {
   "cell_type": "code",
   "execution_count": 171,
   "id": "eba4357a",
   "metadata": {},
   "outputs": [],
   "source": [
    "orig_val['ID'] = list(range(len(orig_val)))"
   ]
  },
  {
   "cell_type": "code",
   "execution_count": 172,
   "id": "44f52b46",
   "metadata": {},
   "outputs": [],
   "source": [
    "# de val\n",
    "aug_val_de_1 = pd.read_csv('../data/SNIPS/experiments/AT/back_trans/dev/de/dev_fbwmt19_de_N3_F16_B16.tsv',header=None,names=['ID','TEXT','AUG_TEXT'],sep='\\t')\n",
    "aug_val_de_2 = pd.read_csv('../data/SNIPS/experiments/AT/back_trans/dev/de/dev_fbwmt19_de_N3_F1_B1.tsv', header=None,names=['ID','TEXT','AUG_TEXT'], sep='\\t')\n",
    "aug_val_de_3 = pd.read_csv('../data/SNIPS/experiments/AT/back_trans/dev/de/dev_fbwmt19_de_N3_F4_B4.tsv', header=None,names=['ID','TEXT','AUG_TEXT'], sep='\\t')\n",
    "aug_val_de_4 = pd.read_csv('../data/SNIPS/experiments/AT/back_trans/dev/de/dev_fbwmt19_de_N3_F64_B64.tsv', header=None,names=['ID','TEXT','AUG_TEXT'], sep='\\t')\n",
    "\n",
    "# ru val\n",
    "\n",
    "aug_val_ru_1 = pd.read_csv('../data/SNIPS/experiments/AT/back_trans/dev/ru/dev_fbwmt19_ru_N3_F16_B16.tsv', header=None,names=['ID','TEXT','AUG_TEXT'], sep='\\t')\n",
    "aug_val_ru_2 = pd.read_csv('../data/SNIPS/experiments/AT/back_trans/dev/ru/dev_fbwmt19_ru_N3_F1_B1.tsv', header=None,names=['ID','TEXT','AUG_TEXT'], sep='\\t')\n",
    "aug_val_ru_3 = pd.read_csv('../data/SNIPS/experiments/AT/back_trans/dev/ru/dev_fbwmt19_ru_N3_F4_B4.tsv', header=None,names=['ID','TEXT','AUG_TEXT'], sep='\\t')\n",
    "aug_val_ru_4 = pd.read_csv('../data/SNIPS/experiments/AT/back_trans/dev/ru/dev_fbwmt19_ru_N3_F64_B64.tsv', header=None,names=['ID','TEXT','AUG_TEXT'], sep='\\t')"
   ]
  },
  {
   "cell_type": "code",
   "execution_count": 173,
   "id": "b4fb020f",
   "metadata": {},
   "outputs": [],
   "source": [
    "aug_val = pd.concat([aug_val_de_1,aug_val_de_2,aug_val_de_3,aug_val_de_4,\n",
    "                       aug_val_ru_1,aug_val_ru_2,aug_val_ru_3,aug_val_ru_4])\n",
    "\n",
    "merged_data = pd.merge(orig_val, aug_val, how='inner')"
   ]
  },
  {
   "cell_type": "code",
   "execution_count": 174,
   "id": "ffa4b800",
   "metadata": {},
   "outputs": [],
   "source": [
    "merged_data = merged_data[['ID','AUG_TEXT','INTENT','INTENT_ID']]\n",
    "\n",
    "merged_data = merged_data.rename(columns={'AUG_TEXT':'TEXT'},inplace=False)"
   ]
  },
  {
   "cell_type": "code",
   "execution_count": 175,
   "id": "d21f4dca",
   "metadata": {},
   "outputs": [],
   "source": [
    "merged_data.to_csv('../data/SNIPS/experiments/AT/back_trans/val.tsv',index=False,sep='\\t')"
   ]
  },
  {
   "cell_type": "code",
   "execution_count": null,
   "id": "cc0192a5",
   "metadata": {},
   "outputs": [],
   "source": [
    "orig_train = pd.read_csv('../data/SNIPS/experiments/clean/dev/dev.tsv',sep='\\t')\n",
    "aug_train = pd.read_csv('../data/SNIPS/experiments/AT/back_trans/val.tsv',sep='\\t')\n",
    "\n",
    "X_train, X_test, y_train, y_test = train_test_split(aug_train, aug_train['ID'], test_size=0.025, random_state=1)\n",
    "\n",
    "print(len(X_train),len(aug_train), len(X_test))\n",
    "\n",
    "final_train = pd.concat([orig_train,X_test])\n",
    "print(len(orig_train),len(final_train))\n",
    "\n",
    "final_train = final_train.sample(frac=1)\n",
    "print(len(final_train))\n",
    "\n",
    "final_train.to_csv('../data/SNIPS/experiments/AT/back_trans/merged_val.tsv',index=False,sep='\\t')"
   ]
  }
 ],
 "metadata": {
  "kernelspec": {
   "display_name": "Python 3",
   "language": "python",
   "name": "python3"
  },
  "language_info": {
   "codemirror_mode": {
    "name": "ipython",
    "version": 3
   },
   "file_extension": ".py",
   "mimetype": "text/x-python",
   "name": "python",
   "nbconvert_exporter": "python",
   "pygments_lexer": "ipython3",
   "version": "3.8.8"
  }
 },
 "nbformat": 4,
 "nbformat_minor": 5
}
